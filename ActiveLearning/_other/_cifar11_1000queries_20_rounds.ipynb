{
 "cells": [
  {
   "cell_type": "markdown",
   "metadata": {},
   "source": [
    "# Active Learning with Pixano - CIFAR11 Dataset"
   ]
  },
  {
   "cell_type": "markdown",
   "metadata": {},
   "source": [
    "***!NOTE : Before running this notebook, set the values to initialize the following variables***"
   ]
  },
  {
   "cell_type": "markdown",
   "metadata": {},
   "source": [
    "### Configuration variables"
   ]
  },
  {
   "cell_type": "code",
   "execution_count": 1,
   "metadata": {},
   "outputs": [],
   "source": [
    "# The root dir name of the current repo (i.e. pixano or pixano-main etc.)\n",
    "ROOTDIR='pixano'\n",
    "# name of the dataset as defined in \"1.convert_dataset_2_explorer.ipynb\"\n",
    "DATASET_NAME=\"CIFAR11_guns_pixano_v1\"\n",
    "# directory where CIFAR11 dataset is downloaded using Notebook \"1.convert_dataset_2_explorer.ipynb\"\n",
    "datasets_dir=\"/home/melissap/Desktop/LAGO/3.githubs/integration/datasets/CIFAR11\"\n",
    "# the pixano datasets dir. It is the directory in which the transformed mnist dataset will be saved to be used by Pixano\n",
    "library_dir='/home/melissap/_pixano_datasets_'\n",
    "# conda env name builded for running the active learning module as a separate program\n",
    "customLearnerCondaEnv=\"customLearner\"\n",
    "# ActiveLearning module's directory\n",
    "ALModule=\"ActiveLearning\""
   ]
  },
  {
   "cell_type": "markdown",
   "metadata": {},
   "source": [
    "### internal experimental variables (that could be defined by the user)"
   ]
  },
  {
   "cell_type": "code",
   "execution_count": 2,
   "metadata": {},
   "outputs": [],
   "source": [
    "labels_per_round=1000\n",
    "numInitLabels = labels_per_round\n",
    "learning_rate=0.001\n",
    "max_epochs_per_round=100\n",
    "model_name=\"resnet18\" \n",
    "strategy=\"CoreSet\" #i.e. other alternatives may be : EntropySampling #RandomSampling"
   ]
  },
  {
   "cell_type": "markdown",
   "metadata": {},
   "source": [
    "### External experimental variables"
   ]
  },
  {
   "cell_type": "code",
   "execution_count": 3,
   "metadata": {},
   "outputs": [],
   "source": [
    "num_rounds = 20"
   ]
  },
  {
   "cell_type": "markdown",
   "metadata": {},
   "source": [
    "***... the rest of the notebook should run without any code adjustments/modifications.***"
   ]
  },
  {
   "cell_type": "markdown",
   "metadata": {},
   "source": [
    "# 1.Create the dataset"
   ]
  },
  {
   "cell_type": "code",
   "execution_count": 4,
   "metadata": {},
   "outputs": [
    {
     "data": {
      "text/plain": [
       "'\\nIn this notebook we will convert the CIFAR10 dataset into Pixano Format\\nand we will augment the dataset by one more class (guns) using the G\\n\\n!Note: For running, activate the pixano env\\n'"
      ]
     },
     "execution_count": 4,
     "metadata": {},
     "output_type": "execute_result"
    }
   ],
   "source": [
    "\"\"\"\n",
    "In this notebook we will convert the CIFAR10 dataset into Pixano Format\n",
    "and we will augment the dataset by one more class (guns) using the G\n",
    "\n",
    "!Note: For running, activate the pixano env\n",
    "\"\"\""
   ]
  },
  {
   "cell_type": "code",
   "execution_count": 4,
   "metadata": {},
   "outputs": [
    {
     "name": "stdout",
     "output_type": "stream",
     "text": [
      "Inserting parent dir :  /home/melissap/Desktop/LAGO_43integrationDemo/pixano\n"
     ]
    }
   ],
   "source": [
    "# func for importing ROOT dir to import pixano root module , which is the pixano directory\n",
    "import os\n",
    "import sys\n",
    "\n",
    "def insertRootDir(ROOTDIR='pixano'):\n",
    "    pardir=os.path.dirname(os.path.realpath('__file__'))\n",
    "\n",
    "    found = False\n",
    "    potential_root_dir = os.path.basename(os.path.dirname(os.path.dirname(os.path.dirname(os.path.dirname(os.path.realpath('__file__'))))))\n",
    "\n",
    "    while(os.path.basename(pardir)!=ROOTDIR):\n",
    "\n",
    "        # print(pardir)\n",
    "        pardir=os.path.dirname(pardir)\n",
    "        \n",
    "\n",
    "        if (os.path.basename(pardir) == ROOTDIR):\n",
    "            found = True\n",
    "            break\n",
    "        if (pardir == \"/\" ):\n",
    "            break\n",
    "    \n",
    "    if found:\n",
    "        print(\"Inserting parent dir : \",pardir)\n",
    "        sys.path.insert(0,pardir)\n",
    "        return pardir\n",
    "    else:\n",
    "        print(f\"ROOTDIR NOT FOUND. You may have to change ROOTDIR variable from : '{ROOTDIR}' to '{potential_root_dir}'\")\n",
    "        return \"_NOT_FOUND_\"\n",
    "\n",
    "ROOTDIR = insertRootDir(ROOTDIR)"
   ]
  },
  {
   "cell_type": "code",
   "execution_count": 5,
   "metadata": {},
   "outputs": [
    {
     "name": "stdout",
     "output_type": "stream",
     "text": [
      "/home/melissap/miniconda3/envs/pixano_env/lib/python3.10/site-packages/pixano/apps/explorer/dist/assets\n"
     ]
    }
   ],
   "source": [
    "ALModuleDir = os.path.join(ROOTDIR,ALModule)\n",
    "\n",
    "from pathlib import Path\n",
    "import shutil\n",
    "import random\n",
    "import numpy as np\n",
    "import pandas as pd\n",
    "from PIL import Image\n",
    "from torchvision import datasets\n",
    "from dowload_GunDataset import getGunDataset\n",
    "import lancedb\n",
    "import pyarrow as pa\n",
    "\n",
    "from ActiveLearning.ALearner import (\n",
    "    Learner,\n",
    "    BaseAnnotator,\n",
    "    BaseSampler,\n",
    "    BaseTrainer,\n",
    "    getLabels,\n",
    "    getLabelledIds,\n",
    "    getUnlabelledIds,\n",
    "    getTaggedIds,\n",
    "    getLastRound,\n",
    "    ddb_str,\n",
    "    custom_update,\n",
    "    importTestLabels\n",
    ")\n",
    "from pixano.apps import Explorer\n",
    "from pixano.data import ImageImporter\n",
    "from pixano.utils import natural_key\n",
    "from ActiveLearning.customTrainer import customTrainer\n",
    "from ActiveLearning.customSampler import customSampler"
   ]
  },
  {
   "cell_type": "markdown",
   "metadata": {},
   "source": [
    "#### method for downloading the dataset"
   ]
  },
  {
   "cell_type": "code",
   "execution_count": 6,
   "metadata": {},
   "outputs": [],
   "source": [
    "random.seed( 1 )\n",
    "\n",
    "def get_CIFAR11(data_dir):\n",
    "    \"\"\"\n",
    "    function for downloading and storing the dataset to the data_dir\n",
    "    \"\"\"\n",
    "    framecounter = 0 \n",
    "\n",
    "    image_dir = os.path.join(data_dir,\"images\")\n",
    "    annotation_dir = os.path.join(data_dir,\"annotations\")\n",
    "    train_imdir = os.path.join(image_dir,\"train\")\n",
    "    val_imdir = os.path.join(image_dir,\"val\")\n",
    "    test_imdir = os.path.join(image_dir,\"test\")\n",
    "    \n",
    "    raw_downloaDir = os.path.join(data_dir,\"raw_dataset\")\n",
    "    \n",
    "    train_anfile = os.path.join(annotation_dir,\"train.csv\")\n",
    "    val_anfile = os.path.join(annotation_dir,\"val.csv\") # not used\n",
    "    test_anfile = os.path.join(annotation_dir,\"test.csv\")\n",
    "    \n",
    "    # if True:\n",
    "    if os.path.isdir(image_dir) and os.path.isdir(annotation_dir):\n",
    "        # dataset is already downloaded\n",
    "        pass\n",
    "    else: \n",
    "        try:\n",
    "            os.makedirs(image_dir)\n",
    "            os.makedirs(annotation_dir)\n",
    "            os.makedirs(train_imdir)\n",
    "            os.makedirs(val_imdir)\n",
    "            os.makedirs(test_imdir)\n",
    "        except:\n",
    "            pass\n",
    "        \n",
    "        print(f\"Creating CIFAR11\")\n",
    "\n",
    "        # GET CIFAR10\n",
    "        raw_tr = datasets.CIFAR10(raw_downloaDir, train=True, download=True)\n",
    "        raw_te = datasets.CIFAR10(raw_downloaDir, train=False, download=True)\n",
    "        CF_X_tr = raw_tr.data\n",
    "        CF_Y_tr = raw_tr.targets\n",
    "        CF_X_te = raw_te.data\n",
    "        CF_Y_te = raw_te.targets\n",
    "\n",
    "        destination_tar = os.path.join(data_dir,\"gun-dataset.tar.gz\")\n",
    "        \n",
    "        # download the guns dataset\n",
    "        GN_dataset_dir = getGunDataset(destination_tar)\n",
    "        GN_tr_dir = os.path.join(GN_dataset_dir,\"train\")\n",
    "        GN_te_dir = os.path.join(GN_dataset_dir,\"test\")\n",
    "\n",
    "        # convert guns dataset - read, resize, to_numpy\n",
    "        GN_X_tr = [np.array(Image.open(os.path.join(GN_tr_dir,im)).resize((32,32), Image.Resampling.LANCZOS)) for im in os.listdir(GN_tr_dir)]\n",
    "        GN_X_te = [np.array(Image.open(os.path.join(GN_te_dir,im)).resize((32,32), Image.Resampling.LANCZOS)) for im in os.listdir(GN_te_dir)]\n",
    "        GN_Y_tr = [int(10) for im in range(len(GN_X_tr))] # 10 classes on CIFAR (0 .. 9). The new one, has one-hot encoding equal to number of 10 (the 11th class).\n",
    "        GN_Y_te = [int(10) for im in range(len(GN_X_te))]\n",
    "\n",
    "        # subsampling to make a uniform distribution across all classes, including the new class inserted (i.e. GUNs)\n",
    "        cf_num_classes = 10\n",
    "        tr_num_samples = len(CF_Y_tr) // cf_num_classes # == num samples per class on the training set\n",
    "        tr_subsampling_idxs = random.sample(range(0, len(GN_Y_tr)-1), tr_num_samples ) # apply subsampling on the training set\n",
    "        GN_X_tr = [GN_X_tr[i] for i in tr_subsampling_idxs]\n",
    "        GN_Y_tr = [GN_Y_tr[i] for i in tr_subsampling_idxs]\n",
    "\n",
    "        te_num_samples = len(CF_Y_te) // cf_num_classes # == 1000 samples per class on the testing set\n",
    "        # Testing split requires no subsampling. There are 1000 num samples per class in the CIFAR, and 998 num of samples in the GUNsDataset. Subsampling is skipped.\n",
    "\n",
    "        # merge the two datasets\n",
    "        X_tr = [*CF_X_tr , *GN_X_tr]\n",
    "        Y_tr = [*CF_Y_tr , *GN_Y_tr]\n",
    "        X_te = [*CF_X_te , *GN_X_te]\n",
    "        Y_te = [*CF_Y_te , *GN_Y_te]\n",
    "\n",
    "        # shuffle before saving\n",
    "        tr_shuffled_idxs = list(range(len(Y_tr)))\n",
    "        te_shuffled_idxs = list(range(len(Y_te)))\n",
    "        random.shuffle(tr_shuffled_idxs)\n",
    "        random.shuffle(te_shuffled_idxs)\n",
    "        X_tr = [X_tr[i] for i in tr_shuffled_idxs]\n",
    "        Y_tr = [Y_tr[i] for i in tr_shuffled_idxs]\n",
    "        X_te = [X_te[i] for i in te_shuffled_idxs]\n",
    "        Y_te = [Y_te[i] for i in te_shuffled_idxs]\n",
    "\n",
    "        # store frames\n",
    "        for i in range(len(X_tr)):\n",
    "            x=np.array(X_tr[i])\n",
    "            im = Image.fromarray(x)\n",
    "            savepath = os.path.join(train_imdir,str(framecounter)+\".jpeg\")\n",
    "            im.save(savepath)\n",
    "            framecounter+=1\n",
    "\n",
    "        for i in range(len(X_te)):\n",
    "            x=np.array(X_te[i])\n",
    "            im = Image.fromarray(x)\n",
    "            savepath = os.path.join(test_imdir,str(framecounter)+\".jpeg\")\n",
    "            im.save(savepath)\n",
    "            framecounter+=1\n",
    "\n",
    "        # store annotations\n",
    "        y=pd.DataFrame(np.array(Y_tr))\n",
    "        y.to_csv(train_anfile,index=False)\n",
    "            \n",
    "        y=pd.DataFrame(np.array(Y_te))\n",
    "        y.to_csv(test_anfile,index=False)\n",
    "\n",
    "        # remove raw data\n",
    "        shutil.rmtree(raw_downloaDir)\n",
    "        shutil.rmtree(GN_dataset_dir)\n",
    "        print(f'Dataset succesfull downoladed within {data_dir}, framecounter = {framecounter}')"
   ]
  },
  {
   "cell_type": "code",
   "execution_count": 7,
   "metadata": {},
   "outputs": [],
   "source": [
    "# reminder : datasets_dir is the  local directory sto store the raw dataset\n",
    "get_CIFAR11(datasets_dir)"
   ]
  },
  {
   "cell_type": "code",
   "execution_count": null,
   "metadata": {},
   "outputs": [],
   "source": [
    "# uncomment for help \n",
    "# help(ImageImporter.import_dataset)"
   ]
  },
  {
   "cell_type": "code",
   "execution_count": 8,
   "metadata": {},
   "outputs": [],
   "source": [
    "# Dataset information\n",
    "name = \"CIFAR11 dataset\"\n",
    "description = \"CIFAR10 : https://www.cs.toronto.edu/~kriz/cifar.html , Gun Detection Dataset : https://www.linksprite.com/gun-detection-datasets/\"\n",
    "splits = [\"train\", \"test\"] # \"val\",\n",
    "\n",
    "# Input information\n",
    "input_dirs = {\n",
    "    \"image\": Path(datasets_dir) / \"images\" #,\n",
    "    # \"objects\": library_dir / \"annotations\",\n",
    "}\n",
    "\n",
    "library_dir=Path(library_dir)\n",
    "import_dir = library_dir / DATASET_NAME"
   ]
  },
  {
   "cell_type": "code",
   "execution_count": 9,
   "metadata": {},
   "outputs": [
    {
     "data": {
      "application/vnd.jupyter.widget-view+json": {
       "model_id": "cd37c2852b704a83969296f7759c8e38",
       "version_major": 2,
       "version_minor": 0
      },
      "text/plain": [
       "Importing dataset: 0it [00:00, ?it/s]"
      ]
     },
     "metadata": {},
     "output_type": "display_data"
    },
    {
     "data": {
      "application/vnd.jupyter.widget-view+json": {
       "model_id": "c93348abfa264f0992a3fe4f15d9c7c0",
       "version_major": 2,
       "version_minor": 0
      },
      "text/plain": [
       "Copying media directories:   0%|          | 0/1 [00:00<?, ?it/s]"
      ]
     },
     "metadata": {},
     "output_type": "display_data"
    },
    {
     "data": {
      "application/vnd.jupyter.widget-view+json": {
       "model_id": "3504e5d94b9b403fab9114db72f81ee9",
       "version_major": 2,
       "version_minor": 0
      },
      "text/plain": [
       "Creating dataset info file:   0%|          | 0/1 [00:00<?, ?it/s]"
      ]
     },
     "metadata": {},
     "output_type": "display_data"
    },
    {
     "data": {
      "application/vnd.jupyter.widget-view+json": {
       "model_id": "bdfcbb3e75eb4d4989a18003418b7389",
       "version_major": 2,
       "version_minor": 0
      },
      "text/plain": [
       "Creating dataset thumbnail:   0%|          | 0/1 [00:00<?, ?it/s]"
      ]
     },
     "metadata": {},
     "output_type": "display_data"
    },
    {
     "data": {
      "text/plain": [
       "<pixano.data.dataset.Dataset at 0x7f55d49ccf40>"
      ]
     },
     "execution_count": 9,
     "metadata": {},
     "output_type": "execute_result"
    }
   ],
   "source": [
    "importer = ImageImporter(name, description, splits)\n",
    "importer.import_dataset(input_dirs, import_dir, portable=True)"
   ]
  },
  {
   "cell_type": "markdown",
   "metadata": {},
   "source": [
    "### !ERROR: Here we found and issue. explorer doesn't return a localhost port for opening Pixano GUI. A fix is required."
   ]
  },
  {
   "cell_type": "code",
   "execution_count": 10,
   "metadata": {},
   "outputs": [
    {
     "ename": "AssertionError",
     "evalue": "",
     "output_type": "error",
     "traceback": [
      "\u001b[0;31m---------------------------------------------------------------------------\u001b[0m",
      "\u001b[0;31mAssertionError\u001b[0m                            Traceback (most recent call last)",
      "Cell \u001b[0;32mIn[10], line 1\u001b[0m\n\u001b[0;32m----> 1\u001b[0m \u001b[38;5;28;01massert\u001b[39;00m \u001b[38;5;28;01mFalse\u001b[39;00m \u001b[38;5;66;03m# to stop execution of cell\u001b[39;00m\n",
      "\u001b[0;31mAssertionError\u001b[0m: "
     ]
    }
   ],
   "source": [
    "assert False # to stop execution of cell"
   ]
  },
  {
   "cell_type": "code",
   "execution_count": null,
   "metadata": {},
   "outputs": [
    {
     "name": "stderr",
     "output_type": "stream",
     "text": [
      "INFO:     Started server process [1446380]\n",
      "INFO:     Waiting for application startup.\n",
      "INFO:     Application startup complete.\n",
      "INFO:     Uvicorn running on http://127.0.0.1:33645 (Press CTRL+C to quit)\n"
     ]
    }
   ],
   "source": [
    "explorer = Explorer(library_dir)\n",
    "# explorer.display()"
   ]
  },
  {
   "cell_type": "markdown",
   "metadata": {},
   "source": [
    "# 2. Active Learning"
   ]
  },
  {
   "cell_type": "code",
   "execution_count": 12,
   "metadata": {},
   "outputs": [],
   "source": [
    "# utility function to convert id (format \"<index>.png\") to index\n",
    "def id_to_idx(id: str) -> int:\n",
    "    return int(id.split(\".\")[0])\n",
    "    # return int(id[0:-4])  #remove the last 4 chars (\".png\")"
   ]
  },
  {
   "cell_type": "markdown",
   "metadata": {},
   "source": [
    "### Connect to Pixano DB"
   ]
  },
  {
   "cell_type": "code",
   "execution_count": 13,
   "metadata": {},
   "outputs": [],
   "source": [
    "cifar11_db = lancedb.connect(import_dir)"
   ]
  },
  {
   "cell_type": "markdown",
   "metadata": {},
   "source": [
    "## Model Trainer Object\n",
    "\n",
    "We will get raw x_train, x_test, y_test data directly from CIFAR11.\n",
    "\n",
    "2 proposed Model Trainer Objects, with same model: SimpleTrainer and IncrementalTrainer"
   ]
  },
  {
   "cell_type": "code",
   "execution_count": 14,
   "metadata": {},
   "outputs": [],
   "source": [
    "# Overload function for reading the dataset from storage.\n",
    "def get_CIFAR11(data_dir):\n",
    "\n",
    "    image_dir = os.path.join(data_dir,\"images\")\n",
    "    train_imdir = os.path.join(image_dir,\"train\")\n",
    "    test_imdir = os.path.join(image_dir,\"test\")\n",
    "\n",
    "    annotation_dir = os.path.join(data_dir,\"annotations\")\n",
    "    train_anfile = os.path.join(annotation_dir,\"train.csv\")\n",
    "    test_anfile = os.path.join(annotation_dir,\"test.csv\")\n",
    "\n",
    "    # read sorted file names     \n",
    "    X_train = sorted(os.listdir(train_imdir), key=lambda x: int(x.split('.', 1)[0])) \n",
    "    X_test = sorted(os.listdir(test_imdir), key=lambda x: int(x.split('.', 1)[0]))\n",
    "    \n",
    "    # X_train = np.array([Image.open(os.path.join(train_imdir,x)) for x in X_train])\n",
    "    # X_test = np.array([Image.open(os.path.join(test_imdir,x)) for x in X_test])\n",
    "\n",
    "    # # read labels\n",
    "    Y_train = pd.read_csv(train_anfile).values #.to_numpy(dtype=np.uint8)\n",
    "    Y_test = pd.read_csv(test_anfile).values #.to_numpy(dtype=np.uint8)\n",
    "\n",
    "    Y_train = np.array([y[0] for y in Y_train], dtype=np.uint8)\n",
    "    Y_test = np.array([y[0] for y in Y_test], dtype=np.uint8)\n",
    "\n",
    "    return (X_train,Y_train),(X_test,Y_test)\n",
    "\n",
    "(X_train, Y_train), (X_test, Y_test) = get_CIFAR11(datasets_dir)"
   ]
  },
  {
   "cell_type": "markdown",
   "metadata": {},
   "source": [
    "## Query Sampler Object\n",
    "<!-- RandomSampler or SequentialSampler -->"
   ]
  },
  {
   "cell_type": "markdown",
   "metadata": {},
   "source": [
    "#### Custom Trainer"
   ]
  },
  {
   "cell_type": "markdown",
   "metadata": {},
   "source": [
    "> prepare the directories for data exchange between pixano and annotation tool"
   ]
  },
  {
   "cell_type": "code",
   "execution_count": 16,
   "metadata": {},
   "outputs": [],
   "source": [
    "import shutil\n",
    "\n",
    "# TEMPORARY SOLUTION FOR EXCHANGING DATA BETWEEN PIXANO AND AL\n",
    "def create_dir(path):\n",
    "    try:\n",
    "        if (os.path.basename(path)== \"temp_data\" and os.path.exists(path)):\n",
    "            shutil.rmtree(path) # erase the previous results\n",
    "        os.makedirs(path)\n",
    "    except:\n",
    "        print(f'Dir {path} exists already')\n",
    "    return path\n",
    "\n",
    "# here define the paths of exchanging data between pixano and the customLearner\n",
    "temp_data_exchange_dir = create_dir(os.path.join(ROOTDIR,\"temp_data\"))                # define a directory for exchanging data\n",
    "output_queDir = create_dir(os.path.join(temp_data_exchange_dir,\"output_queries\"))       # [out] query strategy results\n",
    "output_accDir = create_dir(os.path.join(temp_data_exchange_dir,\"output_accuracy\"))      # [out] accuracy results "
   ]
  },
  {
   "cell_type": "markdown",
   "metadata": {},
   "source": [
    "## Labeling Interface Objects\n",
    "\n",
    "Human labeling with Pixano Annotator is built-in, here we specify an Auto Annotator"
   ]
  },
  {
   "cell_type": "code",
   "execution_count": 17,
   "metadata": {},
   "outputs": [],
   "source": [
    "class AutoAnnotator(BaseAnnotator):\n",
    "    # custom annotation function\n",
    "    # as we have ground truth for CIFAR11, we can autofill\n",
    "    def annotate(self, round):\n",
    "        candidates = getTaggedIds(self.db, round)\n",
    "        db_tbl = cifar11_db.open_table(\"db\")\n",
    "        custom_update(db_tbl, f\"id in ({ddb_str(candidates)})\", 'label', [str(Y_train[id_to_idx(candidate)]) for candidate in sorted(candidates, key=natural_key)])\n",
    "        print(f\"AutoAnnotator: round {round} annotated.\")"
   ]
  },
  {
   "cell_type": "markdown",
   "metadata": {},
   "source": [
    "## Orchestrator"
   ]
  },
  {
   "cell_type": "markdown",
   "metadata": {},
   "source": [
    "### Initial Learning"
   ]
  },
  {
   "cell_type": "code",
   "execution_count": 18,
   "metadata": {},
   "outputs": [],
   "source": [
    "myTrainer = customTrainer(cifar11_db, \n",
    "                            DATASET_NAME = DATASET_NAME,\n",
    "                            output_accDir = output_accDir,\n",
    "                            import_dir = import_dir,\n",
    "                            customLearnerCondaEnv = customLearnerCondaEnv,\n",
    "                            model_name = model_name, \n",
    "                            learning_rate = learning_rate, \n",
    "                            max_epochs_per_round = max_epochs_per_round,\n",
    "                            strategy_name = strategy)\n",
    "\n",
    "mycustomSampler = customSampler(cifar11_db,\n",
    "                                DATASET_NAME = DATASET_NAME,\n",
    "                                output_queDir = output_queDir,\n",
    "                                import_dir = import_dir,\n",
    "                                customLearnerCondaEnv = customLearnerCondaEnv,\n",
    "                                model_name = model_name, \n",
    "                                strategy_name = strategy, \n",
    "                                number_init_labels = numInitLabels, \n",
    "                                labels_per_round = labels_per_round,\n",
    "                                alpha_opt = True)\n",
    "\n",
    "myTrainer.set_parameter(\"pixano_root\",ROOTDIR)\n",
    "mycustomSampler.set_parameter(\"pixano_root\",ROOTDIR)\n",
    "\n",
    "autofillAnnotator = AutoAnnotator(cifar11_db)\n",
    "\n",
    "init_learner = Learner(\n",
    "    db=cifar11_db,\n",
    "    trainer=myTrainer,\n",
    "    sampler=mycustomSampler,\n",
    "    custom_annotator=autofillAnnotator,\n",
    "    new_al=True,\n",
    "    verbose=0\n",
    ")"
   ]
  },
  {
   "cell_type": "code",
   "execution_count": 19,
   "metadata": {},
   "outputs": [
    {
     "name": "stdout",
     "output_type": "stream",
     "text": [
      "Importing validation data in /home/melissap/_pixano_datasets_/CIFAR11_guns_pixano_v1\n"
     ]
    }
   ],
   "source": [
    "importTestLabels(cifar11_db,(X_test,Y_test))"
   ]
  },
  {
   "cell_type": "markdown",
   "metadata": {},
   "source": [
    "### Active Learning - Human annotation with Pixano Annotator\n",
    "\n",
    "We add some auto-annotation rounds"
   ]
  },
  {
   "cell_type": "code",
   "execution_count": 20,
   "metadata": {},
   "outputs": [
    {
     "name": "stdout",
     "output_type": "stream",
     "text": [
      "csvQue /home/melissap/Desktop/LAGO_43integrationDemo/pixano/temp_data/output_queries/queries_0.csv\n",
      "\n",
      "\n",
      "######################################################## AL ROUND 0 mode query : START #########################################################\n",
      "\n",
      "\n",
      "Namespace(mode='query', data_name='CIFAR11_guns_pixano_v1', n_label='None', n_init_lb=1000, n_query=1000, data_dir='/home/melissap/_pixano_datasets_/CIFAR11_guns_pixano_v1', pixano_root='/home/melissap/Desktop/LAGO_43integrationDemo/pixano', strategy='CoreSet', round=0, train_out=None, query_out='/home/melissap/Desktop/LAGO_43integrationDemo/pixano/temp_data/output_queries/queries_0.csv', seeds=[1, 10, 100, 1000, 10000], init_lb_method='general_random', log_dir='/home/melissap/Desktop/LAGO_43integrationDemo/pixano/ActiveLearning/alpha_mix_active_learning/_logs', save_checkpoints=False, save_images=False, print_to_file=False, query_growth_ratio=1, n_drop=5, eps=0.05, max_iter=50, alpha_cap=0.03125, alpha_opt=False, alpha_closed_form_approx=True, alpha_learning_rate=0.1, alpha_clf_coef=1.0, alpha_l2_coef=0.01, alpha_learning_iters=5, alpha_learn_batch_size=1000000)\n",
      "args.pixano_root  /home/melissap/Desktop/LAGO_43integrationDemo/pixano\n",
      "Loading data ...\n",
      "number of labeled pool: 0\n",
      "number of unlabeled pool: 55000\n",
      "number of validation pool: 0\n",
      "number of testing pool: 10998\n",
      "Data loaded ...\n",
      "Using cuda device.\n"
     ]
    },
    {
     "name": "stderr",
     "output_type": "stream",
     "text": [
      "/home/melissap/miniconda3/envs/customLearner/lib/python3.10/site-packages/torchvision/models/_utils.py:208: UserWarning: The parameter 'pretrained' is deprecated since 0.13 and may be removed in the future, please use 'weights' instead.\n",
      "  warnings.warn(\n",
      "/home/melissap/miniconda3/envs/customLearner/lib/python3.10/site-packages/torchvision/models/_utils.py:223: UserWarning: Arguments other than a weight enum or `None` for 'weights' are deprecated since 0.13 and may be removed in the future. The current behavior is equivalent to passing `weights=None`.\n",
      "  warnings.warn(msg)\n"
     ]
    },
    {
     "name": "stdout",
     "output_type": "stream",
     "text": [
      "Round 0 tagged\n",
      "1000 candidates on round 0\n",
      "AutoAnnotator: round 0 annotated.\n",
      "\n",
      "\n",
      "######################################################## AL ROUND 0 mode train : START #########################################################\n",
      "\n",
      "\n",
      "Namespace(mode='train', data_name='CIFAR11_guns_pixano_v1', n_label='None', n_init_lb=10, n_query=100, data_dir='/home/melissap/_pixano_datasets_/CIFAR11_guns_pixano_v1', pixano_root='/home/melissap/Desktop/LAGO_43integrationDemo/pixano', strategy='CoreSet', round=0, train_out='/home/melissap/Desktop/LAGO_43integrationDemo/pixano/temp_data/output_accuracy/accuracy.csv', query_out='path to the file', seeds=[1, 10, 100, 1000, 10000], init_lb_method='general_random', log_dir='/home/melissap/Desktop/LAGO_43integrationDemo/pixano/ActiveLearning/alpha_mix_active_learning/_logs', save_checkpoints=False, save_images=False, print_to_file=False, query_growth_ratio=1, n_drop=5, eps=0.05, max_iter=50, alpha_cap=0.03125, alpha_opt=False, alpha_closed_form_approx=True, alpha_learning_rate=0.1, alpha_clf_coef=1.0, alpha_l2_coef=0.01, alpha_learning_iters=5, alpha_learn_batch_size=1000000)\n",
      "args.pixano_root  /home/melissap/Desktop/LAGO_43integrationDemo/pixano\n",
      "Loading data ...\n",
      "number of labeled pool: 1000\n",
      "number of unlabeled pool: 54000\n",
      "number of validation pool: 0\n",
      "number of testing pool: 10998\n",
      "Data loaded ...\n",
      "Using cuda device.\n"
     ]
    },
    {
     "name": "stderr",
     "output_type": "stream",
     "text": [
      "/home/melissap/miniconda3/envs/customLearner/lib/python3.10/site-packages/torchvision/models/_utils.py:208: UserWarning: The parameter 'pretrained' is deprecated since 0.13 and may be removed in the future, please use 'weights' instead.\n",
      "  warnings.warn(\n",
      "/home/melissap/miniconda3/envs/customLearner/lib/python3.10/site-packages/torchvision/models/_utils.py:223: UserWarning: Arguments other than a weight enum or `None` for 'weights' are deprecated since 0.13 and may be removed in the future. The current behavior is equivalent to passing `weights=None`.\n",
      "  warnings.warn(msg)\n"
     ]
    },
    {
     "name": "stdout",
     "output_type": "stream",
     "text": [
      "CIFAR11_guns_pixano_v1\n",
      "SEED 1\n",
      "CoreSet\n",
      "Adam optimizer...\n",
      "Training started...\n"
     ]
    },
    {
     "name": "stderr",
     "output_type": "stream",
     "text": [
      " 26%|██▌       | 26/100 [00:40<01:54,  1.54s/it]"
     ]
    },
    {
     "name": "stdout",
     "output_type": "stream",
     "text": [
      "Reached max accuracy at epoch 26 \n"
     ]
    },
    {
     "name": "stderr",
     "output_type": "stream",
     "text": [
      " 26%|██▌       | 26/100 [00:42<01:59,  1.62s/it]\n"
     ]
    },
    {
     "name": "stdout",
     "output_type": "stream",
     "text": [
      "Round 0\n",
      "testing accuracy 0.35724677214038913\n",
      "\n",
      "\n",
      "######################################################### AL ROUND 0 mode train : END ##########################################################\n",
      "\n",
      "\n",
      "csvQue /home/melissap/Desktop/LAGO_43integrationDemo/pixano/temp_data/output_queries/queries_1.csv\n",
      "\n",
      "\n",
      "######################################################## AL ROUND 1 mode query : START #########################################################\n",
      "\n",
      "\n",
      "Namespace(mode='query', data_name='CIFAR11_guns_pixano_v1', n_label='None', n_init_lb=1000, n_query=1000, data_dir='/home/melissap/_pixano_datasets_/CIFAR11_guns_pixano_v1', pixano_root='/home/melissap/Desktop/LAGO_43integrationDemo/pixano', strategy='CoreSet', round=1, train_out=None, query_out='/home/melissap/Desktop/LAGO_43integrationDemo/pixano/temp_data/output_queries/queries_1.csv', seeds=[1, 10, 100, 1000, 10000], init_lb_method='general_random', log_dir='/home/melissap/Desktop/LAGO_43integrationDemo/pixano/ActiveLearning/alpha_mix_active_learning/_logs', save_checkpoints=False, save_images=False, print_to_file=False, query_growth_ratio=1, n_drop=5, eps=0.05, max_iter=50, alpha_cap=0.03125, alpha_opt=False, alpha_closed_form_approx=True, alpha_learning_rate=0.1, alpha_clf_coef=1.0, alpha_l2_coef=0.01, alpha_learning_iters=5, alpha_learn_batch_size=1000000)\n",
      "args.pixano_root  /home/melissap/Desktop/LAGO_43integrationDemo/pixano\n",
      "Loading data ...\n",
      "number of labeled pool: 1000\n",
      "number of unlabeled pool: 54000\n",
      "number of validation pool: 0\n",
      "number of testing pool: 10998\n",
      "Data loaded ...\n",
      "Using cuda device.\n"
     ]
    },
    {
     "name": "stderr",
     "output_type": "stream",
     "text": [
      "/home/melissap/miniconda3/envs/customLearner/lib/python3.10/site-packages/torchvision/models/_utils.py:208: UserWarning: The parameter 'pretrained' is deprecated since 0.13 and may be removed in the future, please use 'weights' instead.\n",
      "  warnings.warn(\n",
      "/home/melissap/miniconda3/envs/customLearner/lib/python3.10/site-packages/torchvision/models/_utils.py:223: UserWarning: Arguments other than a weight enum or `None` for 'weights' are deprecated since 0.13 and may be removed in the future. The current behavior is equivalent to passing `weights=None`.\n",
      "  warnings.warn(msg)\n"
     ]
    },
    {
     "name": "stdout",
     "output_type": "stream",
     "text": [
      "Loading weights resnet18_CIFAR11_guns_pixano_v1_CoreSet_0_weights.pth\n",
      "CIFAR11_guns_pixano_v1\n",
      "SEED 1\n",
      "CoreSet\n",
      "Round 1\n",
      "query budget: 1000\n",
      "\n",
      "\n",
      "######################################################### AL ROUND 1 mode query : END ##########################################################\n",
      "\n",
      "\n",
      "Round 1 tagged\n",
      "1000 candidates on round 1\n",
      "AutoAnnotator: round 1 annotated.\n",
      "\n",
      "\n",
      "######################################################## AL ROUND 1 mode train : START #########################################################\n",
      "\n",
      "\n",
      "Namespace(mode='train', data_name='CIFAR11_guns_pixano_v1', n_label='None', n_init_lb=10, n_query=100, data_dir='/home/melissap/_pixano_datasets_/CIFAR11_guns_pixano_v1', pixano_root='/home/melissap/Desktop/LAGO_43integrationDemo/pixano', strategy='CoreSet', round=1, train_out='/home/melissap/Desktop/LAGO_43integrationDemo/pixano/temp_data/output_accuracy/accuracy.csv', query_out='path to the file', seeds=[1, 10, 100, 1000, 10000], init_lb_method='general_random', log_dir='/home/melissap/Desktop/LAGO_43integrationDemo/pixano/ActiveLearning/alpha_mix_active_learning/_logs', save_checkpoints=False, save_images=False, print_to_file=False, query_growth_ratio=1, n_drop=5, eps=0.05, max_iter=50, alpha_cap=0.03125, alpha_opt=False, alpha_closed_form_approx=True, alpha_learning_rate=0.1, alpha_clf_coef=1.0, alpha_l2_coef=0.01, alpha_learning_iters=5, alpha_learn_batch_size=1000000)\n",
      "args.pixano_root  /home/melissap/Desktop/LAGO_43integrationDemo/pixano\n",
      "Loading data ...\n",
      "number of labeled pool: 2000\n",
      "number of unlabeled pool: 53000\n",
      "number of validation pool: 0\n",
      "number of testing pool: 10998\n",
      "Data loaded ...\n",
      "Using cuda device.\n"
     ]
    },
    {
     "name": "stderr",
     "output_type": "stream",
     "text": [
      "/home/melissap/miniconda3/envs/customLearner/lib/python3.10/site-packages/torchvision/models/_utils.py:208: UserWarning: The parameter 'pretrained' is deprecated since 0.13 and may be removed in the future, please use 'weights' instead.\n",
      "  warnings.warn(\n",
      "/home/melissap/miniconda3/envs/customLearner/lib/python3.10/site-packages/torchvision/models/_utils.py:223: UserWarning: Arguments other than a weight enum or `None` for 'weights' are deprecated since 0.13 and may be removed in the future. The current behavior is equivalent to passing `weights=None`.\n",
      "  warnings.warn(msg)\n"
     ]
    },
    {
     "name": "stdout",
     "output_type": "stream",
     "text": [
      "CIFAR11_guns_pixano_v1\n",
      "SEED 1\n",
      "CoreSet\n",
      "Adam optimizer...\n",
      "Loading weights resnet18_CIFAR11_guns_pixano_v1_CoreSet_0_weights.pth\n",
      " Print the weights of the model to ensure that weights are loaded \n",
      "Training started...\n"
     ]
    },
    {
     "name": "stderr",
     "output_type": "stream",
     "text": [
      " 33%|███▎      | 33/100 [01:21<02:41,  2.41s/it]"
     ]
    },
    {
     "name": "stdout",
     "output_type": "stream",
     "text": [
      "Reached max accuracy at epoch 33 \n"
     ]
    },
    {
     "name": "stderr",
     "output_type": "stream",
     "text": [
      " 33%|███▎      | 33/100 [01:24<02:50,  2.55s/it]\n"
     ]
    },
    {
     "name": "stdout",
     "output_type": "stream",
     "text": [
      "Round 0\n",
      "testing accuracy 0.40698308783415166\n",
      "\n",
      "\n",
      "######################################################### AL ROUND 1 mode train : END ##########################################################\n",
      "\n",
      "\n",
      "csvQue /home/melissap/Desktop/LAGO_43integrationDemo/pixano/temp_data/output_queries/queries_2.csv\n",
      "\n",
      "\n",
      "######################################################## AL ROUND 2 mode query : START #########################################################\n",
      "\n",
      "\n",
      "Namespace(mode='query', data_name='CIFAR11_guns_pixano_v1', n_label='None', n_init_lb=1000, n_query=1000, data_dir='/home/melissap/_pixano_datasets_/CIFAR11_guns_pixano_v1', pixano_root='/home/melissap/Desktop/LAGO_43integrationDemo/pixano', strategy='CoreSet', round=2, train_out=None, query_out='/home/melissap/Desktop/LAGO_43integrationDemo/pixano/temp_data/output_queries/queries_2.csv', seeds=[1, 10, 100, 1000, 10000], init_lb_method='general_random', log_dir='/home/melissap/Desktop/LAGO_43integrationDemo/pixano/ActiveLearning/alpha_mix_active_learning/_logs', save_checkpoints=False, save_images=False, print_to_file=False, query_growth_ratio=1, n_drop=5, eps=0.05, max_iter=50, alpha_cap=0.03125, alpha_opt=False, alpha_closed_form_approx=True, alpha_learning_rate=0.1, alpha_clf_coef=1.0, alpha_l2_coef=0.01, alpha_learning_iters=5, alpha_learn_batch_size=1000000)\n",
      "args.pixano_root  /home/melissap/Desktop/LAGO_43integrationDemo/pixano\n",
      "Loading data ...\n",
      "number of labeled pool: 2000\n",
      "number of unlabeled pool: 53000\n",
      "number of validation pool: 0\n",
      "number of testing pool: 10998\n",
      "Data loaded ...\n",
      "Using cuda device.\n"
     ]
    },
    {
     "name": "stderr",
     "output_type": "stream",
     "text": [
      "/home/melissap/miniconda3/envs/customLearner/lib/python3.10/site-packages/torchvision/models/_utils.py:208: UserWarning: The parameter 'pretrained' is deprecated since 0.13 and may be removed in the future, please use 'weights' instead.\n",
      "  warnings.warn(\n",
      "/home/melissap/miniconda3/envs/customLearner/lib/python3.10/site-packages/torchvision/models/_utils.py:223: UserWarning: Arguments other than a weight enum or `None` for 'weights' are deprecated since 0.13 and may be removed in the future. The current behavior is equivalent to passing `weights=None`.\n",
      "  warnings.warn(msg)\n"
     ]
    },
    {
     "name": "stdout",
     "output_type": "stream",
     "text": [
      "Loading weights resnet18_CIFAR11_guns_pixano_v1_CoreSet_1_weights.pth\n",
      "CIFAR11_guns_pixano_v1\n",
      "SEED 1\n",
      "CoreSet\n",
      "Round 2\n",
      "query budget: 1000\n",
      "\n",
      "\n",
      "######################################################### AL ROUND 2 mode query : END ##########################################################\n",
      "\n",
      "\n",
      "Round 2 tagged\n",
      "1000 candidates on round 2\n",
      "AutoAnnotator: round 2 annotated.\n",
      "\n",
      "\n",
      "######################################################## AL ROUND 2 mode train : START #########################################################\n",
      "\n",
      "\n",
      "Namespace(mode='train', data_name='CIFAR11_guns_pixano_v1', n_label='None', n_init_lb=10, n_query=100, data_dir='/home/melissap/_pixano_datasets_/CIFAR11_guns_pixano_v1', pixano_root='/home/melissap/Desktop/LAGO_43integrationDemo/pixano', strategy='CoreSet', round=2, train_out='/home/melissap/Desktop/LAGO_43integrationDemo/pixano/temp_data/output_accuracy/accuracy.csv', query_out='path to the file', seeds=[1, 10, 100, 1000, 10000], init_lb_method='general_random', log_dir='/home/melissap/Desktop/LAGO_43integrationDemo/pixano/ActiveLearning/alpha_mix_active_learning/_logs', save_checkpoints=False, save_images=False, print_to_file=False, query_growth_ratio=1, n_drop=5, eps=0.05, max_iter=50, alpha_cap=0.03125, alpha_opt=False, alpha_closed_form_approx=True, alpha_learning_rate=0.1, alpha_clf_coef=1.0, alpha_l2_coef=0.01, alpha_learning_iters=5, alpha_learn_batch_size=1000000)\n",
      "args.pixano_root  /home/melissap/Desktop/LAGO_43integrationDemo/pixano\n",
      "Loading data ...\n",
      "number of labeled pool: 3000\n",
      "number of unlabeled pool: 52000\n",
      "number of validation pool: 0\n",
      "number of testing pool: 10998\n",
      "Data loaded ...\n",
      "Using cuda device.\n"
     ]
    },
    {
     "name": "stderr",
     "output_type": "stream",
     "text": [
      "/home/melissap/miniconda3/envs/customLearner/lib/python3.10/site-packages/torchvision/models/_utils.py:208: UserWarning: The parameter 'pretrained' is deprecated since 0.13 and may be removed in the future, please use 'weights' instead.\n",
      "  warnings.warn(\n",
      "/home/melissap/miniconda3/envs/customLearner/lib/python3.10/site-packages/torchvision/models/_utils.py:223: UserWarning: Arguments other than a weight enum or `None` for 'weights' are deprecated since 0.13 and may be removed in the future. The current behavior is equivalent to passing `weights=None`.\n",
      "  warnings.warn(msg)\n"
     ]
    },
    {
     "name": "stdout",
     "output_type": "stream",
     "text": [
      "CIFAR11_guns_pixano_v1\n",
      "SEED 1\n",
      "CoreSet\n",
      "Adam optimizer...\n",
      "Loading weights resnet18_CIFAR11_guns_pixano_v1_CoreSet_1_weights.pth\n",
      " Print the weights of the model to ensure that weights are loaded \n",
      "Training started...\n"
     ]
    },
    {
     "name": "stderr",
     "output_type": "stream",
     "text": [
      " 17%|█▋        | 17/100 [00:55<04:30,  3.25s/it]"
     ]
    },
    {
     "name": "stdout",
     "output_type": "stream",
     "text": [
      "Reached max accuracy at epoch 17 \n"
     ]
    },
    {
     "name": "stderr",
     "output_type": "stream",
     "text": [
      " 17%|█▋        | 17/100 [00:59<04:48,  3.47s/it]\n"
     ]
    },
    {
     "name": "stdout",
     "output_type": "stream",
     "text": [
      "Round 0\n",
      "testing accuracy 0.4508092380432806\n",
      "\n",
      "\n",
      "######################################################### AL ROUND 2 mode train : END ##########################################################\n",
      "\n",
      "\n",
      "csvQue /home/melissap/Desktop/LAGO_43integrationDemo/pixano/temp_data/output_queries/queries_3.csv\n",
      "\n",
      "\n",
      "######################################################## AL ROUND 3 mode query : START #########################################################\n",
      "\n",
      "\n",
      "Namespace(mode='query', data_name='CIFAR11_guns_pixano_v1', n_label='None', n_init_lb=1000, n_query=1000, data_dir='/home/melissap/_pixano_datasets_/CIFAR11_guns_pixano_v1', pixano_root='/home/melissap/Desktop/LAGO_43integrationDemo/pixano', strategy='CoreSet', round=3, train_out=None, query_out='/home/melissap/Desktop/LAGO_43integrationDemo/pixano/temp_data/output_queries/queries_3.csv', seeds=[1, 10, 100, 1000, 10000], init_lb_method='general_random', log_dir='/home/melissap/Desktop/LAGO_43integrationDemo/pixano/ActiveLearning/alpha_mix_active_learning/_logs', save_checkpoints=False, save_images=False, print_to_file=False, query_growth_ratio=1, n_drop=5, eps=0.05, max_iter=50, alpha_cap=0.03125, alpha_opt=False, alpha_closed_form_approx=True, alpha_learning_rate=0.1, alpha_clf_coef=1.0, alpha_l2_coef=0.01, alpha_learning_iters=5, alpha_learn_batch_size=1000000)\n",
      "args.pixano_root  /home/melissap/Desktop/LAGO_43integrationDemo/pixano\n",
      "Loading data ...\n",
      "number of labeled pool: 3000\n",
      "number of unlabeled pool: 52000\n",
      "number of validation pool: 0\n",
      "number of testing pool: 10998\n",
      "Data loaded ...\n",
      "Using cuda device.\n"
     ]
    },
    {
     "name": "stderr",
     "output_type": "stream",
     "text": [
      "/home/melissap/miniconda3/envs/customLearner/lib/python3.10/site-packages/torchvision/models/_utils.py:208: UserWarning: The parameter 'pretrained' is deprecated since 0.13 and may be removed in the future, please use 'weights' instead.\n",
      "  warnings.warn(\n",
      "/home/melissap/miniconda3/envs/customLearner/lib/python3.10/site-packages/torchvision/models/_utils.py:223: UserWarning: Arguments other than a weight enum or `None` for 'weights' are deprecated since 0.13 and may be removed in the future. The current behavior is equivalent to passing `weights=None`.\n",
      "  warnings.warn(msg)\n"
     ]
    },
    {
     "name": "stdout",
     "output_type": "stream",
     "text": [
      "Loading weights resnet18_CIFAR11_guns_pixano_v1_CoreSet_2_weights.pth\n",
      "CIFAR11_guns_pixano_v1\n",
      "SEED 1\n",
      "CoreSet\n",
      "Round 3\n",
      "query budget: 1000\n",
      "\n",
      "\n",
      "######################################################### AL ROUND 3 mode query : END ##########################################################\n",
      "\n",
      "\n",
      "Round 3 tagged\n",
      "1000 candidates on round 3\n",
      "AutoAnnotator: round 3 annotated.\n",
      "\n",
      "\n",
      "######################################################## AL ROUND 3 mode train : START #########################################################\n",
      "\n",
      "\n",
      "Namespace(mode='train', data_name='CIFAR11_guns_pixano_v1', n_label='None', n_init_lb=10, n_query=100, data_dir='/home/melissap/_pixano_datasets_/CIFAR11_guns_pixano_v1', pixano_root='/home/melissap/Desktop/LAGO_43integrationDemo/pixano', strategy='CoreSet', round=3, train_out='/home/melissap/Desktop/LAGO_43integrationDemo/pixano/temp_data/output_accuracy/accuracy.csv', query_out='path to the file', seeds=[1, 10, 100, 1000, 10000], init_lb_method='general_random', log_dir='/home/melissap/Desktop/LAGO_43integrationDemo/pixano/ActiveLearning/alpha_mix_active_learning/_logs', save_checkpoints=False, save_images=False, print_to_file=False, query_growth_ratio=1, n_drop=5, eps=0.05, max_iter=50, alpha_cap=0.03125, alpha_opt=False, alpha_closed_form_approx=True, alpha_learning_rate=0.1, alpha_clf_coef=1.0, alpha_l2_coef=0.01, alpha_learning_iters=5, alpha_learn_batch_size=1000000)\n",
      "args.pixano_root  /home/melissap/Desktop/LAGO_43integrationDemo/pixano\n",
      "Loading data ...\n",
      "number of labeled pool: 4000\n",
      "number of unlabeled pool: 51000\n",
      "number of validation pool: 0\n",
      "number of testing pool: 10998\n",
      "Data loaded ...\n",
      "Using cuda device.\n"
     ]
    },
    {
     "name": "stderr",
     "output_type": "stream",
     "text": [
      "/home/melissap/miniconda3/envs/customLearner/lib/python3.10/site-packages/torchvision/models/_utils.py:208: UserWarning: The parameter 'pretrained' is deprecated since 0.13 and may be removed in the future, please use 'weights' instead.\n",
      "  warnings.warn(\n",
      "/home/melissap/miniconda3/envs/customLearner/lib/python3.10/site-packages/torchvision/models/_utils.py:223: UserWarning: Arguments other than a weight enum or `None` for 'weights' are deprecated since 0.13 and may be removed in the future. The current behavior is equivalent to passing `weights=None`.\n",
      "  warnings.warn(msg)\n"
     ]
    },
    {
     "name": "stdout",
     "output_type": "stream",
     "text": [
      "CIFAR11_guns_pixano_v1\n",
      "SEED 1\n",
      "CoreSet\n",
      "Adam optimizer...\n",
      "Loading weights resnet18_CIFAR11_guns_pixano_v1_CoreSet_2_weights.pth\n",
      " Print the weights of the model to ensure that weights are loaded \n",
      "Training started...\n"
     ]
    },
    {
     "name": "stderr",
     "output_type": "stream",
     "text": [
      " 31%|███       | 31/100 [02:08<04:50,  4.21s/it]"
     ]
    },
    {
     "name": "stdout",
     "output_type": "stream",
     "text": [
      "Reached max accuracy at epoch 31 \n"
     ]
    },
    {
     "name": "stderr",
     "output_type": "stream",
     "text": [
      " 31%|███       | 31/100 [02:12<04:55,  4.28s/it]\n"
     ]
    },
    {
     "name": "stdout",
     "output_type": "stream",
     "text": [
      "Round 0\n",
      "testing accuracy 0.4729041643935261\n",
      "\n",
      "\n",
      "######################################################### AL ROUND 3 mode train : END ##########################################################\n",
      "\n",
      "\n",
      "csvQue /home/melissap/Desktop/LAGO_43integrationDemo/pixano/temp_data/output_queries/queries_4.csv\n",
      "\n",
      "\n",
      "######################################################## AL ROUND 4 mode query : START #########################################################\n",
      "\n",
      "\n",
      "Namespace(mode='query', data_name='CIFAR11_guns_pixano_v1', n_label='None', n_init_lb=1000, n_query=1000, data_dir='/home/melissap/_pixano_datasets_/CIFAR11_guns_pixano_v1', pixano_root='/home/melissap/Desktop/LAGO_43integrationDemo/pixano', strategy='CoreSet', round=4, train_out=None, query_out='/home/melissap/Desktop/LAGO_43integrationDemo/pixano/temp_data/output_queries/queries_4.csv', seeds=[1, 10, 100, 1000, 10000], init_lb_method='general_random', log_dir='/home/melissap/Desktop/LAGO_43integrationDemo/pixano/ActiveLearning/alpha_mix_active_learning/_logs', save_checkpoints=False, save_images=False, print_to_file=False, query_growth_ratio=1, n_drop=5, eps=0.05, max_iter=50, alpha_cap=0.03125, alpha_opt=False, alpha_closed_form_approx=True, alpha_learning_rate=0.1, alpha_clf_coef=1.0, alpha_l2_coef=0.01, alpha_learning_iters=5, alpha_learn_batch_size=1000000)\n",
      "args.pixano_root  /home/melissap/Desktop/LAGO_43integrationDemo/pixano\n",
      "Loading data ...\n",
      "number of labeled pool: 4000\n",
      "number of unlabeled pool: 51000\n",
      "number of validation pool: 0\n",
      "number of testing pool: 10998\n",
      "Data loaded ...\n",
      "Using cuda device.\n"
     ]
    },
    {
     "name": "stderr",
     "output_type": "stream",
     "text": [
      "/home/melissap/miniconda3/envs/customLearner/lib/python3.10/site-packages/torchvision/models/_utils.py:208: UserWarning: The parameter 'pretrained' is deprecated since 0.13 and may be removed in the future, please use 'weights' instead.\n",
      "  warnings.warn(\n",
      "/home/melissap/miniconda3/envs/customLearner/lib/python3.10/site-packages/torchvision/models/_utils.py:223: UserWarning: Arguments other than a weight enum or `None` for 'weights' are deprecated since 0.13 and may be removed in the future. The current behavior is equivalent to passing `weights=None`.\n",
      "  warnings.warn(msg)\n"
     ]
    },
    {
     "name": "stdout",
     "output_type": "stream",
     "text": [
      "Loading weights resnet18_CIFAR11_guns_pixano_v1_CoreSet_3_weights.pth\n",
      "CIFAR11_guns_pixano_v1\n",
      "SEED 1\n",
      "CoreSet\n",
      "Round 4\n",
      "query budget: 1000\n",
      "\n",
      "\n",
      "######################################################### AL ROUND 4 mode query : END ##########################################################\n",
      "\n",
      "\n",
      "Round 4 tagged\n",
      "1000 candidates on round 4\n",
      "AutoAnnotator: round 4 annotated.\n",
      "\n",
      "\n",
      "######################################################## AL ROUND 4 mode train : START #########################################################\n",
      "\n",
      "\n",
      "Namespace(mode='train', data_name='CIFAR11_guns_pixano_v1', n_label='None', n_init_lb=10, n_query=100, data_dir='/home/melissap/_pixano_datasets_/CIFAR11_guns_pixano_v1', pixano_root='/home/melissap/Desktop/LAGO_43integrationDemo/pixano', strategy='CoreSet', round=4, train_out='/home/melissap/Desktop/LAGO_43integrationDemo/pixano/temp_data/output_accuracy/accuracy.csv', query_out='path to the file', seeds=[1, 10, 100, 1000, 10000], init_lb_method='general_random', log_dir='/home/melissap/Desktop/LAGO_43integrationDemo/pixano/ActiveLearning/alpha_mix_active_learning/_logs', save_checkpoints=False, save_images=False, print_to_file=False, query_growth_ratio=1, n_drop=5, eps=0.05, max_iter=50, alpha_cap=0.03125, alpha_opt=False, alpha_closed_form_approx=True, alpha_learning_rate=0.1, alpha_clf_coef=1.0, alpha_l2_coef=0.01, alpha_learning_iters=5, alpha_learn_batch_size=1000000)\n",
      "args.pixano_root  /home/melissap/Desktop/LAGO_43integrationDemo/pixano\n",
      "Loading data ...\n",
      "number of labeled pool: 5000\n",
      "number of unlabeled pool: 50000\n",
      "number of validation pool: 0\n",
      "number of testing pool: 10998\n",
      "Data loaded ...\n",
      "Using cuda device.\n"
     ]
    },
    {
     "name": "stderr",
     "output_type": "stream",
     "text": [
      "/home/melissap/miniconda3/envs/customLearner/lib/python3.10/site-packages/torchvision/models/_utils.py:208: UserWarning: The parameter 'pretrained' is deprecated since 0.13 and may be removed in the future, please use 'weights' instead.\n",
      "  warnings.warn(\n",
      "/home/melissap/miniconda3/envs/customLearner/lib/python3.10/site-packages/torchvision/models/_utils.py:223: UserWarning: Arguments other than a weight enum or `None` for 'weights' are deprecated since 0.13 and may be removed in the future. The current behavior is equivalent to passing `weights=None`.\n",
      "  warnings.warn(msg)\n"
     ]
    },
    {
     "name": "stdout",
     "output_type": "stream",
     "text": [
      "CIFAR11_guns_pixano_v1\n",
      "SEED 1\n",
      "CoreSet\n",
      "Adam optimizer...\n",
      "Loading weights resnet18_CIFAR11_guns_pixano_v1_CoreSet_3_weights.pth\n",
      " Print the weights of the model to ensure that weights are loaded \n",
      "Training started...\n"
     ]
    },
    {
     "name": "stderr",
     "output_type": "stream",
     "text": [
      " 11%|█         | 11/100 [00:55<07:27,  5.02s/it]"
     ]
    },
    {
     "name": "stdout",
     "output_type": "stream",
     "text": [
      "Reached max accuracy at epoch 11 \n"
     ]
    },
    {
     "name": "stderr",
     "output_type": "stream",
     "text": [
      " 11%|█         | 11/100 [01:00<08:12,  5.53s/it]\n"
     ]
    },
    {
     "name": "stdout",
     "output_type": "stream",
     "text": [
      "Round 0\n",
      "testing accuracy 0.4996362975086379\n",
      "\n",
      "\n",
      "######################################################### AL ROUND 4 mode train : END ##########################################################\n",
      "\n",
      "\n",
      "csvQue /home/melissap/Desktop/LAGO_43integrationDemo/pixano/temp_data/output_queries/queries_5.csv\n",
      "\n",
      "\n",
      "######################################################## AL ROUND 5 mode query : START #########################################################\n",
      "\n",
      "\n",
      "Namespace(mode='query', data_name='CIFAR11_guns_pixano_v1', n_label='None', n_init_lb=1000, n_query=1000, data_dir='/home/melissap/_pixano_datasets_/CIFAR11_guns_pixano_v1', pixano_root='/home/melissap/Desktop/LAGO_43integrationDemo/pixano', strategy='CoreSet', round=5, train_out=None, query_out='/home/melissap/Desktop/LAGO_43integrationDemo/pixano/temp_data/output_queries/queries_5.csv', seeds=[1, 10, 100, 1000, 10000], init_lb_method='general_random', log_dir='/home/melissap/Desktop/LAGO_43integrationDemo/pixano/ActiveLearning/alpha_mix_active_learning/_logs', save_checkpoints=False, save_images=False, print_to_file=False, query_growth_ratio=1, n_drop=5, eps=0.05, max_iter=50, alpha_cap=0.03125, alpha_opt=False, alpha_closed_form_approx=True, alpha_learning_rate=0.1, alpha_clf_coef=1.0, alpha_l2_coef=0.01, alpha_learning_iters=5, alpha_learn_batch_size=1000000)\n",
      "args.pixano_root  /home/melissap/Desktop/LAGO_43integrationDemo/pixano\n",
      "Loading data ...\n",
      "number of labeled pool: 5000\n",
      "number of unlabeled pool: 50000\n",
      "number of validation pool: 0\n",
      "number of testing pool: 10998\n",
      "Data loaded ...\n",
      "Using cuda device.\n"
     ]
    },
    {
     "name": "stderr",
     "output_type": "stream",
     "text": [
      "/home/melissap/miniconda3/envs/customLearner/lib/python3.10/site-packages/torchvision/models/_utils.py:208: UserWarning: The parameter 'pretrained' is deprecated since 0.13 and may be removed in the future, please use 'weights' instead.\n",
      "  warnings.warn(\n",
      "/home/melissap/miniconda3/envs/customLearner/lib/python3.10/site-packages/torchvision/models/_utils.py:223: UserWarning: Arguments other than a weight enum or `None` for 'weights' are deprecated since 0.13 and may be removed in the future. The current behavior is equivalent to passing `weights=None`.\n",
      "  warnings.warn(msg)\n"
     ]
    },
    {
     "name": "stdout",
     "output_type": "stream",
     "text": [
      "Loading weights resnet18_CIFAR11_guns_pixano_v1_CoreSet_4_weights.pth\n",
      "CIFAR11_guns_pixano_v1\n",
      "SEED 1\n",
      "CoreSet\n",
      "Round 5\n",
      "query budget: 1000\n",
      "\n",
      "\n",
      "######################################################### AL ROUND 5 mode query : END ##########################################################\n",
      "\n",
      "\n",
      "Round 5 tagged\n",
      "1000 candidates on round 5\n",
      "AutoAnnotator: round 5 annotated.\n",
      "\n",
      "\n",
      "######################################################## AL ROUND 5 mode train : START #########################################################\n",
      "\n",
      "\n",
      "Namespace(mode='train', data_name='CIFAR11_guns_pixano_v1', n_label='None', n_init_lb=10, n_query=100, data_dir='/home/melissap/_pixano_datasets_/CIFAR11_guns_pixano_v1', pixano_root='/home/melissap/Desktop/LAGO_43integrationDemo/pixano', strategy='CoreSet', round=5, train_out='/home/melissap/Desktop/LAGO_43integrationDemo/pixano/temp_data/output_accuracy/accuracy.csv', query_out='path to the file', seeds=[1, 10, 100, 1000, 10000], init_lb_method='general_random', log_dir='/home/melissap/Desktop/LAGO_43integrationDemo/pixano/ActiveLearning/alpha_mix_active_learning/_logs', save_checkpoints=False, save_images=False, print_to_file=False, query_growth_ratio=1, n_drop=5, eps=0.05, max_iter=50, alpha_cap=0.03125, alpha_opt=False, alpha_closed_form_approx=True, alpha_learning_rate=0.1, alpha_clf_coef=1.0, alpha_l2_coef=0.01, alpha_learning_iters=5, alpha_learn_batch_size=1000000)\n",
      "args.pixano_root  /home/melissap/Desktop/LAGO_43integrationDemo/pixano\n",
      "Loading data ...\n",
      "number of labeled pool: 6000\n",
      "number of unlabeled pool: 49000\n",
      "number of validation pool: 0\n",
      "number of testing pool: 10998\n",
      "Data loaded ...\n",
      "Using cuda device.\n"
     ]
    },
    {
     "name": "stderr",
     "output_type": "stream",
     "text": [
      "/home/melissap/miniconda3/envs/customLearner/lib/python3.10/site-packages/torchvision/models/_utils.py:208: UserWarning: The parameter 'pretrained' is deprecated since 0.13 and may be removed in the future, please use 'weights' instead.\n",
      "  warnings.warn(\n",
      "/home/melissap/miniconda3/envs/customLearner/lib/python3.10/site-packages/torchvision/models/_utils.py:223: UserWarning: Arguments other than a weight enum or `None` for 'weights' are deprecated since 0.13 and may be removed in the future. The current behavior is equivalent to passing `weights=None`.\n",
      "  warnings.warn(msg)\n"
     ]
    },
    {
     "name": "stdout",
     "output_type": "stream",
     "text": [
      "CIFAR11_guns_pixano_v1\n",
      "SEED 1\n",
      "CoreSet\n",
      "Adam optimizer...\n",
      "Loading weights resnet18_CIFAR11_guns_pixano_v1_CoreSet_4_weights.pth\n",
      " Print the weights of the model to ensure that weights are loaded \n",
      "Training started...\n"
     ]
    },
    {
     "name": "stderr",
     "output_type": "stream",
     "text": [
      " 23%|██▎       | 23/100 [02:15<07:33,  5.89s/it]"
     ]
    },
    {
     "name": "stdout",
     "output_type": "stream",
     "text": [
      "Reached max accuracy at epoch 23 \n"
     ]
    },
    {
     "name": "stderr",
     "output_type": "stream",
     "text": [
      " 23%|██▎       | 23/100 [02:21<07:53,  6.15s/it]\n"
     ]
    },
    {
     "name": "stdout",
     "output_type": "stream",
     "text": [
      "Round 0\n",
      "testing accuracy 0.5042735042735043\n",
      "\n",
      "\n",
      "######################################################### AL ROUND 5 mode train : END ##########################################################\n",
      "\n",
      "\n",
      "csvQue /home/melissap/Desktop/LAGO_43integrationDemo/pixano/temp_data/output_queries/queries_6.csv\n",
      "\n",
      "\n",
      "######################################################## AL ROUND 6 mode query : START #########################################################\n",
      "\n",
      "\n",
      "Namespace(mode='query', data_name='CIFAR11_guns_pixano_v1', n_label='None', n_init_lb=1000, n_query=1000, data_dir='/home/melissap/_pixano_datasets_/CIFAR11_guns_pixano_v1', pixano_root='/home/melissap/Desktop/LAGO_43integrationDemo/pixano', strategy='CoreSet', round=6, train_out=None, query_out='/home/melissap/Desktop/LAGO_43integrationDemo/pixano/temp_data/output_queries/queries_6.csv', seeds=[1, 10, 100, 1000, 10000], init_lb_method='general_random', log_dir='/home/melissap/Desktop/LAGO_43integrationDemo/pixano/ActiveLearning/alpha_mix_active_learning/_logs', save_checkpoints=False, save_images=False, print_to_file=False, query_growth_ratio=1, n_drop=5, eps=0.05, max_iter=50, alpha_cap=0.03125, alpha_opt=False, alpha_closed_form_approx=True, alpha_learning_rate=0.1, alpha_clf_coef=1.0, alpha_l2_coef=0.01, alpha_learning_iters=5, alpha_learn_batch_size=1000000)\n",
      "args.pixano_root  /home/melissap/Desktop/LAGO_43integrationDemo/pixano\n",
      "Loading data ...\n",
      "number of labeled pool: 6000\n",
      "number of unlabeled pool: 49000\n",
      "number of validation pool: 0\n",
      "number of testing pool: 10998\n",
      "Data loaded ...\n",
      "Using cuda device.\n"
     ]
    },
    {
     "name": "stderr",
     "output_type": "stream",
     "text": [
      "/home/melissap/miniconda3/envs/customLearner/lib/python3.10/site-packages/torchvision/models/_utils.py:208: UserWarning: The parameter 'pretrained' is deprecated since 0.13 and may be removed in the future, please use 'weights' instead.\n",
      "  warnings.warn(\n",
      "/home/melissap/miniconda3/envs/customLearner/lib/python3.10/site-packages/torchvision/models/_utils.py:223: UserWarning: Arguments other than a weight enum or `None` for 'weights' are deprecated since 0.13 and may be removed in the future. The current behavior is equivalent to passing `weights=None`.\n",
      "  warnings.warn(msg)\n"
     ]
    },
    {
     "name": "stdout",
     "output_type": "stream",
     "text": [
      "Loading weights resnet18_CIFAR11_guns_pixano_v1_CoreSet_5_weights.pth\n",
      "CIFAR11_guns_pixano_v1\n",
      "SEED 1\n",
      "CoreSet\n",
      "Round 6\n",
      "query budget: 1000\n",
      "\n",
      "\n",
      "######################################################### AL ROUND 6 mode query : END ##########################################################\n",
      "\n",
      "\n",
      "Round 6 tagged\n",
      "1000 candidates on round 6\n",
      "AutoAnnotator: round 6 annotated.\n",
      "\n",
      "\n",
      "######################################################## AL ROUND 6 mode train : START #########################################################\n",
      "\n",
      "\n",
      "Namespace(mode='train', data_name='CIFAR11_guns_pixano_v1', n_label='None', n_init_lb=10, n_query=100, data_dir='/home/melissap/_pixano_datasets_/CIFAR11_guns_pixano_v1', pixano_root='/home/melissap/Desktop/LAGO_43integrationDemo/pixano', strategy='CoreSet', round=6, train_out='/home/melissap/Desktop/LAGO_43integrationDemo/pixano/temp_data/output_accuracy/accuracy.csv', query_out='path to the file', seeds=[1, 10, 100, 1000, 10000], init_lb_method='general_random', log_dir='/home/melissap/Desktop/LAGO_43integrationDemo/pixano/ActiveLearning/alpha_mix_active_learning/_logs', save_checkpoints=False, save_images=False, print_to_file=False, query_growth_ratio=1, n_drop=5, eps=0.05, max_iter=50, alpha_cap=0.03125, alpha_opt=False, alpha_closed_form_approx=True, alpha_learning_rate=0.1, alpha_clf_coef=1.0, alpha_l2_coef=0.01, alpha_learning_iters=5, alpha_learn_batch_size=1000000)\n",
      "args.pixano_root  /home/melissap/Desktop/LAGO_43integrationDemo/pixano\n",
      "Loading data ...\n",
      "number of labeled pool: 7000\n",
      "number of unlabeled pool: 48000\n",
      "number of validation pool: 0\n",
      "number of testing pool: 10998\n",
      "Data loaded ...\n",
      "Using cuda device.\n"
     ]
    },
    {
     "name": "stderr",
     "output_type": "stream",
     "text": [
      "/home/melissap/miniconda3/envs/customLearner/lib/python3.10/site-packages/torchvision/models/_utils.py:208: UserWarning: The parameter 'pretrained' is deprecated since 0.13 and may be removed in the future, please use 'weights' instead.\n",
      "  warnings.warn(\n",
      "/home/melissap/miniconda3/envs/customLearner/lib/python3.10/site-packages/torchvision/models/_utils.py:223: UserWarning: Arguments other than a weight enum or `None` for 'weights' are deprecated since 0.13 and may be removed in the future. The current behavior is equivalent to passing `weights=None`.\n",
      "  warnings.warn(msg)\n"
     ]
    },
    {
     "name": "stdout",
     "output_type": "stream",
     "text": [
      "CIFAR11_guns_pixano_v1\n",
      "SEED 1\n",
      "CoreSet\n",
      "Adam optimizer...\n",
      "Loading weights resnet18_CIFAR11_guns_pixano_v1_CoreSet_5_weights.pth\n",
      " Print the weights of the model to ensure that weights are loaded \n",
      "Training started...\n"
     ]
    },
    {
     "name": "stderr",
     "output_type": "stream",
     "text": [
      " 21%|██        | 21/100 [02:22<08:53,  6.75s/it]"
     ]
    },
    {
     "name": "stdout",
     "output_type": "stream",
     "text": [
      "Reached max accuracy at epoch 21 \n"
     ]
    },
    {
     "name": "stderr",
     "output_type": "stream",
     "text": [
      " 21%|██        | 21/100 [02:28<09:20,  7.09s/it]\n"
     ]
    },
    {
     "name": "stdout",
     "output_type": "stream",
     "text": [
      "Round 0\n",
      "testing accuracy 0.5291871249318058\n",
      "\n",
      "\n",
      "######################################################### AL ROUND 6 mode train : END ##########################################################\n",
      "\n",
      "\n",
      "csvQue /home/melissap/Desktop/LAGO_43integrationDemo/pixano/temp_data/output_queries/queries_7.csv\n",
      "\n",
      "\n",
      "######################################################## AL ROUND 7 mode query : START #########################################################\n",
      "\n",
      "\n",
      "Namespace(mode='query', data_name='CIFAR11_guns_pixano_v1', n_label='None', n_init_lb=1000, n_query=1000, data_dir='/home/melissap/_pixano_datasets_/CIFAR11_guns_pixano_v1', pixano_root='/home/melissap/Desktop/LAGO_43integrationDemo/pixano', strategy='CoreSet', round=7, train_out=None, query_out='/home/melissap/Desktop/LAGO_43integrationDemo/pixano/temp_data/output_queries/queries_7.csv', seeds=[1, 10, 100, 1000, 10000], init_lb_method='general_random', log_dir='/home/melissap/Desktop/LAGO_43integrationDemo/pixano/ActiveLearning/alpha_mix_active_learning/_logs', save_checkpoints=False, save_images=False, print_to_file=False, query_growth_ratio=1, n_drop=5, eps=0.05, max_iter=50, alpha_cap=0.03125, alpha_opt=False, alpha_closed_form_approx=True, alpha_learning_rate=0.1, alpha_clf_coef=1.0, alpha_l2_coef=0.01, alpha_learning_iters=5, alpha_learn_batch_size=1000000)\n",
      "args.pixano_root  /home/melissap/Desktop/LAGO_43integrationDemo/pixano\n",
      "Loading data ...\n",
      "number of labeled pool: 7000\n",
      "number of unlabeled pool: 48000\n",
      "number of validation pool: 0\n",
      "number of testing pool: 10998\n",
      "Data loaded ...\n",
      "Using cuda device.\n"
     ]
    },
    {
     "name": "stderr",
     "output_type": "stream",
     "text": [
      "/home/melissap/miniconda3/envs/customLearner/lib/python3.10/site-packages/torchvision/models/_utils.py:208: UserWarning: The parameter 'pretrained' is deprecated since 0.13 and may be removed in the future, please use 'weights' instead.\n",
      "  warnings.warn(\n",
      "/home/melissap/miniconda3/envs/customLearner/lib/python3.10/site-packages/torchvision/models/_utils.py:223: UserWarning: Arguments other than a weight enum or `None` for 'weights' are deprecated since 0.13 and may be removed in the future. The current behavior is equivalent to passing `weights=None`.\n",
      "  warnings.warn(msg)\n"
     ]
    },
    {
     "name": "stdout",
     "output_type": "stream",
     "text": [
      "Loading weights resnet18_CIFAR11_guns_pixano_v1_CoreSet_6_weights.pth\n",
      "CIFAR11_guns_pixano_v1\n",
      "SEED 1\n",
      "CoreSet\n",
      "Round 7\n",
      "query budget: 1000\n",
      "\n",
      "\n",
      "######################################################### AL ROUND 7 mode query : END ##########################################################\n",
      "\n",
      "\n",
      "Round 7 tagged\n",
      "1000 candidates on round 7\n",
      "AutoAnnotator: round 7 annotated.\n",
      "\n",
      "\n",
      "######################################################## AL ROUND 7 mode train : START #########################################################\n",
      "\n",
      "\n",
      "Namespace(mode='train', data_name='CIFAR11_guns_pixano_v1', n_label='None', n_init_lb=10, n_query=100, data_dir='/home/melissap/_pixano_datasets_/CIFAR11_guns_pixano_v1', pixano_root='/home/melissap/Desktop/LAGO_43integrationDemo/pixano', strategy='CoreSet', round=7, train_out='/home/melissap/Desktop/LAGO_43integrationDemo/pixano/temp_data/output_accuracy/accuracy.csv', query_out='path to the file', seeds=[1, 10, 100, 1000, 10000], init_lb_method='general_random', log_dir='/home/melissap/Desktop/LAGO_43integrationDemo/pixano/ActiveLearning/alpha_mix_active_learning/_logs', save_checkpoints=False, save_images=False, print_to_file=False, query_growth_ratio=1, n_drop=5, eps=0.05, max_iter=50, alpha_cap=0.03125, alpha_opt=False, alpha_closed_form_approx=True, alpha_learning_rate=0.1, alpha_clf_coef=1.0, alpha_l2_coef=0.01, alpha_learning_iters=5, alpha_learn_batch_size=1000000)\n",
      "args.pixano_root  /home/melissap/Desktop/LAGO_43integrationDemo/pixano\n",
      "Loading data ...\n",
      "number of labeled pool: 8000\n",
      "number of unlabeled pool: 47000\n",
      "number of validation pool: 0\n",
      "number of testing pool: 10998\n",
      "Data loaded ...\n",
      "Using cuda device.\n"
     ]
    },
    {
     "name": "stderr",
     "output_type": "stream",
     "text": [
      "/home/melissap/miniconda3/envs/customLearner/lib/python3.10/site-packages/torchvision/models/_utils.py:208: UserWarning: The parameter 'pretrained' is deprecated since 0.13 and may be removed in the future, please use 'weights' instead.\n",
      "  warnings.warn(\n",
      "/home/melissap/miniconda3/envs/customLearner/lib/python3.10/site-packages/torchvision/models/_utils.py:223: UserWarning: Arguments other than a weight enum or `None` for 'weights' are deprecated since 0.13 and may be removed in the future. The current behavior is equivalent to passing `weights=None`.\n",
      "  warnings.warn(msg)\n"
     ]
    },
    {
     "name": "stdout",
     "output_type": "stream",
     "text": [
      "CIFAR11_guns_pixano_v1\n",
      "SEED 1\n",
      "CoreSet\n",
      "Adam optimizer...\n",
      "Loading weights resnet18_CIFAR11_guns_pixano_v1_CoreSet_6_weights.pth\n",
      " Print the weights of the model to ensure that weights are loaded \n",
      "Training started...\n"
     ]
    },
    {
     "name": "stderr",
     "output_type": "stream",
     "text": [
      "  3%|▎         | 3/100 [00:23<12:27,  7.71s/it]"
     ]
    },
    {
     "name": "stdout",
     "output_type": "stream",
     "text": [
      "Reached max accuracy at epoch 3 \n"
     ]
    },
    {
     "name": "stderr",
     "output_type": "stream",
     "text": [
      "  3%|▎         | 3/100 [00:30<16:40, 10.31s/it]\n"
     ]
    },
    {
     "name": "stdout",
     "output_type": "stream",
     "text": [
      "Round 0\n",
      "testing accuracy 0.5598290598290598\n",
      "\n",
      "\n",
      "######################################################### AL ROUND 7 mode train : END ##########################################################\n",
      "\n",
      "\n",
      "csvQue /home/melissap/Desktop/LAGO_43integrationDemo/pixano/temp_data/output_queries/queries_8.csv\n",
      "\n",
      "\n",
      "######################################################## AL ROUND 8 mode query : START #########################################################\n",
      "\n",
      "\n",
      "Namespace(mode='query', data_name='CIFAR11_guns_pixano_v1', n_label='None', n_init_lb=1000, n_query=1000, data_dir='/home/melissap/_pixano_datasets_/CIFAR11_guns_pixano_v1', pixano_root='/home/melissap/Desktop/LAGO_43integrationDemo/pixano', strategy='CoreSet', round=8, train_out=None, query_out='/home/melissap/Desktop/LAGO_43integrationDemo/pixano/temp_data/output_queries/queries_8.csv', seeds=[1, 10, 100, 1000, 10000], init_lb_method='general_random', log_dir='/home/melissap/Desktop/LAGO_43integrationDemo/pixano/ActiveLearning/alpha_mix_active_learning/_logs', save_checkpoints=False, save_images=False, print_to_file=False, query_growth_ratio=1, n_drop=5, eps=0.05, max_iter=50, alpha_cap=0.03125, alpha_opt=False, alpha_closed_form_approx=True, alpha_learning_rate=0.1, alpha_clf_coef=1.0, alpha_l2_coef=0.01, alpha_learning_iters=5, alpha_learn_batch_size=1000000)\n",
      "args.pixano_root  /home/melissap/Desktop/LAGO_43integrationDemo/pixano\n",
      "Loading data ...\n",
      "number of labeled pool: 8000\n",
      "number of unlabeled pool: 47000\n",
      "number of validation pool: 0\n",
      "number of testing pool: 10998\n",
      "Data loaded ...\n",
      "Using cuda device.\n"
     ]
    },
    {
     "name": "stderr",
     "output_type": "stream",
     "text": [
      "/home/melissap/miniconda3/envs/customLearner/lib/python3.10/site-packages/torchvision/models/_utils.py:208: UserWarning: The parameter 'pretrained' is deprecated since 0.13 and may be removed in the future, please use 'weights' instead.\n",
      "  warnings.warn(\n",
      "/home/melissap/miniconda3/envs/customLearner/lib/python3.10/site-packages/torchvision/models/_utils.py:223: UserWarning: Arguments other than a weight enum or `None` for 'weights' are deprecated since 0.13 and may be removed in the future. The current behavior is equivalent to passing `weights=None`.\n",
      "  warnings.warn(msg)\n"
     ]
    },
    {
     "name": "stdout",
     "output_type": "stream",
     "text": [
      "Loading weights resnet18_CIFAR11_guns_pixano_v1_CoreSet_7_weights.pth\n",
      "CIFAR11_guns_pixano_v1\n",
      "SEED 1\n",
      "CoreSet\n",
      "Round 8\n",
      "query budget: 1000\n",
      "\n",
      "\n",
      "######################################################### AL ROUND 8 mode query : END ##########################################################\n",
      "\n",
      "\n",
      "Round 8 tagged\n",
      "1000 candidates on round 8\n",
      "AutoAnnotator: round 8 annotated.\n",
      "\n",
      "\n",
      "######################################################## AL ROUND 8 mode train : START #########################################################\n",
      "\n",
      "\n",
      "Namespace(mode='train', data_name='CIFAR11_guns_pixano_v1', n_label='None', n_init_lb=10, n_query=100, data_dir='/home/melissap/_pixano_datasets_/CIFAR11_guns_pixano_v1', pixano_root='/home/melissap/Desktop/LAGO_43integrationDemo/pixano', strategy='CoreSet', round=8, train_out='/home/melissap/Desktop/LAGO_43integrationDemo/pixano/temp_data/output_accuracy/accuracy.csv', query_out='path to the file', seeds=[1, 10, 100, 1000, 10000], init_lb_method='general_random', log_dir='/home/melissap/Desktop/LAGO_43integrationDemo/pixano/ActiveLearning/alpha_mix_active_learning/_logs', save_checkpoints=False, save_images=False, print_to_file=False, query_growth_ratio=1, n_drop=5, eps=0.05, max_iter=50, alpha_cap=0.03125, alpha_opt=False, alpha_closed_form_approx=True, alpha_learning_rate=0.1, alpha_clf_coef=1.0, alpha_l2_coef=0.01, alpha_learning_iters=5, alpha_learn_batch_size=1000000)\n",
      "args.pixano_root  /home/melissap/Desktop/LAGO_43integrationDemo/pixano\n",
      "Loading data ...\n",
      "number of labeled pool: 9000\n",
      "number of unlabeled pool: 46000\n",
      "number of validation pool: 0\n",
      "number of testing pool: 10998\n",
      "Data loaded ...\n",
      "Using cuda device.\n"
     ]
    },
    {
     "name": "stderr",
     "output_type": "stream",
     "text": [
      "/home/melissap/miniconda3/envs/customLearner/lib/python3.10/site-packages/torchvision/models/_utils.py:208: UserWarning: The parameter 'pretrained' is deprecated since 0.13 and may be removed in the future, please use 'weights' instead.\n",
      "  warnings.warn(\n",
      "/home/melissap/miniconda3/envs/customLearner/lib/python3.10/site-packages/torchvision/models/_utils.py:223: UserWarning: Arguments other than a weight enum or `None` for 'weights' are deprecated since 0.13 and may be removed in the future. The current behavior is equivalent to passing `weights=None`.\n",
      "  warnings.warn(msg)\n"
     ]
    },
    {
     "name": "stdout",
     "output_type": "stream",
     "text": [
      "CIFAR11_guns_pixano_v1\n",
      "SEED 1\n",
      "CoreSet\n",
      "Adam optimizer...\n",
      "Loading weights resnet18_CIFAR11_guns_pixano_v1_CoreSet_7_weights.pth\n",
      " Print the weights of the model to ensure that weights are loaded \n",
      "Training started...\n"
     ]
    },
    {
     "name": "stderr",
     "output_type": "stream",
     "text": [
      " 11%|█         | 11/100 [01:32<12:13,  8.24s/it]"
     ]
    },
    {
     "name": "stdout",
     "output_type": "stream",
     "text": [
      "Reached max accuracy at epoch 11 \n"
     ]
    },
    {
     "name": "stderr",
     "output_type": "stream",
     "text": [
      " 11%|█         | 11/100 [01:40<13:33,  9.15s/it]\n"
     ]
    },
    {
     "name": "stdout",
     "output_type": "stream",
     "text": [
      "Round 0\n",
      "testing accuracy 0.561102018548827\n",
      "\n",
      "\n",
      "######################################################### AL ROUND 8 mode train : END ##########################################################\n",
      "\n",
      "\n",
      "csvQue /home/melissap/Desktop/LAGO_43integrationDemo/pixano/temp_data/output_queries/queries_9.csv\n",
      "\n",
      "\n",
      "######################################################## AL ROUND 9 mode query : START #########################################################\n",
      "\n",
      "\n",
      "Namespace(mode='query', data_name='CIFAR11_guns_pixano_v1', n_label='None', n_init_lb=1000, n_query=1000, data_dir='/home/melissap/_pixano_datasets_/CIFAR11_guns_pixano_v1', pixano_root='/home/melissap/Desktop/LAGO_43integrationDemo/pixano', strategy='CoreSet', round=9, train_out=None, query_out='/home/melissap/Desktop/LAGO_43integrationDemo/pixano/temp_data/output_queries/queries_9.csv', seeds=[1, 10, 100, 1000, 10000], init_lb_method='general_random', log_dir='/home/melissap/Desktop/LAGO_43integrationDemo/pixano/ActiveLearning/alpha_mix_active_learning/_logs', save_checkpoints=False, save_images=False, print_to_file=False, query_growth_ratio=1, n_drop=5, eps=0.05, max_iter=50, alpha_cap=0.03125, alpha_opt=False, alpha_closed_form_approx=True, alpha_learning_rate=0.1, alpha_clf_coef=1.0, alpha_l2_coef=0.01, alpha_learning_iters=5, alpha_learn_batch_size=1000000)\n",
      "args.pixano_root  /home/melissap/Desktop/LAGO_43integrationDemo/pixano\n",
      "Loading data ...\n",
      "number of labeled pool: 9000\n",
      "number of unlabeled pool: 46000\n",
      "number of validation pool: 0\n",
      "number of testing pool: 10998\n",
      "Data loaded ...\n",
      "Using cuda device.\n"
     ]
    },
    {
     "name": "stderr",
     "output_type": "stream",
     "text": [
      "/home/melissap/miniconda3/envs/customLearner/lib/python3.10/site-packages/torchvision/models/_utils.py:208: UserWarning: The parameter 'pretrained' is deprecated since 0.13 and may be removed in the future, please use 'weights' instead.\n",
      "  warnings.warn(\n",
      "/home/melissap/miniconda3/envs/customLearner/lib/python3.10/site-packages/torchvision/models/_utils.py:223: UserWarning: Arguments other than a weight enum or `None` for 'weights' are deprecated since 0.13 and may be removed in the future. The current behavior is equivalent to passing `weights=None`.\n",
      "  warnings.warn(msg)\n"
     ]
    },
    {
     "name": "stdout",
     "output_type": "stream",
     "text": [
      "Loading weights resnet18_CIFAR11_guns_pixano_v1_CoreSet_8_weights.pth\n",
      "CIFAR11_guns_pixano_v1\n",
      "SEED 1\n",
      "CoreSet\n",
      "Round 9\n",
      "query budget: 1000\n",
      "\n",
      "\n",
      "######################################################### AL ROUND 9 mode query : END ##########################################################\n",
      "\n",
      "\n",
      "Round 9 tagged\n",
      "1000 candidates on round 9\n",
      "AutoAnnotator: round 9 annotated.\n",
      "\n",
      "\n",
      "######################################################## AL ROUND 9 mode train : START #########################################################\n",
      "\n",
      "\n",
      "Namespace(mode='train', data_name='CIFAR11_guns_pixano_v1', n_label='None', n_init_lb=10, n_query=100, data_dir='/home/melissap/_pixano_datasets_/CIFAR11_guns_pixano_v1', pixano_root='/home/melissap/Desktop/LAGO_43integrationDemo/pixano', strategy='CoreSet', round=9, train_out='/home/melissap/Desktop/LAGO_43integrationDemo/pixano/temp_data/output_accuracy/accuracy.csv', query_out='path to the file', seeds=[1, 10, 100, 1000, 10000], init_lb_method='general_random', log_dir='/home/melissap/Desktop/LAGO_43integrationDemo/pixano/ActiveLearning/alpha_mix_active_learning/_logs', save_checkpoints=False, save_images=False, print_to_file=False, query_growth_ratio=1, n_drop=5, eps=0.05, max_iter=50, alpha_cap=0.03125, alpha_opt=False, alpha_closed_form_approx=True, alpha_learning_rate=0.1, alpha_clf_coef=1.0, alpha_l2_coef=0.01, alpha_learning_iters=5, alpha_learn_batch_size=1000000)\n",
      "args.pixano_root  /home/melissap/Desktop/LAGO_43integrationDemo/pixano\n",
      "Loading data ...\n",
      "number of labeled pool: 10000\n",
      "number of unlabeled pool: 45000\n",
      "number of validation pool: 0\n",
      "number of testing pool: 10998\n",
      "Data loaded ...\n",
      "Using cuda device.\n"
     ]
    },
    {
     "name": "stderr",
     "output_type": "stream",
     "text": [
      "/home/melissap/miniconda3/envs/customLearner/lib/python3.10/site-packages/torchvision/models/_utils.py:208: UserWarning: The parameter 'pretrained' is deprecated since 0.13 and may be removed in the future, please use 'weights' instead.\n",
      "  warnings.warn(\n",
      "/home/melissap/miniconda3/envs/customLearner/lib/python3.10/site-packages/torchvision/models/_utils.py:223: UserWarning: Arguments other than a weight enum or `None` for 'weights' are deprecated since 0.13 and may be removed in the future. The current behavior is equivalent to passing `weights=None`.\n",
      "  warnings.warn(msg)\n"
     ]
    },
    {
     "name": "stdout",
     "output_type": "stream",
     "text": [
      "CIFAR11_guns_pixano_v1\n",
      "SEED 1\n",
      "CoreSet\n",
      "Adam optimizer...\n",
      "Loading weights resnet18_CIFAR11_guns_pixano_v1_CoreSet_8_weights.pth\n",
      " Print the weights of the model to ensure that weights are loaded \n",
      "Training started...\n"
     ]
    },
    {
     "name": "stderr",
     "output_type": "stream",
     "text": [
      "  2%|▏         | 2/100 [00:19<16:09,  9.90s/it]"
     ]
    },
    {
     "name": "stdout",
     "output_type": "stream",
     "text": [
      "Reached max accuracy at epoch 2 \n"
     ]
    },
    {
     "name": "stderr",
     "output_type": "stream",
     "text": [
      "  2%|▏         | 2/100 [00:29<24:08, 14.78s/it]\n"
     ]
    },
    {
     "name": "stdout",
     "output_type": "stream",
     "text": [
      "Round 0\n",
      "testing accuracy 0.5800145480996545\n",
      "\n",
      "\n",
      "######################################################### AL ROUND 9 mode train : END ##########################################################\n",
      "\n",
      "\n",
      "csvQue /home/melissap/Desktop/LAGO_43integrationDemo/pixano/temp_data/output_queries/queries_10.csv\n",
      "\n",
      "\n",
      "######################################################## AL ROUND 10 mode query : START #########################################################\n",
      "\n",
      "\n",
      "Namespace(mode='query', data_name='CIFAR11_guns_pixano_v1', n_label='None', n_init_lb=1000, n_query=1000, data_dir='/home/melissap/_pixano_datasets_/CIFAR11_guns_pixano_v1', pixano_root='/home/melissap/Desktop/LAGO_43integrationDemo/pixano', strategy='CoreSet', round=10, train_out=None, query_out='/home/melissap/Desktop/LAGO_43integrationDemo/pixano/temp_data/output_queries/queries_10.csv', seeds=[1, 10, 100, 1000, 10000], init_lb_method='general_random', log_dir='/home/melissap/Desktop/LAGO_43integrationDemo/pixano/ActiveLearning/alpha_mix_active_learning/_logs', save_checkpoints=False, save_images=False, print_to_file=False, query_growth_ratio=1, n_drop=5, eps=0.05, max_iter=50, alpha_cap=0.03125, alpha_opt=False, alpha_closed_form_approx=True, alpha_learning_rate=0.1, alpha_clf_coef=1.0, alpha_l2_coef=0.01, alpha_learning_iters=5, alpha_learn_batch_size=1000000)\n",
      "args.pixano_root  /home/melissap/Desktop/LAGO_43integrationDemo/pixano\n",
      "Loading data ...\n",
      "number of labeled pool: 10000\n",
      "number of unlabeled pool: 45000\n",
      "number of validation pool: 0\n",
      "number of testing pool: 10998\n",
      "Data loaded ...\n",
      "Using cuda device.\n"
     ]
    },
    {
     "name": "stderr",
     "output_type": "stream",
     "text": [
      "/home/melissap/miniconda3/envs/customLearner/lib/python3.10/site-packages/torchvision/models/_utils.py:208: UserWarning: The parameter 'pretrained' is deprecated since 0.13 and may be removed in the future, please use 'weights' instead.\n",
      "  warnings.warn(\n",
      "/home/melissap/miniconda3/envs/customLearner/lib/python3.10/site-packages/torchvision/models/_utils.py:223: UserWarning: Arguments other than a weight enum or `None` for 'weights' are deprecated since 0.13 and may be removed in the future. The current behavior is equivalent to passing `weights=None`.\n",
      "  warnings.warn(msg)\n"
     ]
    },
    {
     "name": "stdout",
     "output_type": "stream",
     "text": [
      "Loading weights resnet18_CIFAR11_guns_pixano_v1_CoreSet_9_weights.pth\n",
      "CIFAR11_guns_pixano_v1\n",
      "SEED 1\n",
      "CoreSet\n",
      "Round 10\n",
      "query budget: 1000\n",
      "\n",
      "\n",
      "######################################################### AL ROUND 10 mode query : END ##########################################################\n",
      "\n",
      "\n",
      "Round 10 tagged\n",
      "1000 candidates on round 10\n",
      "AutoAnnotator: round 10 annotated.\n",
      "\n",
      "\n",
      "######################################################## AL ROUND 10 mode train : START #########################################################\n",
      "\n",
      "\n",
      "Namespace(mode='train', data_name='CIFAR11_guns_pixano_v1', n_label='None', n_init_lb=10, n_query=100, data_dir='/home/melissap/_pixano_datasets_/CIFAR11_guns_pixano_v1', pixano_root='/home/melissap/Desktop/LAGO_43integrationDemo/pixano', strategy='CoreSet', round=10, train_out='/home/melissap/Desktop/LAGO_43integrationDemo/pixano/temp_data/output_accuracy/accuracy.csv', query_out='path to the file', seeds=[1, 10, 100, 1000, 10000], init_lb_method='general_random', log_dir='/home/melissap/Desktop/LAGO_43integrationDemo/pixano/ActiveLearning/alpha_mix_active_learning/_logs', save_checkpoints=False, save_images=False, print_to_file=False, query_growth_ratio=1, n_drop=5, eps=0.05, max_iter=50, alpha_cap=0.03125, alpha_opt=False, alpha_closed_form_approx=True, alpha_learning_rate=0.1, alpha_clf_coef=1.0, alpha_l2_coef=0.01, alpha_learning_iters=5, alpha_learn_batch_size=1000000)\n",
      "args.pixano_root  /home/melissap/Desktop/LAGO_43integrationDemo/pixano\n",
      "Loading data ...\n",
      "number of labeled pool: 11000\n",
      "number of unlabeled pool: 44000\n",
      "number of validation pool: 0\n",
      "number of testing pool: 10998\n",
      "Data loaded ...\n",
      "Using cuda device.\n"
     ]
    },
    {
     "name": "stderr",
     "output_type": "stream",
     "text": [
      "/home/melissap/miniconda3/envs/customLearner/lib/python3.10/site-packages/torchvision/models/_utils.py:208: UserWarning: The parameter 'pretrained' is deprecated since 0.13 and may be removed in the future, please use 'weights' instead.\n",
      "  warnings.warn(\n",
      "/home/melissap/miniconda3/envs/customLearner/lib/python3.10/site-packages/torchvision/models/_utils.py:223: UserWarning: Arguments other than a weight enum or `None` for 'weights' are deprecated since 0.13 and may be removed in the future. The current behavior is equivalent to passing `weights=None`.\n",
      "  warnings.warn(msg)\n"
     ]
    },
    {
     "name": "stdout",
     "output_type": "stream",
     "text": [
      "CIFAR11_guns_pixano_v1\n",
      "SEED 1\n",
      "CoreSet\n",
      "Adam optimizer...\n",
      "Loading weights resnet18_CIFAR11_guns_pixano_v1_CoreSet_9_weights.pth\n",
      " Print the weights of the model to ensure that weights are loaded \n",
      "Training started...\n"
     ]
    },
    {
     "name": "stderr",
     "output_type": "stream",
     "text": [
      " 18%|█▊        | 18/100 [03:08<14:16, 10.44s/it]"
     ]
    },
    {
     "name": "stdout",
     "output_type": "stream",
     "text": [
      "Reached max accuracy at epoch 18 \n"
     ]
    },
    {
     "name": "stderr",
     "output_type": "stream",
     "text": [
      " 18%|█▊        | 18/100 [03:19<15:07, 11.06s/it]\n"
     ]
    },
    {
     "name": "stdout",
     "output_type": "stream",
     "text": [
      "Round 0\n",
      "testing accuracy 0.585561011092926\n",
      "\n",
      "\n",
      "######################################################### AL ROUND 10 mode train : END ##########################################################\n",
      "\n",
      "\n",
      "csvQue /home/melissap/Desktop/LAGO_43integrationDemo/pixano/temp_data/output_queries/queries_11.csv\n",
      "\n",
      "\n",
      "######################################################## AL ROUND 11 mode query : START #########################################################\n",
      "\n",
      "\n",
      "Namespace(mode='query', data_name='CIFAR11_guns_pixano_v1', n_label='None', n_init_lb=1000, n_query=1000, data_dir='/home/melissap/_pixano_datasets_/CIFAR11_guns_pixano_v1', pixano_root='/home/melissap/Desktop/LAGO_43integrationDemo/pixano', strategy='CoreSet', round=11, train_out=None, query_out='/home/melissap/Desktop/LAGO_43integrationDemo/pixano/temp_data/output_queries/queries_11.csv', seeds=[1, 10, 100, 1000, 10000], init_lb_method='general_random', log_dir='/home/melissap/Desktop/LAGO_43integrationDemo/pixano/ActiveLearning/alpha_mix_active_learning/_logs', save_checkpoints=False, save_images=False, print_to_file=False, query_growth_ratio=1, n_drop=5, eps=0.05, max_iter=50, alpha_cap=0.03125, alpha_opt=False, alpha_closed_form_approx=True, alpha_learning_rate=0.1, alpha_clf_coef=1.0, alpha_l2_coef=0.01, alpha_learning_iters=5, alpha_learn_batch_size=1000000)\n",
      "args.pixano_root  /home/melissap/Desktop/LAGO_43integrationDemo/pixano\n",
      "Loading data ...\n",
      "number of labeled pool: 11000\n",
      "number of unlabeled pool: 44000\n",
      "number of validation pool: 0\n",
      "number of testing pool: 10998\n",
      "Data loaded ...\n",
      "Using cuda device.\n"
     ]
    },
    {
     "name": "stderr",
     "output_type": "stream",
     "text": [
      "/home/melissap/miniconda3/envs/customLearner/lib/python3.10/site-packages/torchvision/models/_utils.py:208: UserWarning: The parameter 'pretrained' is deprecated since 0.13 and may be removed in the future, please use 'weights' instead.\n",
      "  warnings.warn(\n",
      "/home/melissap/miniconda3/envs/customLearner/lib/python3.10/site-packages/torchvision/models/_utils.py:223: UserWarning: Arguments other than a weight enum or `None` for 'weights' are deprecated since 0.13 and may be removed in the future. The current behavior is equivalent to passing `weights=None`.\n",
      "  warnings.warn(msg)\n"
     ]
    },
    {
     "name": "stdout",
     "output_type": "stream",
     "text": [
      "Loading weights resnet18_CIFAR11_guns_pixano_v1_CoreSet_10_weights.pth\n",
      "CIFAR11_guns_pixano_v1\n",
      "SEED 1\n",
      "CoreSet\n",
      "Round 11\n",
      "query budget: 1000\n",
      "\n",
      "\n",
      "######################################################### AL ROUND 11 mode query : END ##########################################################\n",
      "\n",
      "\n",
      "Round 11 tagged\n",
      "1000 candidates on round 11\n",
      "AutoAnnotator: round 11 annotated.\n",
      "\n",
      "\n",
      "######################################################## AL ROUND 11 mode train : START #########################################################\n",
      "\n",
      "\n",
      "Namespace(mode='train', data_name='CIFAR11_guns_pixano_v1', n_label='None', n_init_lb=10, n_query=100, data_dir='/home/melissap/_pixano_datasets_/CIFAR11_guns_pixano_v1', pixano_root='/home/melissap/Desktop/LAGO_43integrationDemo/pixano', strategy='CoreSet', round=11, train_out='/home/melissap/Desktop/LAGO_43integrationDemo/pixano/temp_data/output_accuracy/accuracy.csv', query_out='path to the file', seeds=[1, 10, 100, 1000, 10000], init_lb_method='general_random', log_dir='/home/melissap/Desktop/LAGO_43integrationDemo/pixano/ActiveLearning/alpha_mix_active_learning/_logs', save_checkpoints=False, save_images=False, print_to_file=False, query_growth_ratio=1, n_drop=5, eps=0.05, max_iter=50, alpha_cap=0.03125, alpha_opt=False, alpha_closed_form_approx=True, alpha_learning_rate=0.1, alpha_clf_coef=1.0, alpha_l2_coef=0.01, alpha_learning_iters=5, alpha_learn_batch_size=1000000)\n",
      "args.pixano_root  /home/melissap/Desktop/LAGO_43integrationDemo/pixano\n",
      "Loading data ...\n",
      "number of labeled pool: 12000\n",
      "number of unlabeled pool: 43000\n",
      "number of validation pool: 0\n",
      "number of testing pool: 10998\n",
      "Data loaded ...\n",
      "Using cuda device.\n"
     ]
    },
    {
     "name": "stderr",
     "output_type": "stream",
     "text": [
      "/home/melissap/miniconda3/envs/customLearner/lib/python3.10/site-packages/torchvision/models/_utils.py:208: UserWarning: The parameter 'pretrained' is deprecated since 0.13 and may be removed in the future, please use 'weights' instead.\n",
      "  warnings.warn(\n",
      "/home/melissap/miniconda3/envs/customLearner/lib/python3.10/site-packages/torchvision/models/_utils.py:223: UserWarning: Arguments other than a weight enum or `None` for 'weights' are deprecated since 0.13 and may be removed in the future. The current behavior is equivalent to passing `weights=None`.\n",
      "  warnings.warn(msg)\n"
     ]
    },
    {
     "name": "stdout",
     "output_type": "stream",
     "text": [
      "CIFAR11_guns_pixano_v1\n",
      "SEED 1\n",
      "CoreSet\n",
      "Adam optimizer...\n",
      "Loading weights resnet18_CIFAR11_guns_pixano_v1_CoreSet_10_weights.pth\n",
      " Print the weights of the model to ensure that weights are loaded \n",
      "Training started...\n"
     ]
    },
    {
     "name": "stderr",
     "output_type": "stream",
     "text": [
      "  3%|▎         | 3/100 [00:34<18:33, 11.48s/it]"
     ]
    },
    {
     "name": "stdout",
     "output_type": "stream",
     "text": [
      "Reached max accuracy at epoch 3 \n"
     ]
    },
    {
     "name": "stderr",
     "output_type": "stream",
     "text": [
      "  3%|▎         | 3/100 [00:46<24:50, 15.36s/it]\n"
     ]
    },
    {
     "name": "stdout",
     "output_type": "stream",
     "text": [
      "Round 0\n",
      "testing accuracy 0.5954719039825422\n",
      "\n",
      "\n",
      "######################################################### AL ROUND 11 mode train : END ##########################################################\n",
      "\n",
      "\n",
      "csvQue /home/melissap/Desktop/LAGO_43integrationDemo/pixano/temp_data/output_queries/queries_12.csv\n",
      "\n",
      "\n",
      "######################################################## AL ROUND 12 mode query : START #########################################################\n",
      "\n",
      "\n",
      "Namespace(mode='query', data_name='CIFAR11_guns_pixano_v1', n_label='None', n_init_lb=1000, n_query=1000, data_dir='/home/melissap/_pixano_datasets_/CIFAR11_guns_pixano_v1', pixano_root='/home/melissap/Desktop/LAGO_43integrationDemo/pixano', strategy='CoreSet', round=12, train_out=None, query_out='/home/melissap/Desktop/LAGO_43integrationDemo/pixano/temp_data/output_queries/queries_12.csv', seeds=[1, 10, 100, 1000, 10000], init_lb_method='general_random', log_dir='/home/melissap/Desktop/LAGO_43integrationDemo/pixano/ActiveLearning/alpha_mix_active_learning/_logs', save_checkpoints=False, save_images=False, print_to_file=False, query_growth_ratio=1, n_drop=5, eps=0.05, max_iter=50, alpha_cap=0.03125, alpha_opt=False, alpha_closed_form_approx=True, alpha_learning_rate=0.1, alpha_clf_coef=1.0, alpha_l2_coef=0.01, alpha_learning_iters=5, alpha_learn_batch_size=1000000)\n",
      "args.pixano_root  /home/melissap/Desktop/LAGO_43integrationDemo/pixano\n",
      "Loading data ...\n",
      "number of labeled pool: 12000\n",
      "number of unlabeled pool: 43000\n",
      "number of validation pool: 0\n",
      "number of testing pool: 10998\n",
      "Data loaded ...\n",
      "Using cuda device.\n"
     ]
    },
    {
     "name": "stderr",
     "output_type": "stream",
     "text": [
      "/home/melissap/miniconda3/envs/customLearner/lib/python3.10/site-packages/torchvision/models/_utils.py:208: UserWarning: The parameter 'pretrained' is deprecated since 0.13 and may be removed in the future, please use 'weights' instead.\n",
      "  warnings.warn(\n",
      "/home/melissap/miniconda3/envs/customLearner/lib/python3.10/site-packages/torchvision/models/_utils.py:223: UserWarning: Arguments other than a weight enum or `None` for 'weights' are deprecated since 0.13 and may be removed in the future. The current behavior is equivalent to passing `weights=None`.\n",
      "  warnings.warn(msg)\n"
     ]
    },
    {
     "name": "stdout",
     "output_type": "stream",
     "text": [
      "Loading weights resnet18_CIFAR11_guns_pixano_v1_CoreSet_11_weights.pth\n",
      "CIFAR11_guns_pixano_v1\n",
      "SEED 1\n",
      "CoreSet\n",
      "Round 12\n",
      "query budget: 1000\n",
      "\n",
      "\n",
      "######################################################### AL ROUND 12 mode query : END ##########################################################\n",
      "\n",
      "\n",
      "Round 12 tagged\n",
      "1000 candidates on round 12\n",
      "AutoAnnotator: round 12 annotated.\n",
      "\n",
      "\n",
      "######################################################## AL ROUND 12 mode train : START #########################################################\n",
      "\n",
      "\n",
      "Namespace(mode='train', data_name='CIFAR11_guns_pixano_v1', n_label='None', n_init_lb=10, n_query=100, data_dir='/home/melissap/_pixano_datasets_/CIFAR11_guns_pixano_v1', pixano_root='/home/melissap/Desktop/LAGO_43integrationDemo/pixano', strategy='CoreSet', round=12, train_out='/home/melissap/Desktop/LAGO_43integrationDemo/pixano/temp_data/output_accuracy/accuracy.csv', query_out='path to the file', seeds=[1, 10, 100, 1000, 10000], init_lb_method='general_random', log_dir='/home/melissap/Desktop/LAGO_43integrationDemo/pixano/ActiveLearning/alpha_mix_active_learning/_logs', save_checkpoints=False, save_images=False, print_to_file=False, query_growth_ratio=1, n_drop=5, eps=0.05, max_iter=50, alpha_cap=0.03125, alpha_opt=False, alpha_closed_form_approx=True, alpha_learning_rate=0.1, alpha_clf_coef=1.0, alpha_l2_coef=0.01, alpha_learning_iters=5, alpha_learn_batch_size=1000000)\n",
      "args.pixano_root  /home/melissap/Desktop/LAGO_43integrationDemo/pixano\n",
      "Loading data ...\n",
      "number of labeled pool: 13000\n",
      "number of unlabeled pool: 42000\n",
      "number of validation pool: 0\n",
      "number of testing pool: 10998\n",
      "Data loaded ...\n",
      "Using cuda device.\n"
     ]
    },
    {
     "name": "stderr",
     "output_type": "stream",
     "text": [
      "/home/melissap/miniconda3/envs/customLearner/lib/python3.10/site-packages/torchvision/models/_utils.py:208: UserWarning: The parameter 'pretrained' is deprecated since 0.13 and may be removed in the future, please use 'weights' instead.\n",
      "  warnings.warn(\n",
      "/home/melissap/miniconda3/envs/customLearner/lib/python3.10/site-packages/torchvision/models/_utils.py:223: UserWarning: Arguments other than a weight enum or `None` for 'weights' are deprecated since 0.13 and may be removed in the future. The current behavior is equivalent to passing `weights=None`.\n",
      "  warnings.warn(msg)\n"
     ]
    },
    {
     "name": "stdout",
     "output_type": "stream",
     "text": [
      "CIFAR11_guns_pixano_v1\n",
      "SEED 1\n",
      "CoreSet\n",
      "Adam optimizer...\n",
      "Loading weights resnet18_CIFAR11_guns_pixano_v1_CoreSet_11_weights.pth\n",
      " Print the weights of the model to ensure that weights are loaded \n",
      "Training started...\n"
     ]
    },
    {
     "name": "stderr",
     "output_type": "stream",
     "text": [
      "  6%|▌         | 6/100 [01:13<19:01, 12.14s/it]"
     ]
    },
    {
     "name": "stdout",
     "output_type": "stream",
     "text": [
      "Reached max accuracy at epoch 6 \n"
     ]
    },
    {
     "name": "stderr",
     "output_type": "stream",
     "text": [
      "  6%|▌         | 6/100 [01:25<22:19, 14.25s/it]\n"
     ]
    },
    {
     "name": "stdout",
     "output_type": "stream",
     "text": [
      "Round 0\n",
      "testing accuracy 0.5946535733769777\n",
      "\n",
      "\n",
      "######################################################### AL ROUND 12 mode train : END ##########################################################\n",
      "\n",
      "\n",
      "csvQue /home/melissap/Desktop/LAGO_43integrationDemo/pixano/temp_data/output_queries/queries_13.csv\n",
      "\n",
      "\n",
      "######################################################## AL ROUND 13 mode query : START #########################################################\n",
      "\n",
      "\n",
      "Namespace(mode='query', data_name='CIFAR11_guns_pixano_v1', n_label='None', n_init_lb=1000, n_query=1000, data_dir='/home/melissap/_pixano_datasets_/CIFAR11_guns_pixano_v1', pixano_root='/home/melissap/Desktop/LAGO_43integrationDemo/pixano', strategy='CoreSet', round=13, train_out=None, query_out='/home/melissap/Desktop/LAGO_43integrationDemo/pixano/temp_data/output_queries/queries_13.csv', seeds=[1, 10, 100, 1000, 10000], init_lb_method='general_random', log_dir='/home/melissap/Desktop/LAGO_43integrationDemo/pixano/ActiveLearning/alpha_mix_active_learning/_logs', save_checkpoints=False, save_images=False, print_to_file=False, query_growth_ratio=1, n_drop=5, eps=0.05, max_iter=50, alpha_cap=0.03125, alpha_opt=False, alpha_closed_form_approx=True, alpha_learning_rate=0.1, alpha_clf_coef=1.0, alpha_l2_coef=0.01, alpha_learning_iters=5, alpha_learn_batch_size=1000000)\n",
      "args.pixano_root  /home/melissap/Desktop/LAGO_43integrationDemo/pixano\n",
      "Loading data ...\n",
      "number of labeled pool: 13000\n",
      "number of unlabeled pool: 42000\n",
      "number of validation pool: 0\n",
      "number of testing pool: 10998\n",
      "Data loaded ...\n",
      "Using cuda device.\n"
     ]
    },
    {
     "name": "stderr",
     "output_type": "stream",
     "text": [
      "/home/melissap/miniconda3/envs/customLearner/lib/python3.10/site-packages/torchvision/models/_utils.py:208: UserWarning: The parameter 'pretrained' is deprecated since 0.13 and may be removed in the future, please use 'weights' instead.\n",
      "  warnings.warn(\n",
      "/home/melissap/miniconda3/envs/customLearner/lib/python3.10/site-packages/torchvision/models/_utils.py:223: UserWarning: Arguments other than a weight enum or `None` for 'weights' are deprecated since 0.13 and may be removed in the future. The current behavior is equivalent to passing `weights=None`.\n",
      "  warnings.warn(msg)\n"
     ]
    },
    {
     "name": "stdout",
     "output_type": "stream",
     "text": [
      "Loading weights resnet18_CIFAR11_guns_pixano_v1_CoreSet_12_weights.pth\n",
      "CIFAR11_guns_pixano_v1\n",
      "SEED 1\n",
      "CoreSet\n",
      "Round 13\n",
      "query budget: 1000\n",
      "\n",
      "\n",
      "######################################################### AL ROUND 13 mode query : END ##########################################################\n",
      "\n",
      "\n",
      "Round 13 tagged\n",
      "1000 candidates on round 13\n",
      "AutoAnnotator: round 13 annotated.\n",
      "\n",
      "\n",
      "######################################################## AL ROUND 13 mode train : START #########################################################\n",
      "\n",
      "\n",
      "Namespace(mode='train', data_name='CIFAR11_guns_pixano_v1', n_label='None', n_init_lb=10, n_query=100, data_dir='/home/melissap/_pixano_datasets_/CIFAR11_guns_pixano_v1', pixano_root='/home/melissap/Desktop/LAGO_43integrationDemo/pixano', strategy='CoreSet', round=13, train_out='/home/melissap/Desktop/LAGO_43integrationDemo/pixano/temp_data/output_accuracy/accuracy.csv', query_out='path to the file', seeds=[1, 10, 100, 1000, 10000], init_lb_method='general_random', log_dir='/home/melissap/Desktop/LAGO_43integrationDemo/pixano/ActiveLearning/alpha_mix_active_learning/_logs', save_checkpoints=False, save_images=False, print_to_file=False, query_growth_ratio=1, n_drop=5, eps=0.05, max_iter=50, alpha_cap=0.03125, alpha_opt=False, alpha_closed_form_approx=True, alpha_learning_rate=0.1, alpha_clf_coef=1.0, alpha_l2_coef=0.01, alpha_learning_iters=5, alpha_learn_batch_size=1000000)\n",
      "args.pixano_root  /home/melissap/Desktop/LAGO_43integrationDemo/pixano\n",
      "Loading data ...\n",
      "number of labeled pool: 14000\n",
      "number of unlabeled pool: 41000\n",
      "number of validation pool: 0\n",
      "number of testing pool: 10998\n",
      "Data loaded ...\n",
      "Using cuda device.\n"
     ]
    },
    {
     "name": "stderr",
     "output_type": "stream",
     "text": [
      "/home/melissap/miniconda3/envs/customLearner/lib/python3.10/site-packages/torchvision/models/_utils.py:208: UserWarning: The parameter 'pretrained' is deprecated since 0.13 and may be removed in the future, please use 'weights' instead.\n",
      "  warnings.warn(\n",
      "/home/melissap/miniconda3/envs/customLearner/lib/python3.10/site-packages/torchvision/models/_utils.py:223: UserWarning: Arguments other than a weight enum or `None` for 'weights' are deprecated since 0.13 and may be removed in the future. The current behavior is equivalent to passing `weights=None`.\n",
      "  warnings.warn(msg)\n"
     ]
    },
    {
     "name": "stdout",
     "output_type": "stream",
     "text": [
      "CIFAR11_guns_pixano_v1\n",
      "SEED 1\n",
      "CoreSet\n",
      "Adam optimizer...\n",
      "Loading weights resnet18_CIFAR11_guns_pixano_v1_CoreSet_12_weights.pth\n",
      " Print the weights of the model to ensure that weights are loaded \n",
      "Training started...\n"
     ]
    },
    {
     "name": "stderr",
     "output_type": "stream",
     "text": [
      "  2%|▏         | 2/100 [00:26<21:41, 13.28s/it]"
     ]
    },
    {
     "name": "stdout",
     "output_type": "stream",
     "text": [
      "Reached max accuracy at epoch 2 \n"
     ]
    },
    {
     "name": "stderr",
     "output_type": "stream",
     "text": [
      "  2%|▏         | 2/100 [00:39<32:31, 19.91s/it]\n"
     ]
    },
    {
     "name": "stdout",
     "output_type": "stream",
     "text": [
      "Round 0\n",
      "testing accuracy 0.616384797235861\n",
      "\n",
      "\n",
      "######################################################### AL ROUND 13 mode train : END ##########################################################\n",
      "\n",
      "\n",
      "csvQue /home/melissap/Desktop/LAGO_43integrationDemo/pixano/temp_data/output_queries/queries_14.csv\n",
      "\n",
      "\n",
      "######################################################## AL ROUND 14 mode query : START #########################################################\n",
      "\n",
      "\n",
      "Namespace(mode='query', data_name='CIFAR11_guns_pixano_v1', n_label='None', n_init_lb=1000, n_query=1000, data_dir='/home/melissap/_pixano_datasets_/CIFAR11_guns_pixano_v1', pixano_root='/home/melissap/Desktop/LAGO_43integrationDemo/pixano', strategy='CoreSet', round=14, train_out=None, query_out='/home/melissap/Desktop/LAGO_43integrationDemo/pixano/temp_data/output_queries/queries_14.csv', seeds=[1, 10, 100, 1000, 10000], init_lb_method='general_random', log_dir='/home/melissap/Desktop/LAGO_43integrationDemo/pixano/ActiveLearning/alpha_mix_active_learning/_logs', save_checkpoints=False, save_images=False, print_to_file=False, query_growth_ratio=1, n_drop=5, eps=0.05, max_iter=50, alpha_cap=0.03125, alpha_opt=False, alpha_closed_form_approx=True, alpha_learning_rate=0.1, alpha_clf_coef=1.0, alpha_l2_coef=0.01, alpha_learning_iters=5, alpha_learn_batch_size=1000000)\n",
      "args.pixano_root  /home/melissap/Desktop/LAGO_43integrationDemo/pixano\n",
      "Loading data ...\n",
      "number of labeled pool: 14000\n",
      "number of unlabeled pool: 41000\n",
      "number of validation pool: 0\n",
      "number of testing pool: 10998\n",
      "Data loaded ...\n",
      "Using cuda device.\n"
     ]
    },
    {
     "name": "stderr",
     "output_type": "stream",
     "text": [
      "/home/melissap/miniconda3/envs/customLearner/lib/python3.10/site-packages/torchvision/models/_utils.py:208: UserWarning: The parameter 'pretrained' is deprecated since 0.13 and may be removed in the future, please use 'weights' instead.\n",
      "  warnings.warn(\n",
      "/home/melissap/miniconda3/envs/customLearner/lib/python3.10/site-packages/torchvision/models/_utils.py:223: UserWarning: Arguments other than a weight enum or `None` for 'weights' are deprecated since 0.13 and may be removed in the future. The current behavior is equivalent to passing `weights=None`.\n",
      "  warnings.warn(msg)\n"
     ]
    },
    {
     "name": "stdout",
     "output_type": "stream",
     "text": [
      "Loading weights resnet18_CIFAR11_guns_pixano_v1_CoreSet_13_weights.pth\n",
      "CIFAR11_guns_pixano_v1\n",
      "SEED 1\n",
      "CoreSet\n",
      "Round 14\n",
      "query budget: 1000\n",
      "\n",
      "\n",
      "######################################################### AL ROUND 14 mode query : END ##########################################################\n",
      "\n",
      "\n",
      "Round 14 tagged\n",
      "1000 candidates on round 14\n",
      "AutoAnnotator: round 14 annotated.\n",
      "\n",
      "\n",
      "######################################################## AL ROUND 14 mode train : START #########################################################\n",
      "\n",
      "\n",
      "Namespace(mode='train', data_name='CIFAR11_guns_pixano_v1', n_label='None', n_init_lb=10, n_query=100, data_dir='/home/melissap/_pixano_datasets_/CIFAR11_guns_pixano_v1', pixano_root='/home/melissap/Desktop/LAGO_43integrationDemo/pixano', strategy='CoreSet', round=14, train_out='/home/melissap/Desktop/LAGO_43integrationDemo/pixano/temp_data/output_accuracy/accuracy.csv', query_out='path to the file', seeds=[1, 10, 100, 1000, 10000], init_lb_method='general_random', log_dir='/home/melissap/Desktop/LAGO_43integrationDemo/pixano/ActiveLearning/alpha_mix_active_learning/_logs', save_checkpoints=False, save_images=False, print_to_file=False, query_growth_ratio=1, n_drop=5, eps=0.05, max_iter=50, alpha_cap=0.03125, alpha_opt=False, alpha_closed_form_approx=True, alpha_learning_rate=0.1, alpha_clf_coef=1.0, alpha_l2_coef=0.01, alpha_learning_iters=5, alpha_learn_batch_size=1000000)\n",
      "args.pixano_root  /home/melissap/Desktop/LAGO_43integrationDemo/pixano\n",
      "Loading data ...\n",
      "number of labeled pool: 15000\n",
      "number of unlabeled pool: 40000\n",
      "number of validation pool: 0\n",
      "number of testing pool: 10998\n",
      "Data loaded ...\n",
      "Using cuda device.\n"
     ]
    },
    {
     "name": "stderr",
     "output_type": "stream",
     "text": [
      "/home/melissap/miniconda3/envs/customLearner/lib/python3.10/site-packages/torchvision/models/_utils.py:208: UserWarning: The parameter 'pretrained' is deprecated since 0.13 and may be removed in the future, please use 'weights' instead.\n",
      "  warnings.warn(\n",
      "/home/melissap/miniconda3/envs/customLearner/lib/python3.10/site-packages/torchvision/models/_utils.py:223: UserWarning: Arguments other than a weight enum or `None` for 'weights' are deprecated since 0.13 and may be removed in the future. The current behavior is equivalent to passing `weights=None`.\n",
      "  warnings.warn(msg)\n"
     ]
    },
    {
     "name": "stdout",
     "output_type": "stream",
     "text": [
      "CIFAR11_guns_pixano_v1\n",
      "SEED 1\n",
      "CoreSet\n",
      "Adam optimizer...\n",
      "Loading weights resnet18_CIFAR11_guns_pixano_v1_CoreSet_13_weights.pth\n",
      " Print the weights of the model to ensure that weights are loaded \n",
      "Training started...\n"
     ]
    },
    {
     "name": "stderr",
     "output_type": "stream",
     "text": [
      "  2%|▏         | 2/100 [00:28<23:03, 14.11s/it]"
     ]
    },
    {
     "name": "stdout",
     "output_type": "stream",
     "text": [
      "Reached max accuracy at epoch 2 \n"
     ]
    },
    {
     "name": "stderr",
     "output_type": "stream",
     "text": [
      "  2%|▏         | 2/100 [00:42<34:20, 21.02s/it]\n"
     ]
    },
    {
     "name": "stdout",
     "output_type": "stream",
     "text": [
      "Round 0\n",
      "testing accuracy 0.6131114748136025\n",
      "\n",
      "\n",
      "######################################################### AL ROUND 14 mode train : END ##########################################################\n",
      "\n",
      "\n",
      "csvQue /home/melissap/Desktop/LAGO_43integrationDemo/pixano/temp_data/output_queries/queries_15.csv\n",
      "\n",
      "\n",
      "######################################################## AL ROUND 15 mode query : START #########################################################\n",
      "\n",
      "\n",
      "Namespace(mode='query', data_name='CIFAR11_guns_pixano_v1', n_label='None', n_init_lb=1000, n_query=1000, data_dir='/home/melissap/_pixano_datasets_/CIFAR11_guns_pixano_v1', pixano_root='/home/melissap/Desktop/LAGO_43integrationDemo/pixano', strategy='CoreSet', round=15, train_out=None, query_out='/home/melissap/Desktop/LAGO_43integrationDemo/pixano/temp_data/output_queries/queries_15.csv', seeds=[1, 10, 100, 1000, 10000], init_lb_method='general_random', log_dir='/home/melissap/Desktop/LAGO_43integrationDemo/pixano/ActiveLearning/alpha_mix_active_learning/_logs', save_checkpoints=False, save_images=False, print_to_file=False, query_growth_ratio=1, n_drop=5, eps=0.05, max_iter=50, alpha_cap=0.03125, alpha_opt=False, alpha_closed_form_approx=True, alpha_learning_rate=0.1, alpha_clf_coef=1.0, alpha_l2_coef=0.01, alpha_learning_iters=5, alpha_learn_batch_size=1000000)\n",
      "args.pixano_root  /home/melissap/Desktop/LAGO_43integrationDemo/pixano\n",
      "Loading data ...\n",
      "number of labeled pool: 15000\n",
      "number of unlabeled pool: 40000\n",
      "number of validation pool: 0\n",
      "number of testing pool: 10998\n",
      "Data loaded ...\n",
      "Using cuda device.\n"
     ]
    },
    {
     "name": "stderr",
     "output_type": "stream",
     "text": [
      "/home/melissap/miniconda3/envs/customLearner/lib/python3.10/site-packages/torchvision/models/_utils.py:208: UserWarning: The parameter 'pretrained' is deprecated since 0.13 and may be removed in the future, please use 'weights' instead.\n",
      "  warnings.warn(\n",
      "/home/melissap/miniconda3/envs/customLearner/lib/python3.10/site-packages/torchvision/models/_utils.py:223: UserWarning: Arguments other than a weight enum or `None` for 'weights' are deprecated since 0.13 and may be removed in the future. The current behavior is equivalent to passing `weights=None`.\n",
      "  warnings.warn(msg)\n"
     ]
    },
    {
     "name": "stdout",
     "output_type": "stream",
     "text": [
      "Loading weights resnet18_CIFAR11_guns_pixano_v1_CoreSet_14_weights.pth\n",
      "CIFAR11_guns_pixano_v1\n",
      "SEED 1\n",
      "CoreSet\n",
      "Round 15\n",
      "query budget: 1000\n",
      "\n",
      "\n",
      "######################################################### AL ROUND 15 mode query : END ##########################################################\n",
      "\n",
      "\n",
      "Round 15 tagged\n",
      "1000 candidates on round 15\n",
      "AutoAnnotator: round 15 annotated.\n",
      "\n",
      "\n",
      "######################################################## AL ROUND 15 mode train : START #########################################################\n",
      "\n",
      "\n",
      "Namespace(mode='train', data_name='CIFAR11_guns_pixano_v1', n_label='None', n_init_lb=10, n_query=100, data_dir='/home/melissap/_pixano_datasets_/CIFAR11_guns_pixano_v1', pixano_root='/home/melissap/Desktop/LAGO_43integrationDemo/pixano', strategy='CoreSet', round=15, train_out='/home/melissap/Desktop/LAGO_43integrationDemo/pixano/temp_data/output_accuracy/accuracy.csv', query_out='path to the file', seeds=[1, 10, 100, 1000, 10000], init_lb_method='general_random', log_dir='/home/melissap/Desktop/LAGO_43integrationDemo/pixano/ActiveLearning/alpha_mix_active_learning/_logs', save_checkpoints=False, save_images=False, print_to_file=False, query_growth_ratio=1, n_drop=5, eps=0.05, max_iter=50, alpha_cap=0.03125, alpha_opt=False, alpha_closed_form_approx=True, alpha_learning_rate=0.1, alpha_clf_coef=1.0, alpha_l2_coef=0.01, alpha_learning_iters=5, alpha_learn_batch_size=1000000)\n",
      "args.pixano_root  /home/melissap/Desktop/LAGO_43integrationDemo/pixano\n",
      "Loading data ...\n",
      "number of labeled pool: 16000\n",
      "number of unlabeled pool: 39000\n",
      "number of validation pool: 0\n",
      "number of testing pool: 10998\n",
      "Data loaded ...\n",
      "Using cuda device.\n"
     ]
    },
    {
     "name": "stderr",
     "output_type": "stream",
     "text": [
      "/home/melissap/miniconda3/envs/customLearner/lib/python3.10/site-packages/torchvision/models/_utils.py:208: UserWarning: The parameter 'pretrained' is deprecated since 0.13 and may be removed in the future, please use 'weights' instead.\n",
      "  warnings.warn(\n",
      "/home/melissap/miniconda3/envs/customLearner/lib/python3.10/site-packages/torchvision/models/_utils.py:223: UserWarning: Arguments other than a weight enum or `None` for 'weights' are deprecated since 0.13 and may be removed in the future. The current behavior is equivalent to passing `weights=None`.\n",
      "  warnings.warn(msg)\n"
     ]
    },
    {
     "name": "stdout",
     "output_type": "stream",
     "text": [
      "CIFAR11_guns_pixano_v1\n",
      "SEED 1\n",
      "CoreSet\n",
      "Adam optimizer...\n",
      "Loading weights resnet18_CIFAR11_guns_pixano_v1_CoreSet_14_weights.pth\n",
      " Print the weights of the model to ensure that weights are loaded \n",
      "Training started...\n"
     ]
    },
    {
     "name": "stderr",
     "output_type": "stream",
     "text": [
      " 10%|█         | 10/100 [02:20<20:34, 13.71s/it]"
     ]
    },
    {
     "name": "stdout",
     "output_type": "stream",
     "text": [
      "Reached max accuracy at epoch 10 \n"
     ]
    },
    {
     "name": "stderr",
     "output_type": "stream",
     "text": [
      " 10%|█         | 10/100 [02:33<23:03, 15.37s/it]\n"
     ]
    },
    {
     "name": "stdout",
     "output_type": "stream",
     "text": [
      "Round 0\n",
      "testing accuracy 0.610201854882706\n",
      "\n",
      "\n",
      "######################################################### AL ROUND 15 mode train : END ##########################################################\n",
      "\n",
      "\n",
      "csvQue /home/melissap/Desktop/LAGO_43integrationDemo/pixano/temp_data/output_queries/queries_16.csv\n",
      "\n",
      "\n",
      "######################################################## AL ROUND 16 mode query : START #########################################################\n",
      "\n",
      "\n",
      "Namespace(mode='query', data_name='CIFAR11_guns_pixano_v1', n_label='None', n_init_lb=1000, n_query=1000, data_dir='/home/melissap/_pixano_datasets_/CIFAR11_guns_pixano_v1', pixano_root='/home/melissap/Desktop/LAGO_43integrationDemo/pixano', strategy='CoreSet', round=16, train_out=None, query_out='/home/melissap/Desktop/LAGO_43integrationDemo/pixano/temp_data/output_queries/queries_16.csv', seeds=[1, 10, 100, 1000, 10000], init_lb_method='general_random', log_dir='/home/melissap/Desktop/LAGO_43integrationDemo/pixano/ActiveLearning/alpha_mix_active_learning/_logs', save_checkpoints=False, save_images=False, print_to_file=False, query_growth_ratio=1, n_drop=5, eps=0.05, max_iter=50, alpha_cap=0.03125, alpha_opt=False, alpha_closed_form_approx=True, alpha_learning_rate=0.1, alpha_clf_coef=1.0, alpha_l2_coef=0.01, alpha_learning_iters=5, alpha_learn_batch_size=1000000)\n",
      "args.pixano_root  /home/melissap/Desktop/LAGO_43integrationDemo/pixano\n",
      "Loading data ...\n",
      "number of labeled pool: 16000\n",
      "number of unlabeled pool: 39000\n",
      "number of validation pool: 0\n",
      "number of testing pool: 10998\n",
      "Data loaded ...\n",
      "Using cuda device.\n"
     ]
    },
    {
     "name": "stderr",
     "output_type": "stream",
     "text": [
      "/home/melissap/miniconda3/envs/customLearner/lib/python3.10/site-packages/torchvision/models/_utils.py:208: UserWarning: The parameter 'pretrained' is deprecated since 0.13 and may be removed in the future, please use 'weights' instead.\n",
      "  warnings.warn(\n",
      "/home/melissap/miniconda3/envs/customLearner/lib/python3.10/site-packages/torchvision/models/_utils.py:223: UserWarning: Arguments other than a weight enum or `None` for 'weights' are deprecated since 0.13 and may be removed in the future. The current behavior is equivalent to passing `weights=None`.\n",
      "  warnings.warn(msg)\n"
     ]
    },
    {
     "name": "stdout",
     "output_type": "stream",
     "text": [
      "Loading weights resnet18_CIFAR11_guns_pixano_v1_CoreSet_15_weights.pth\n",
      "CIFAR11_guns_pixano_v1\n",
      "SEED 1\n",
      "CoreSet\n",
      "Round 16\n",
      "query budget: 1000\n",
      "\n",
      "\n",
      "######################################################### AL ROUND 16 mode query : END ##########################################################\n",
      "\n",
      "\n",
      "Round 16 tagged\n",
      "1000 candidates on round 16\n",
      "AutoAnnotator: round 16 annotated.\n",
      "\n",
      "\n",
      "######################################################## AL ROUND 16 mode train : START #########################################################\n",
      "\n",
      "\n",
      "Namespace(mode='train', data_name='CIFAR11_guns_pixano_v1', n_label='None', n_init_lb=10, n_query=100, data_dir='/home/melissap/_pixano_datasets_/CIFAR11_guns_pixano_v1', pixano_root='/home/melissap/Desktop/LAGO_43integrationDemo/pixano', strategy='CoreSet', round=16, train_out='/home/melissap/Desktop/LAGO_43integrationDemo/pixano/temp_data/output_accuracy/accuracy.csv', query_out='path to the file', seeds=[1, 10, 100, 1000, 10000], init_lb_method='general_random', log_dir='/home/melissap/Desktop/LAGO_43integrationDemo/pixano/ActiveLearning/alpha_mix_active_learning/_logs', save_checkpoints=False, save_images=False, print_to_file=False, query_growth_ratio=1, n_drop=5, eps=0.05, max_iter=50, alpha_cap=0.03125, alpha_opt=False, alpha_closed_form_approx=True, alpha_learning_rate=0.1, alpha_clf_coef=1.0, alpha_l2_coef=0.01, alpha_learning_iters=5, alpha_learn_batch_size=1000000)\n",
      "args.pixano_root  /home/melissap/Desktop/LAGO_43integrationDemo/pixano\n",
      "Loading data ...\n",
      "number of labeled pool: 17000\n",
      "number of unlabeled pool: 38000\n",
      "number of validation pool: 0\n",
      "number of testing pool: 10998\n",
      "Data loaded ...\n",
      "Using cuda device.\n"
     ]
    },
    {
     "name": "stderr",
     "output_type": "stream",
     "text": [
      "/home/melissap/miniconda3/envs/customLearner/lib/python3.10/site-packages/torchvision/models/_utils.py:208: UserWarning: The parameter 'pretrained' is deprecated since 0.13 and may be removed in the future, please use 'weights' instead.\n",
      "  warnings.warn(\n",
      "/home/melissap/miniconda3/envs/customLearner/lib/python3.10/site-packages/torchvision/models/_utils.py:223: UserWarning: Arguments other than a weight enum or `None` for 'weights' are deprecated since 0.13 and may be removed in the future. The current behavior is equivalent to passing `weights=None`.\n",
      "  warnings.warn(msg)\n"
     ]
    },
    {
     "name": "stdout",
     "output_type": "stream",
     "text": [
      "CIFAR11_guns_pixano_v1\n",
      "SEED 1\n",
      "CoreSet\n",
      "Adam optimizer...\n",
      "Loading weights resnet18_CIFAR11_guns_pixano_v1_CoreSet_15_weights.pth\n",
      " Print the weights of the model to ensure that weights are loaded \n",
      "Training started...\n"
     ]
    },
    {
     "name": "stderr",
     "output_type": "stream",
     "text": [
      "  2%|▏         | 2/100 [00:29<24:02, 14.72s/it]"
     ]
    },
    {
     "name": "stdout",
     "output_type": "stream",
     "text": [
      "Reached max accuracy at epoch 2 \n"
     ]
    },
    {
     "name": "stderr",
     "output_type": "stream",
     "text": [
      "  2%|▏         | 2/100 [00:43<35:52, 21.97s/it]\n"
     ]
    },
    {
     "name": "stdout",
     "output_type": "stream",
     "text": [
      "Round 0\n",
      "testing accuracy 0.6311147481360248\n",
      "\n",
      "\n",
      "######################################################### AL ROUND 16 mode train : END ##########################################################\n",
      "\n",
      "\n",
      "csvQue /home/melissap/Desktop/LAGO_43integrationDemo/pixano/temp_data/output_queries/queries_17.csv\n",
      "\n",
      "\n",
      "######################################################## AL ROUND 17 mode query : START #########################################################\n",
      "\n",
      "\n",
      "Namespace(mode='query', data_name='CIFAR11_guns_pixano_v1', n_label='None', n_init_lb=1000, n_query=1000, data_dir='/home/melissap/_pixano_datasets_/CIFAR11_guns_pixano_v1', pixano_root='/home/melissap/Desktop/LAGO_43integrationDemo/pixano', strategy='CoreSet', round=17, train_out=None, query_out='/home/melissap/Desktop/LAGO_43integrationDemo/pixano/temp_data/output_queries/queries_17.csv', seeds=[1, 10, 100, 1000, 10000], init_lb_method='general_random', log_dir='/home/melissap/Desktop/LAGO_43integrationDemo/pixano/ActiveLearning/alpha_mix_active_learning/_logs', save_checkpoints=False, save_images=False, print_to_file=False, query_growth_ratio=1, n_drop=5, eps=0.05, max_iter=50, alpha_cap=0.03125, alpha_opt=False, alpha_closed_form_approx=True, alpha_learning_rate=0.1, alpha_clf_coef=1.0, alpha_l2_coef=0.01, alpha_learning_iters=5, alpha_learn_batch_size=1000000)\n",
      "args.pixano_root  /home/melissap/Desktop/LAGO_43integrationDemo/pixano\n",
      "Loading data ...\n",
      "number of labeled pool: 17000\n",
      "number of unlabeled pool: 38000\n",
      "number of validation pool: 0\n",
      "number of testing pool: 10998\n",
      "Data loaded ...\n",
      "Using cuda device.\n"
     ]
    },
    {
     "name": "stderr",
     "output_type": "stream",
     "text": [
      "/home/melissap/miniconda3/envs/customLearner/lib/python3.10/site-packages/torchvision/models/_utils.py:208: UserWarning: The parameter 'pretrained' is deprecated since 0.13 and may be removed in the future, please use 'weights' instead.\n",
      "  warnings.warn(\n",
      "/home/melissap/miniconda3/envs/customLearner/lib/python3.10/site-packages/torchvision/models/_utils.py:223: UserWarning: Arguments other than a weight enum or `None` for 'weights' are deprecated since 0.13 and may be removed in the future. The current behavior is equivalent to passing `weights=None`.\n",
      "  warnings.warn(msg)\n"
     ]
    },
    {
     "name": "stdout",
     "output_type": "stream",
     "text": [
      "Loading weights resnet18_CIFAR11_guns_pixano_v1_CoreSet_16_weights.pth\n",
      "CIFAR11_guns_pixano_v1\n",
      "SEED 1\n",
      "CoreSet\n",
      "Round 17\n",
      "query budget: 1000\n",
      "\n",
      "\n",
      "######################################################### AL ROUND 17 mode query : END ##########################################################\n",
      "\n",
      "\n",
      "Round 17 tagged\n",
      "1000 candidates on round 17\n",
      "AutoAnnotator: round 17 annotated.\n",
      "\n",
      "\n",
      "######################################################## AL ROUND 17 mode train : START #########################################################\n",
      "\n",
      "\n",
      "Namespace(mode='train', data_name='CIFAR11_guns_pixano_v1', n_label='None', n_init_lb=10, n_query=100, data_dir='/home/melissap/_pixano_datasets_/CIFAR11_guns_pixano_v1', pixano_root='/home/melissap/Desktop/LAGO_43integrationDemo/pixano', strategy='CoreSet', round=17, train_out='/home/melissap/Desktop/LAGO_43integrationDemo/pixano/temp_data/output_accuracy/accuracy.csv', query_out='path to the file', seeds=[1, 10, 100, 1000, 10000], init_lb_method='general_random', log_dir='/home/melissap/Desktop/LAGO_43integrationDemo/pixano/ActiveLearning/alpha_mix_active_learning/_logs', save_checkpoints=False, save_images=False, print_to_file=False, query_growth_ratio=1, n_drop=5, eps=0.05, max_iter=50, alpha_cap=0.03125, alpha_opt=False, alpha_closed_form_approx=True, alpha_learning_rate=0.1, alpha_clf_coef=1.0, alpha_l2_coef=0.01, alpha_learning_iters=5, alpha_learn_batch_size=1000000)\n",
      "args.pixano_root  /home/melissap/Desktop/LAGO_43integrationDemo/pixano\n",
      "Loading data ...\n",
      "number of labeled pool: 18000\n",
      "number of unlabeled pool: 37000\n",
      "number of validation pool: 0\n",
      "number of testing pool: 10998\n",
      "Data loaded ...\n",
      "Using cuda device.\n"
     ]
    },
    {
     "name": "stderr",
     "output_type": "stream",
     "text": [
      "/home/melissap/miniconda3/envs/customLearner/lib/python3.10/site-packages/torchvision/models/_utils.py:208: UserWarning: The parameter 'pretrained' is deprecated since 0.13 and may be removed in the future, please use 'weights' instead.\n",
      "  warnings.warn(\n",
      "/home/melissap/miniconda3/envs/customLearner/lib/python3.10/site-packages/torchvision/models/_utils.py:223: UserWarning: Arguments other than a weight enum or `None` for 'weights' are deprecated since 0.13 and may be removed in the future. The current behavior is equivalent to passing `weights=None`.\n",
      "  warnings.warn(msg)\n"
     ]
    },
    {
     "name": "stdout",
     "output_type": "stream",
     "text": [
      "CIFAR11_guns_pixano_v1\n",
      "SEED 1\n",
      "CoreSet\n",
      "Adam optimizer...\n",
      "Loading weights resnet18_CIFAR11_guns_pixano_v1_CoreSet_16_weights.pth\n",
      " Print the weights of the model to ensure that weights are loaded \n",
      "Training started...\n"
     ]
    },
    {
     "name": "stderr",
     "output_type": "stream",
     "text": [
      "  6%|▌         | 6/100 [01:31<23:51, 15.23s/it]"
     ]
    },
    {
     "name": "stdout",
     "output_type": "stream",
     "text": [
      "Reached max accuracy at epoch 6 \n"
     ]
    },
    {
     "name": "stderr",
     "output_type": "stream",
     "text": [
      "  6%|▌         | 6/100 [01:47<27:57, 17.85s/it]\n"
     ]
    },
    {
     "name": "stdout",
     "output_type": "stream",
     "text": [
      "Round 0\n",
      "testing accuracy 0.6221131114748136\n",
      "\n",
      "\n",
      "######################################################### AL ROUND 17 mode train : END ##########################################################\n",
      "\n",
      "\n",
      "csvQue /home/melissap/Desktop/LAGO_43integrationDemo/pixano/temp_data/output_queries/queries_18.csv\n",
      "\n",
      "\n",
      "######################################################## AL ROUND 18 mode query : START #########################################################\n",
      "\n",
      "\n",
      "Namespace(mode='query', data_name='CIFAR11_guns_pixano_v1', n_label='None', n_init_lb=1000, n_query=1000, data_dir='/home/melissap/_pixano_datasets_/CIFAR11_guns_pixano_v1', pixano_root='/home/melissap/Desktop/LAGO_43integrationDemo/pixano', strategy='CoreSet', round=18, train_out=None, query_out='/home/melissap/Desktop/LAGO_43integrationDemo/pixano/temp_data/output_queries/queries_18.csv', seeds=[1, 10, 100, 1000, 10000], init_lb_method='general_random', log_dir='/home/melissap/Desktop/LAGO_43integrationDemo/pixano/ActiveLearning/alpha_mix_active_learning/_logs', save_checkpoints=False, save_images=False, print_to_file=False, query_growth_ratio=1, n_drop=5, eps=0.05, max_iter=50, alpha_cap=0.03125, alpha_opt=False, alpha_closed_form_approx=True, alpha_learning_rate=0.1, alpha_clf_coef=1.0, alpha_l2_coef=0.01, alpha_learning_iters=5, alpha_learn_batch_size=1000000)\n",
      "args.pixano_root  /home/melissap/Desktop/LAGO_43integrationDemo/pixano\n",
      "Loading data ...\n",
      "number of labeled pool: 18000\n",
      "number of unlabeled pool: 37000\n",
      "number of validation pool: 0\n",
      "number of testing pool: 10998\n",
      "Data loaded ...\n",
      "Using cuda device.\n"
     ]
    },
    {
     "name": "stderr",
     "output_type": "stream",
     "text": [
      "/home/melissap/miniconda3/envs/customLearner/lib/python3.10/site-packages/torchvision/models/_utils.py:208: UserWarning: The parameter 'pretrained' is deprecated since 0.13 and may be removed in the future, please use 'weights' instead.\n",
      "  warnings.warn(\n",
      "/home/melissap/miniconda3/envs/customLearner/lib/python3.10/site-packages/torchvision/models/_utils.py:223: UserWarning: Arguments other than a weight enum or `None` for 'weights' are deprecated since 0.13 and may be removed in the future. The current behavior is equivalent to passing `weights=None`.\n",
      "  warnings.warn(msg)\n"
     ]
    },
    {
     "name": "stdout",
     "output_type": "stream",
     "text": [
      "Loading weights resnet18_CIFAR11_guns_pixano_v1_CoreSet_17_weights.pth\n",
      "CIFAR11_guns_pixano_v1\n",
      "SEED 1\n",
      "CoreSet\n",
      "Round 18\n",
      "query budget: 1000\n",
      "\n",
      "\n",
      "######################################################### AL ROUND 18 mode query : END ##########################################################\n",
      "\n",
      "\n",
      "Round 18 tagged\n",
      "1000 candidates on round 18\n",
      "AutoAnnotator: round 18 annotated.\n",
      "\n",
      "\n",
      "######################################################## AL ROUND 18 mode train : START #########################################################\n",
      "\n",
      "\n",
      "Namespace(mode='train', data_name='CIFAR11_guns_pixano_v1', n_label='None', n_init_lb=10, n_query=100, data_dir='/home/melissap/_pixano_datasets_/CIFAR11_guns_pixano_v1', pixano_root='/home/melissap/Desktop/LAGO_43integrationDemo/pixano', strategy='CoreSet', round=18, train_out='/home/melissap/Desktop/LAGO_43integrationDemo/pixano/temp_data/output_accuracy/accuracy.csv', query_out='path to the file', seeds=[1, 10, 100, 1000, 10000], init_lb_method='general_random', log_dir='/home/melissap/Desktop/LAGO_43integrationDemo/pixano/ActiveLearning/alpha_mix_active_learning/_logs', save_checkpoints=False, save_images=False, print_to_file=False, query_growth_ratio=1, n_drop=5, eps=0.05, max_iter=50, alpha_cap=0.03125, alpha_opt=False, alpha_closed_form_approx=True, alpha_learning_rate=0.1, alpha_clf_coef=1.0, alpha_l2_coef=0.01, alpha_learning_iters=5, alpha_learn_batch_size=1000000)\n",
      "args.pixano_root  /home/melissap/Desktop/LAGO_43integrationDemo/pixano\n",
      "Loading data ...\n",
      "number of labeled pool: 19000\n",
      "number of unlabeled pool: 36000\n",
      "number of validation pool: 0\n",
      "number of testing pool: 10998\n",
      "Data loaded ...\n",
      "Using cuda device.\n"
     ]
    },
    {
     "name": "stderr",
     "output_type": "stream",
     "text": [
      "/home/melissap/miniconda3/envs/customLearner/lib/python3.10/site-packages/torchvision/models/_utils.py:208: UserWarning: The parameter 'pretrained' is deprecated since 0.13 and may be removed in the future, please use 'weights' instead.\n",
      "  warnings.warn(\n",
      "/home/melissap/miniconda3/envs/customLearner/lib/python3.10/site-packages/torchvision/models/_utils.py:223: UserWarning: Arguments other than a weight enum or `None` for 'weights' are deprecated since 0.13 and may be removed in the future. The current behavior is equivalent to passing `weights=None`.\n",
      "  warnings.warn(msg)\n"
     ]
    },
    {
     "name": "stdout",
     "output_type": "stream",
     "text": [
      "CIFAR11_guns_pixano_v1\n",
      "SEED 1\n",
      "CoreSet\n",
      "Adam optimizer...\n",
      "Loading weights resnet18_CIFAR11_guns_pixano_v1_CoreSet_17_weights.pth\n",
      " Print the weights of the model to ensure that weights are loaded \n",
      "Training started...\n"
     ]
    },
    {
     "name": "stderr",
     "output_type": "stream",
     "text": [
      "  2%|▏         | 2/100 [00:32<26:39, 16.32s/it]"
     ]
    },
    {
     "name": "stdout",
     "output_type": "stream",
     "text": [
      "Reached max accuracy at epoch 2 \n"
     ]
    },
    {
     "name": "stderr",
     "output_type": "stream",
     "text": [
      "  2%|▏         | 2/100 [00:48<39:50, 24.39s/it]\n"
     ]
    },
    {
     "name": "stdout",
     "output_type": "stream",
     "text": [
      "Round 0\n",
      "testing accuracy 0.6319330787415893\n",
      "\n",
      "\n",
      "######################################################### AL ROUND 18 mode train : END ##########################################################\n",
      "\n",
      "\n",
      "csvQue /home/melissap/Desktop/LAGO_43integrationDemo/pixano/temp_data/output_queries/queries_19.csv\n",
      "\n",
      "\n",
      "######################################################## AL ROUND 19 mode query : START #########################################################\n",
      "\n",
      "\n",
      "Namespace(mode='query', data_name='CIFAR11_guns_pixano_v1', n_label='None', n_init_lb=1000, n_query=1000, data_dir='/home/melissap/_pixano_datasets_/CIFAR11_guns_pixano_v1', pixano_root='/home/melissap/Desktop/LAGO_43integrationDemo/pixano', strategy='CoreSet', round=19, train_out=None, query_out='/home/melissap/Desktop/LAGO_43integrationDemo/pixano/temp_data/output_queries/queries_19.csv', seeds=[1, 10, 100, 1000, 10000], init_lb_method='general_random', log_dir='/home/melissap/Desktop/LAGO_43integrationDemo/pixano/ActiveLearning/alpha_mix_active_learning/_logs', save_checkpoints=False, save_images=False, print_to_file=False, query_growth_ratio=1, n_drop=5, eps=0.05, max_iter=50, alpha_cap=0.03125, alpha_opt=False, alpha_closed_form_approx=True, alpha_learning_rate=0.1, alpha_clf_coef=1.0, alpha_l2_coef=0.01, alpha_learning_iters=5, alpha_learn_batch_size=1000000)\n",
      "args.pixano_root  /home/melissap/Desktop/LAGO_43integrationDemo/pixano\n",
      "Loading data ...\n",
      "number of labeled pool: 19000\n",
      "number of unlabeled pool: 36000\n",
      "number of validation pool: 0\n",
      "number of testing pool: 10998\n",
      "Data loaded ...\n",
      "Using cuda device.\n"
     ]
    },
    {
     "name": "stderr",
     "output_type": "stream",
     "text": [
      "/home/melissap/miniconda3/envs/customLearner/lib/python3.10/site-packages/torchvision/models/_utils.py:208: UserWarning: The parameter 'pretrained' is deprecated since 0.13 and may be removed in the future, please use 'weights' instead.\n",
      "  warnings.warn(\n",
      "/home/melissap/miniconda3/envs/customLearner/lib/python3.10/site-packages/torchvision/models/_utils.py:223: UserWarning: Arguments other than a weight enum or `None` for 'weights' are deprecated since 0.13 and may be removed in the future. The current behavior is equivalent to passing `weights=None`.\n",
      "  warnings.warn(msg)\n"
     ]
    },
    {
     "name": "stdout",
     "output_type": "stream",
     "text": [
      "Loading weights resnet18_CIFAR11_guns_pixano_v1_CoreSet_18_weights.pth\n",
      "CIFAR11_guns_pixano_v1\n",
      "SEED 1\n",
      "CoreSet\n",
      "Round 19\n",
      "query budget: 1000\n",
      "\n",
      "\n",
      "######################################################### AL ROUND 19 mode query : END ##########################################################\n",
      "\n",
      "\n",
      "Round 19 tagged\n",
      "1000 candidates on round 19\n",
      "AutoAnnotator: round 19 annotated.\n",
      "\n",
      "\n",
      "######################################################## AL ROUND 19 mode train : START #########################################################\n",
      "\n",
      "\n",
      "Namespace(mode='train', data_name='CIFAR11_guns_pixano_v1', n_label='None', n_init_lb=10, n_query=100, data_dir='/home/melissap/_pixano_datasets_/CIFAR11_guns_pixano_v1', pixano_root='/home/melissap/Desktop/LAGO_43integrationDemo/pixano', strategy='CoreSet', round=19, train_out='/home/melissap/Desktop/LAGO_43integrationDemo/pixano/temp_data/output_accuracy/accuracy.csv', query_out='path to the file', seeds=[1, 10, 100, 1000, 10000], init_lb_method='general_random', log_dir='/home/melissap/Desktop/LAGO_43integrationDemo/pixano/ActiveLearning/alpha_mix_active_learning/_logs', save_checkpoints=False, save_images=False, print_to_file=False, query_growth_ratio=1, n_drop=5, eps=0.05, max_iter=50, alpha_cap=0.03125, alpha_opt=False, alpha_closed_form_approx=True, alpha_learning_rate=0.1, alpha_clf_coef=1.0, alpha_l2_coef=0.01, alpha_learning_iters=5, alpha_learn_batch_size=1000000)\n",
      "args.pixano_root  /home/melissap/Desktop/LAGO_43integrationDemo/pixano\n",
      "Loading data ...\n",
      "number of labeled pool: 20000\n",
      "number of unlabeled pool: 35000\n",
      "number of validation pool: 0\n",
      "number of testing pool: 10998\n",
      "Data loaded ...\n",
      "Using cuda device.\n"
     ]
    },
    {
     "name": "stderr",
     "output_type": "stream",
     "text": [
      "/home/melissap/miniconda3/envs/customLearner/lib/python3.10/site-packages/torchvision/models/_utils.py:208: UserWarning: The parameter 'pretrained' is deprecated since 0.13 and may be removed in the future, please use 'weights' instead.\n",
      "  warnings.warn(\n",
      "/home/melissap/miniconda3/envs/customLearner/lib/python3.10/site-packages/torchvision/models/_utils.py:223: UserWarning: Arguments other than a weight enum or `None` for 'weights' are deprecated since 0.13 and may be removed in the future. The current behavior is equivalent to passing `weights=None`.\n",
      "  warnings.warn(msg)\n"
     ]
    },
    {
     "name": "stdout",
     "output_type": "stream",
     "text": [
      "CIFAR11_guns_pixano_v1\n",
      "SEED 1\n",
      "CoreSet\n",
      "Adam optimizer...\n",
      "Loading weights resnet18_CIFAR11_guns_pixano_v1_CoreSet_18_weights.pth\n",
      " Print the weights of the model to ensure that weights are loaded \n",
      "Training started...\n"
     ]
    },
    {
     "name": "stderr",
     "output_type": "stream",
     "text": [
      "  2%|▏         | 2/100 [00:34<27:51, 17.05s/it]"
     ]
    },
    {
     "name": "stdout",
     "output_type": "stream",
     "text": [
      "Reached max accuracy at epoch 2 \n"
     ]
    },
    {
     "name": "stderr",
     "output_type": "stream",
     "text": [
      "  2%|▏         | 2/100 [00:51<41:47, 25.58s/it]\n"
     ]
    },
    {
     "name": "stdout",
     "output_type": "stream",
     "text": [
      "Round 0\n",
      "testing accuracy 0.6371158392434988\n",
      "\n",
      "\n",
      "######################################################### AL ROUND 19 mode train : END ##########################################################\n",
      "\n",
      "\n"
     ]
    }
   ],
   "source": [
    "for round in range(num_rounds):\n",
    "    candidates = init_learner.query(round)\n",
    "    init_learner.annotate(round)\n",
    "    init_learner.train(round, epochs=\"nevermind\")"
   ]
  }
 ],
 "metadata": {
  "kernelspec": {
   "display_name": "Python 3.10.13 ('pixano_env3')",
   "language": "python",
   "name": "python3"
  },
  "language_info": {
   "codemirror_mode": {
    "name": "ipython",
    "version": 3
   },
   "file_extension": ".py",
   "mimetype": "text/x-python",
   "name": "python",
   "nbconvert_exporter": "python",
   "pygments_lexer": "ipython3",
   "version": "3.10.13"
  },
  "orig_nbformat": 4,
  "vscode": {
   "interpreter": {
    "hash": "faa21598805a2aeab7a6cebb281d986b89a84993d64c8b80ad12581d75a6a376"
   }
  }
 },
 "nbformat": 4,
 "nbformat_minor": 2
}
