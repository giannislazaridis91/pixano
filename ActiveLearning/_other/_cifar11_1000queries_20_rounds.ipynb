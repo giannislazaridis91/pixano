{
 "cells": [
  {
   "cell_type": "markdown",
   "metadata": {},
   "source": [
    "# Active Learning with Pixano - CIFAR11 Dataset"
   ]
  },
  {
   "cell_type": "markdown",
   "metadata": {},
   "source": [
    "***!NOTE : Before running this notebook, set the values to initialize the following variables***"
   ]
  },
  {
   "cell_type": "markdown",
   "metadata": {},
   "source": [
    "### Configuration variables"
   ]
  },
  {
   "cell_type": "code",
   "execution_count": 1,
   "metadata": {},
   "outputs": [],
   "source": [
    "# The root dir name of the current repo (i.e. pixano or pixano-main etc.)\n",
    "ROOTDIR='pixano'\n",
    "# name of the dataset as defined in \"1.convert_dataset_2_explorer.ipynb\"\n",
    "DATASET_NAME=\"CIFAR11_guns_pixano_v1\"\n",
    "# directory where CIFAR11 dataset is downloaded using Notebook \"1.convert_dataset_2_explorer.ipynb\"\n",
    "datasets_dir=\"/home/melissap/Desktop/LAGO/3.githubs/integration/datasets/CIFAR11\"\n",
    "# the pixano datasets dir. It is the directory in which the transformed mnist dataset will be saved to be used by Pixano\n",
    "library_dir='/home/melissap/_pixano_datasets_'\n",
    "# conda env name builded for running the active learning module as a separate program\n",
    "customLearnerCondaEnv=\"customLearner\"\n",
    "# ActiveLearning module's directory\n",
    "ALModule=\"ActiveLearning\""
   ]
  },
  {
   "cell_type": "markdown",
   "metadata": {},
   "source": [
    "### internal experimental variables (that could be defined by the user)"
   ]
  },
  {
   "cell_type": "code",
   "execution_count": 2,
   "metadata": {},
   "outputs": [],
   "source": [
    "labels_per_round=1000\n",
    "numInitLabels = labels_per_round\n",
    "learning_rate=0.001\n",
    "max_epochs_per_round=100\n",
    "model_name=\"resnet18\" \n",
    "strategy=\"CoreSet\" #i.e. other alternatives may be : EntropySampling #RandomSampling"
   ]
  },
  {
   "cell_type": "markdown",
   "metadata": {},
   "source": [
    "### External experimental variables"
   ]
  },
  {
   "cell_type": "code",
   "execution_count": 3,
   "metadata": {},
   "outputs": [],
   "source": [
    "num_rounds = 20"
   ]
  },
  {
   "cell_type": "markdown",
   "metadata": {},
   "source": [
    "***... the rest of the notebook should run without any code adjustments/modifications.***"
   ]
  },
  {
   "cell_type": "markdown",
   "metadata": {},
   "source": [
    "# 1.Create the dataset"
   ]
  },
  {
   "cell_type": "code",
   "execution_count": 4,
   "metadata": {},
   "outputs": [
    {
     "data": {
      "text/plain": [
       "'\\nIn this notebook we will convert the CIFAR10 dataset into Pixano Format\\nand we will augment the dataset by one more class (guns) using the G\\n\\n!Note: For running, activate the pixano env\\n'"
      ]
     },
     "execution_count": 4,
     "metadata": {},
     "output_type": "execute_result"
    }
   ],
   "source": [
    "\"\"\"\n",
    "In this notebook we will convert the CIFAR10 dataset into Pixano Format\n",
    "and we will augment the dataset by one more class (guns) using the G\n",
    "\n",
    "!Note: For running, activate the pixano env\n",
    "\"\"\""
   ]
  },
  {
   "cell_type": "code",
   "execution_count": 4,
   "metadata": {},
   "outputs": [
    {
     "name": "stdout",
     "output_type": "stream",
     "text": [
      "Inserting parent dir :  /home/melissap/Desktop/LAGO_43integrationDemo/pixano\n"
     ]
    }
   ],
   "source": [
    "# func for importing ROOT dir to import pixano root module , which is the pixano directory\n",
    "import os\n",
    "import sys\n",
    "\n",
    "def insertRootDir(ROOTDIR='pixano'):\n",
    "    pardir=os.path.dirname(os.path.realpath('__file__'))\n",
    "\n",
    "    found = False\n",
    "    potential_root_dir = os.path.basename(os.path.dirname(os.path.dirname(os.path.dirname(os.path.dirname(os.path.realpath('__file__'))))))\n",
    "\n",
    "    while(os.path.basename(pardir)!=ROOTDIR):\n",
    "\n",
    "        # print(pardir)\n",
    "        pardir=os.path.dirname(pardir)\n",
    "        \n",
    "\n",
    "        if (os.path.basename(pardir) == ROOTDIR):\n",
    "            found = True\n",
    "            break\n",
    "        if (pardir == \"/\" ):\n",
    "            break\n",
    "    \n",
    "    if found:\n",
    "        print(\"Inserting parent dir : \",pardir)\n",
    "        sys.path.insert(0,pardir)\n",
    "        return pardir\n",
    "    else:\n",
    "        print(f\"ROOTDIR NOT FOUND. You may have to change ROOTDIR variable from : '{ROOTDIR}' to '{potential_root_dir}'\")\n",
    "        return \"_NOT_FOUND_\"\n",
    "\n",
    "ROOTDIR = insertRootDir(ROOTDIR)"
   ]
  },
  {
   "cell_type": "code",
   "execution_count": 6,
   "metadata": {},
   "outputs": [
    {
     "name": "stdout",
     "output_type": "stream",
     "text": [
      "/home/melissap/miniconda3/envs/pixano_env/lib/python3.10/site-packages/pixano/apps/explorer/dist/assets\n"
     ]
    }
   ],
   "source": [
    "ALModuleDir = os.path.join(ROOTDIR,ALModule)\n",
    "\n",
    "from pathlib import Path\n",
    "import shutil\n",
    "import random\n",
    "import numpy as np\n",
    "import pandas as pd\n",
    "from PIL import Image\n",
    "from torchvision import datasets\n",
    "from dowload_GunDataset import getGunDataset\n",
    "import lancedb\n",
    "import pyarrow as pa\n",
    "\n",
    "from ActiveLearning.ALearner import (\n",
    "    Learner,\n",
    "    BaseAnnotator,\n",
    "    BaseSampler,\n",
    "    BaseTrainer,\n",
    "    getLabels,\n",
    "    getLabelledIds,\n",
    "    getUnlabelledIds,\n",
    "    getTaggedIds,\n",
    "    getLastRound,\n",
    "    ddb_str,\n",
    "    custom_update,\n",
    "    importTestLabels\n",
    ")\n",
    "from pixano.apps import Explorer\n",
    "from pixano.data import ImageImporter\n",
    "from pixano.utils import natural_key\n",
    "from ActiveLearning.customTrainer import customTrainer\n",
    "from ActiveLearning.customSampler import customSampler"
   ]
  },
  {
   "cell_type": "markdown",
   "metadata": {},
   "source": [
    "#### method for downloading the dataset"
   ]
  },
  {
   "cell_type": "code",
   "execution_count": 14,
   "metadata": {},
   "outputs": [],
   "source": [
    "random.seed( 1 )\n",
    "\n",
    "def get_CIFAR11(data_dir):\n",
    "    \"\"\"\n",
    "    function for downloading and storing the dataset to the data_dir\n",
    "    \"\"\"\n",
    "    framecounter = 0 \n",
    "\n",
    "    image_dir = os.path.join(data_dir,\"images\")\n",
    "    annotation_dir = os.path.join(data_dir,\"annotations\")\n",
    "    train_imdir = os.path.join(image_dir,\"train\")\n",
    "    val_imdir = os.path.join(image_dir,\"val\")\n",
    "    test_imdir = os.path.join(image_dir,\"test\")\n",
    "    \n",
    "    raw_downloaDir = os.path.join(data_dir,\"raw_dataset\")\n",
    "    \n",
    "    train_anfile = os.path.join(annotation_dir,\"train.csv\")\n",
    "    val_anfile = os.path.join(annotation_dir,\"val.csv\") # not used\n",
    "    test_anfile = os.path.join(annotation_dir,\"test.csv\")\n",
    "    \n",
    "    # if True:\n",
    "    if os.path.isdir(image_dir) and os.path.isdir(annotation_dir):\n",
    "        # dataset is already downloaded\n",
    "        pass\n",
    "    else: \n",
    "        try:\n",
    "            os.makedirs(image_dir)\n",
    "            os.makedirs(annotation_dir)\n",
    "            os.makedirs(train_imdir)\n",
    "            os.makedirs(val_imdir)\n",
    "            os.makedirs(test_imdir)\n",
    "        except:\n",
    "            pass\n",
    "        \n",
    "        print(f\"Creating CIFAR11\")\n",
    "\n",
    "        # GET CIFAR10\n",
    "        raw_tr = datasets.CIFAR10(raw_downloaDir, train=True, download=True)\n",
    "        raw_te = datasets.CIFAR10(raw_downloaDir, train=False, download=True)\n",
    "        CF_X_tr = raw_tr.data\n",
    "        CF_Y_tr = raw_tr.targets\n",
    "        CF_X_te = raw_te.data\n",
    "        CF_Y_te = raw_te.targets\n",
    "\n",
    "        destination_tar = os.path.join(data_dir,\"gun-dataset.tar.gz\")\n",
    "        \n",
    "        # download the guns dataset\n",
    "        GN_dataset_dir = getGunDataset(destination_tar)\n",
    "        GN_tr_dir = os.path.join(GN_dataset_dir,\"train\")\n",
    "        GN_te_dir = os.path.join(GN_dataset_dir,\"test\")\n",
    "\n",
    "        # convert guns dataset - read, resize, to_numpy\n",
    "        GN_X_tr = [np.array(Image.open(os.path.join(GN_tr_dir,im)).resize((32,32), Image.Resampling.LANCZOS)) for im in os.listdir(GN_tr_dir)]\n",
    "        GN_X_te = [np.array(Image.open(os.path.join(GN_te_dir,im)).resize((32,32), Image.Resampling.LANCZOS)) for im in os.listdir(GN_te_dir)]\n",
    "        GN_Y_tr = [int(10) for im in range(len(GN_X_tr))] # 10 classes on CIFAR (0 .. 9). The new one, has one-hot encoding equal to number of 10 (the 11th class).\n",
    "        GN_Y_te = [int(10) for im in range(len(GN_X_te))]\n",
    "\n",
    "        # subsampling to make a uniform distribution across all classes, including the new class inserted (i.e. GUNs)\n",
    "        cf_num_classes = 10\n",
    "        tr_num_samples = len(CF_Y_tr) // cf_num_classes # == num samples per class on the training set\n",
    "        tr_subsampling_idxs = random.sample(range(0, len(GN_Y_tr)-1), tr_num_samples ) # apply subsampling on the training set\n",
    "        GN_X_tr = [GN_X_tr[i] for i in tr_subsampling_idxs]\n",
    "        GN_Y_tr = [GN_Y_tr[i] for i in tr_subsampling_idxs]\n",
    "\n",
    "        te_num_samples = len(CF_Y_te) // cf_num_classes # == 1000 samples per class on the testing set\n",
    "        # Testing split requires no subsampling. There are 1000 num samples per class in the CIFAR, and 998 num of samples in the GUNsDataset. Subsampling is skipped.\n",
    "\n",
    "        # merge the two datasets\n",
    "        X_tr = [*CF_X_tr , *GN_X_tr]\n",
    "        Y_tr = [*CF_Y_tr , *GN_Y_tr]\n",
    "        X_te = [*CF_X_te , *GN_X_te]\n",
    "        Y_te = [*CF_Y_te , *GN_Y_te]\n",
    "\n",
    "        # shuffle before saving\n",
    "        tr_shuffled_idxs = list(range(len(Y_tr)))\n",
    "        te_shuffled_idxs = list(range(len(Y_te)))\n",
    "        random.shuffle(tr_shuffled_idxs)\n",
    "        random.shuffle(te_shuffled_idxs)\n",
    "        X_tr = [X_tr[i] for i in tr_shuffled_idxs]\n",
    "        Y_tr = [Y_tr[i] for i in tr_shuffled_idxs]\n",
    "        X_te = [X_te[i] for i in te_shuffled_idxs]\n",
    "        Y_te = [Y_te[i] for i in te_shuffled_idxs]\n",
    "\n",
    "        # store frames\n",
    "        for i in range(len(X_tr)):\n",
    "            x=np.array(X_tr[i])\n",
    "            im = Image.fromarray(x)\n",
    "            savepath = os.path.join(train_imdir,str(framecounter)+\".jpeg\")\n",
    "            im.save(savepath)\n",
    "            framecounter+=1\n",
    "\n",
    "        for i in range(len(X_te)):\n",
    "            x=np.array(X_te[i])\n",
    "            im = Image.fromarray(x)\n",
    "            savepath = os.path.join(test_imdir,str(framecounter)+\".jpeg\")\n",
    "            im.save(savepath)\n",
    "            framecounter+=1\n",
    "\n",
    "        # store annotations\n",
    "        y=pd.DataFrame(np.array(Y_tr))\n",
    "        y.to_csv(train_anfile,index=False)\n",
    "            \n",
    "        y=pd.DataFrame(np.array(Y_te))\n",
    "        y.to_csv(test_anfile,index=False)\n",
    "\n",
    "        # remove raw data\n",
    "        shutil.rmtree(raw_downloaDir)\n",
    "        shutil.rmtree(GN_dataset_dir)\n",
    "        print(f'Dataset succesfull downoladed within {data_dir}, framecounter = {framecounter}')"
   ]
  },
  {
   "cell_type": "code",
   "execution_count": 15,
   "metadata": {},
   "outputs": [],
   "source": [
    "# reminder : datasets_dir is the  local directory sto store the raw dataset\n",
    "get_CIFAR11(datasets_dir)"
   ]
  },
  {
   "cell_type": "code",
   "execution_count": null,
   "metadata": {},
   "outputs": [],
   "source": [
    "# uncomment for help \n",
    "# help(ImageImporter.import_dataset)"
   ]
  },
  {
   "cell_type": "code",
   "execution_count": 16,
   "metadata": {},
   "outputs": [],
   "source": [
    "\n",
    "# Dataset information\n",
    "name = \"CIFAR11 dataset\"\n",
    "description = \"CIFAR10 : https://www.cs.toronto.edu/~kriz/cifar.html , Gun Detection Dataset : https://www.linksprite.com/gun-detection-datasets/\"\n",
    "splits = [\"train\", \"test\"] # \"val\",\n",
    "\n",
    "# Input information\n",
    "input_dirs = {\n",
    "    \"image\": Path(datasets_dir) / \"images\" #,\n",
    "    # \"objects\": library_dir / \"annotations\",\n",
    "}\n",
    "\n",
    "library_dir=Path(library_dir)\n",
    "import_dir = library_dir / DATASET_NAME"
   ]
  },
  {
   "cell_type": "code",
   "execution_count": 17,
   "metadata": {},
   "outputs": [
    {
     "name": "stderr",
     "output_type": "stream",
     "text": [
      "[2023-12-04T09:23:26Z WARN  lance::dataset] No existing dataset at /home/melissap/_pixano_datasets_/CIFAR11_guns_pixano_v2/db.lance, it will be created\n",
      "[2023-12-04T09:23:26Z WARN  lance::dataset] No existing dataset at /home/melissap/_pixano_datasets_/CIFAR11_guns_pixano_v2/image.lance, it will be created\n"
     ]
    },
    {
     "data": {
      "application/vnd.jupyter.widget-view+json": {
       "model_id": "e9836ebb24ea4a25a9862fa949f512ad",
       "version_major": 2,
       "version_minor": 0
      },
      "text/plain": [
       "Importing dataset: 0it [00:00, ?it/s]"
      ]
     },
     "metadata": {},
     "output_type": "display_data"
    },
    {
     "data": {
      "application/vnd.jupyter.widget-view+json": {
       "model_id": "750c7fc564554c049ad1c2f84a365a4b",
       "version_major": 2,
       "version_minor": 0
      },
      "text/plain": [
       "Copying media directories:   0%|          | 0/1 [00:00<?, ?it/s]"
      ]
     },
     "metadata": {},
     "output_type": "display_data"
    },
    {
     "data": {
      "application/vnd.jupyter.widget-view+json": {
       "model_id": "e5552debce1e45ec85b8d6c0433b39e5",
       "version_major": 2,
       "version_minor": 0
      },
      "text/plain": [
       "Creating dataset info file:   0%|          | 0/1 [00:00<?, ?it/s]"
      ]
     },
     "metadata": {},
     "output_type": "display_data"
    },
    {
     "data": {
      "application/vnd.jupyter.widget-view+json": {
       "model_id": "50b89ef966ee48d3983b020faa46449e",
       "version_major": 2,
       "version_minor": 0
      },
      "text/plain": [
       "Creating dataset thumbnail:   0%|          | 0/1 [00:00<?, ?it/s]"
      ]
     },
     "metadata": {},
     "output_type": "display_data"
    },
    {
     "data": {
      "text/plain": [
       "<pixano.data.dataset.Dataset at 0x7f4f1a1a8760>"
      ]
     },
     "execution_count": 17,
     "metadata": {},
     "output_type": "execute_result"
    }
   ],
   "source": [
    "importer = ImageImporter(name, description, splits)\n",
    "importer.import_dataset(input_dirs, import_dir, portable=True)"
   ]
  },
  {
   "cell_type": "markdown",
   "metadata": {},
   "source": [
    "### !ERROR: Here we found and issue. explorer doesn't return a localhost port for opening Pixano GUI. A fix is required."
   ]
  },
  {
   "cell_type": "code",
   "execution_count": null,
   "metadata": {},
   "outputs": [],
   "source": [
    "# explorer = Explorer(library_dir)\n",
    "# explorer.display()"
   ]
  },
  {
   "cell_type": "markdown",
   "metadata": {},
   "source": [
    "# 2. Active Learning"
   ]
  },
  {
   "cell_type": "code",
   "execution_count": 18,
   "metadata": {},
   "outputs": [],
   "source": [
    "# utility function to convert id (format \"<index>.png\") to index\n",
    "def id_to_idx(id: str) -> int:\n",
    "    return int(id.split(\".\")[0])\n",
    "    # return int(id[0:-4])  #remove the last 4 chars (\".png\")"
   ]
  },
  {
   "cell_type": "markdown",
   "metadata": {},
   "source": [
    "### Connect to Pixano DB"
   ]
  },
  {
   "cell_type": "code",
   "execution_count": 19,
   "metadata": {},
   "outputs": [],
   "source": [
    "cifar11_db = lancedb.connect(import_dir)"
   ]
  },
  {
   "cell_type": "markdown",
   "metadata": {},
   "source": [
    "## Model Trainer Object\n",
    "\n",
    "We will get raw x_train, x_test, y_test data directly from CIFAR11.\n",
    "\n",
    "2 proposed Model Trainer Objects, with same model: SimpleTrainer and IncrementalTrainer"
   ]
  },
  {
   "cell_type": "code",
   "execution_count": 20,
   "metadata": {},
   "outputs": [],
   "source": [
    "# Overload function for reading the dataset from storage.\n",
    "def get_CIFAR11(data_dir):\n",
    "\n",
    "    image_dir = os.path.join(data_dir,\"images\")\n",
    "    train_imdir = os.path.join(image_dir,\"train\")\n",
    "    test_imdir = os.path.join(image_dir,\"test\")\n",
    "\n",
    "    annotation_dir = os.path.join(data_dir,\"annotations\")\n",
    "    train_anfile = os.path.join(annotation_dir,\"train.csv\")\n",
    "    test_anfile = os.path.join(annotation_dir,\"test.csv\")\n",
    "\n",
    "    # read sorted file names     \n",
    "    X_train = sorted(os.listdir(train_imdir), key=lambda x: int(x.split('.', 1)[0])) \n",
    "    X_test = sorted(os.listdir(test_imdir), key=lambda x: int(x.split('.', 1)[0]))\n",
    "    \n",
    "    # X_train = np.array([Image.open(os.path.join(train_imdir,x)) for x in X_train])\n",
    "    # X_test = np.array([Image.open(os.path.join(test_imdir,x)) for x in X_test])\n",
    "\n",
    "    # # read labels\n",
    "    Y_train = pd.read_csv(train_anfile).values #.to_numpy(dtype=np.uint8)\n",
    "    Y_test = pd.read_csv(test_anfile).values #.to_numpy(dtype=np.uint8)\n",
    "\n",
    "    Y_train = np.array([y[0] for y in Y_train], dtype=np.uint8)\n",
    "    Y_test = np.array([y[0] for y in Y_test], dtype=np.uint8)\n",
    "\n",
    "    return (X_train,Y_train),(X_test,Y_test)\n",
    "\n",
    "(X_train, Y_train), (X_test, Y_test) = get_CIFAR11(datasets_dir)"
   ]
  },
  {
   "cell_type": "markdown",
   "metadata": {},
   "source": [
    "## Query Sampler Object\n",
    "<!-- RandomSampler or SequentialSampler -->"
   ]
  },
  {
   "cell_type": "markdown",
   "metadata": {},
   "source": [
    "#### Custom Trainer"
   ]
  },
  {
   "cell_type": "markdown",
   "metadata": {},
   "source": [
    "> prepare the directories for data exchange between pixano and annotation tool"
   ]
  },
  {
   "cell_type": "code",
   "execution_count": 21,
   "metadata": {},
   "outputs": [],
   "source": [
    "import shutil\n",
    "\n",
    "# TEMPORARY SOLUTION FOR EXCHANGING DATA BETWEEN PIXANO AND AL\n",
    "def create_dir(path):\n",
    "    try:\n",
    "        if (os.path.basename(path)== \"temp_data\" and os.path.exists(path)):\n",
    "            shutil.rmtree(path) # erase the previous results\n",
    "        os.makedirs(path)\n",
    "    except:\n",
    "        print(f'Dir {path} exists already')\n",
    "    return path\n",
    "\n",
    "# here define the paths of exchanging data between pixano and the customLearner\n",
    "temp_data_exchange_dir = create_dir(os.path.join(ROOTDIR,\"temp_data\"))                # define a directory for exchanging data\n",
    "output_queDir = create_dir(os.path.join(temp_data_exchange_dir,\"output_queries\"))       # [out] query strategy results\n",
    "output_accDir = create_dir(os.path.join(temp_data_exchange_dir,\"output_accuracy\"))      # [out] accuracy results "
   ]
  },
  {
   "cell_type": "markdown",
   "metadata": {},
   "source": [
    "## Labeling Interface Objects\n",
    "\n",
    "Human labeling with Pixano Annotator is built-in, here we specify an Auto Annotator"
   ]
  },
  {
   "cell_type": "code",
   "execution_count": 22,
   "metadata": {},
   "outputs": [],
   "source": [
    "class AutoAnnotator(BaseAnnotator):\n",
    "    # custom annotation function\n",
    "    # as we have ground truth for CIFAR11, we can autofill\n",
    "    def annotate(self, round):\n",
    "        candidates = getTaggedIds(self.db, round)\n",
    "        db_tbl = cifar11_db.open_table(\"db\")\n",
    "        custom_update(db_tbl, f\"id in ({ddb_str(candidates)})\", 'label', [str(Y_train[id_to_idx(candidate)]) for candidate in sorted(candidates, key=natural_key)])\n",
    "        print(f\"AutoAnnotator: round {round} annotated.\")"
   ]
  },
  {
   "cell_type": "markdown",
   "metadata": {},
   "source": [
    "## Orchestrator"
   ]
  },
  {
   "cell_type": "markdown",
   "metadata": {},
   "source": [
    "### Initial Learning"
   ]
  },
  {
   "cell_type": "code",
   "execution_count": 23,
   "metadata": {},
   "outputs": [],
   "source": [
    "myTrainer = customTrainer(cifar11_db, \n",
    "                            DATASET_NAME = DATASET_NAME,\n",
    "                            output_accDir = output_accDir,\n",
    "                            import_dir = import_dir,\n",
    "                            customLearnerCondaEnv = customLearnerCondaEnv,\n",
    "                            model_name = model_name, \n",
    "                            learning_rate = learning_rate, \n",
    "                            max_epochs_per_round = max_epochs_per_round,\n",
    "                            strategy_name = strategy)\n",
    "\n",
    "mycustomSampler = customSampler(cifar11_db,\n",
    "                                DATASET_NAME = DATASET_NAME,\n",
    "                                output_queDir = output_queDir,\n",
    "                                import_dir = import_dir,\n",
    "                                customLearnerCondaEnv = customLearnerCondaEnv,\n",
    "                                model_name = model_name, \n",
    "                                strategy_name = strategy, \n",
    "                                number_init_labels = numInitLabels, \n",
    "                                labels_per_round = labels_per_round,\n",
    "                                alpha_opt = True)\n",
    "\n",
    "myTrainer.set_parameter(\"pixano_root\",ROOTDIR)\n",
    "mycustomSampler.set_parameter(\"pixano_root\",ROOTDIR)\n",
    "\n",
    "autofillAnnotator = AutoAnnotator(cifar11_db)\n",
    "\n",
    "init_learner = Learner(\n",
    "    db=cifar11_db,\n",
    "    trainer=myTrainer,\n",
    "    sampler=mycustomSampler,\n",
    "    custom_annotator=autofillAnnotator,\n",
    "    new_al=True,\n",
    "    verbose=0\n",
    ")"
   ]
  },
  {
   "cell_type": "code",
   "execution_count": 24,
   "metadata": {},
   "outputs": [
    {
     "name": "stdout",
     "output_type": "stream",
     "text": [
      "Importing validation data in /home/melissap/_pixano_datasets_/CIFAR11_guns_pixano_v2\n"
     ]
    }
   ],
   "source": [
    "importTestLabels(cifar11_db,(X_test,Y_test))"
   ]
  },
  {
   "cell_type": "markdown",
   "metadata": {},
   "source": [
    "### Active Learning - Human annotation with Pixano Annotator\n",
    "\n",
    "We add some auto-annotation rounds"
   ]
  },
  {
   "cell_type": "code",
   "execution_count": 25,
   "metadata": {},
   "outputs": [
    {
     "name": "stdout",
     "output_type": "stream",
     "text": [
      "csvQue /home/melissap/Desktop/LAGO_43integrationDemo/pixano/temp_data/output_queries/queries_0.csv\n",
      "\n",
      "\n",
      "######################################################## AL ROUND 0 mode query : START #########################################################\n",
      "\n",
      "\n",
      "Namespace(mode='query', data_name='CIFAR11_guns_pixano_v2', n_label='None', n_init_lb=2000, n_query=2000, data_dir='/home/melissap/_pixano_datasets_/CIFAR11_guns_pixano_v2', pixano_root='/home/melissap/Desktop/LAGO_43integrationDemo/pixano', strategy='CoreSet', round=0, train_out=None, query_out='/home/melissap/Desktop/LAGO_43integrationDemo/pixano/temp_data/output_queries/queries_0.csv', seeds=[1, 10, 100, 1000, 10000], init_lb_method='general_random', log_dir='/home/melissap/Desktop/LAGO_43integrationDemo/pixano/ActiveLearning/alpha_mix_active_learning/_logs', save_checkpoints=False, save_images=False, print_to_file=False, query_growth_ratio=1, n_drop=5, eps=0.05, max_iter=50, alpha_cap=0.03125, alpha_opt=False, alpha_closed_form_approx=True, alpha_learning_rate=0.1, alpha_clf_coef=1.0, alpha_l2_coef=0.01, alpha_learning_iters=5, alpha_learn_batch_size=1000000)\n",
      "args.pixano_root  /home/melissap/Desktop/LAGO_43integrationDemo/pixano\n",
      "Loading data ...\n",
      "number of labeled pool: 0\n",
      "number of unlabeled pool: 55000\n",
      "number of validation pool: 0\n",
      "number of testing pool: 10998\n",
      "Data loaded ...\n",
      "Using cuda device.\n"
     ]
    },
    {
     "name": "stderr",
     "output_type": "stream",
     "text": [
      "/home/melissap/miniconda3/envs/customLearner/lib/python3.10/site-packages/torchvision/models/_utils.py:208: UserWarning: The parameter 'pretrained' is deprecated since 0.13 and may be removed in the future, please use 'weights' instead.\n",
      "  warnings.warn(\n",
      "/home/melissap/miniconda3/envs/customLearner/lib/python3.10/site-packages/torchvision/models/_utils.py:223: UserWarning: Arguments other than a weight enum or `None` for 'weights' are deprecated since 0.13 and may be removed in the future. The current behavior is equivalent to passing `weights=None`.\n",
      "  warnings.warn(msg)\n"
     ]
    },
    {
     "name": "stdout",
     "output_type": "stream",
     "text": [
      "Round 0 tagged\n",
      "2000 candidates on round 0\n",
      "AutoAnnotator: round 0 annotated.\n",
      "\n",
      "\n",
      "######################################################## AL ROUND 0 mode train : START #########################################################\n",
      "\n",
      "\n",
      "Namespace(mode='train', data_name='CIFAR11_guns_pixano_v2', n_label='None', n_init_lb=10, n_query=100, data_dir='/home/melissap/_pixano_datasets_/CIFAR11_guns_pixano_v2', pixano_root='/home/melissap/Desktop/LAGO_43integrationDemo/pixano', strategy='CoreSet', round=0, train_out='/home/melissap/Desktop/LAGO_43integrationDemo/pixano/temp_data/output_accuracy/accuracy.csv', query_out='path to the file', seeds=[1, 10, 100, 1000, 10000], init_lb_method='general_random', log_dir='/home/melissap/Desktop/LAGO_43integrationDemo/pixano/ActiveLearning/alpha_mix_active_learning/_logs', save_checkpoints=False, save_images=False, print_to_file=False, query_growth_ratio=1, n_drop=5, eps=0.05, max_iter=50, alpha_cap=0.03125, alpha_opt=False, alpha_closed_form_approx=True, alpha_learning_rate=0.1, alpha_clf_coef=1.0, alpha_l2_coef=0.01, alpha_learning_iters=5, alpha_learn_batch_size=1000000)\n",
      "args.pixano_root  /home/melissap/Desktop/LAGO_43integrationDemo/pixano\n",
      "Loading data ...\n",
      "number of labeled pool: 2000\n",
      "number of unlabeled pool: 53000\n",
      "number of validation pool: 0\n",
      "number of testing pool: 10998\n",
      "Data loaded ...\n",
      "Using cuda device.\n"
     ]
    },
    {
     "name": "stderr",
     "output_type": "stream",
     "text": [
      "/home/melissap/miniconda3/envs/customLearner/lib/python3.10/site-packages/torchvision/models/_utils.py:208: UserWarning: The parameter 'pretrained' is deprecated since 0.13 and may be removed in the future, please use 'weights' instead.\n",
      "  warnings.warn(\n",
      "/home/melissap/miniconda3/envs/customLearner/lib/python3.10/site-packages/torchvision/models/_utils.py:223: UserWarning: Arguments other than a weight enum or `None` for 'weights' are deprecated since 0.13 and may be removed in the future. The current behavior is equivalent to passing `weights=None`.\n",
      "  warnings.warn(msg)\n"
     ]
    },
    {
     "name": "stdout",
     "output_type": "stream",
     "text": [
      "CIFAR11_guns_pixano_v2\n",
      "SEED 1\n",
      "CoreSet\n",
      "Adam optimizer...\n",
      "Training started...\n"
     ]
    },
    {
     "name": "stderr",
     "output_type": "stream",
     "text": [
      " 33%|███▎      | 33/100 [01:12<02:27,  2.20s/it]"
     ]
    },
    {
     "name": "stdout",
     "output_type": "stream",
     "text": [
      "Reached max accuracy at epoch 33 \n"
     ]
    },
    {
     "name": "stderr",
     "output_type": "stream",
     "text": [
      " 33%|███▎      | 33/100 [01:14<02:31,  2.26s/it]\n"
     ]
    },
    {
     "name": "stdout",
     "output_type": "stream",
     "text": [
      "Round 0\n",
      "testing accuracy 0.4328968903436989\n",
      "\n",
      "\n",
      "######################################################### AL ROUND 0 mode train : END ##########################################################\n",
      "\n",
      "\n",
      "csvQue /home/melissap/Desktop/LAGO_43integrationDemo/pixano/temp_data/output_queries/queries_1.csv\n",
      "\n",
      "\n",
      "######################################################## AL ROUND 1 mode query : START #########################################################\n",
      "\n",
      "\n",
      "Namespace(mode='query', data_name='CIFAR11_guns_pixano_v2', n_label='None', n_init_lb=2000, n_query=2000, data_dir='/home/melissap/_pixano_datasets_/CIFAR11_guns_pixano_v2', pixano_root='/home/melissap/Desktop/LAGO_43integrationDemo/pixano', strategy='CoreSet', round=1, train_out=None, query_out='/home/melissap/Desktop/LAGO_43integrationDemo/pixano/temp_data/output_queries/queries_1.csv', seeds=[1, 10, 100, 1000, 10000], init_lb_method='general_random', log_dir='/home/melissap/Desktop/LAGO_43integrationDemo/pixano/ActiveLearning/alpha_mix_active_learning/_logs', save_checkpoints=False, save_images=False, print_to_file=False, query_growth_ratio=1, n_drop=5, eps=0.05, max_iter=50, alpha_cap=0.03125, alpha_opt=False, alpha_closed_form_approx=True, alpha_learning_rate=0.1, alpha_clf_coef=1.0, alpha_l2_coef=0.01, alpha_learning_iters=5, alpha_learn_batch_size=1000000)\n",
      "args.pixano_root  /home/melissap/Desktop/LAGO_43integrationDemo/pixano\n",
      "Loading data ...\n",
      "number of labeled pool: 2000\n",
      "number of unlabeled pool: 53000\n",
      "number of validation pool: 0\n",
      "number of testing pool: 10998\n",
      "Data loaded ...\n",
      "Using cuda device.\n"
     ]
    },
    {
     "name": "stderr",
     "output_type": "stream",
     "text": [
      "/home/melissap/miniconda3/envs/customLearner/lib/python3.10/site-packages/torchvision/models/_utils.py:208: UserWarning: The parameter 'pretrained' is deprecated since 0.13 and may be removed in the future, please use 'weights' instead.\n",
      "  warnings.warn(\n",
      "/home/melissap/miniconda3/envs/customLearner/lib/python3.10/site-packages/torchvision/models/_utils.py:223: UserWarning: Arguments other than a weight enum or `None` for 'weights' are deprecated since 0.13 and may be removed in the future. The current behavior is equivalent to passing `weights=None`.\n",
      "  warnings.warn(msg)\n"
     ]
    },
    {
     "name": "stdout",
     "output_type": "stream",
     "text": [
      "Loading weights resnet18_CIFAR11_guns_pixano_v2_CoreSet_0_weights.pth\n",
      "CIFAR11_guns_pixano_v2\n",
      "SEED 1\n",
      "CoreSet\n",
      "Round 1\n",
      "query budget: 2000\n",
      "\n",
      "\n",
      "######################################################### AL ROUND 1 mode query : END ##########################################################\n",
      "\n",
      "\n",
      "Round 1 tagged\n",
      "2000 candidates on round 1\n",
      "AutoAnnotator: round 1 annotated.\n",
      "\n",
      "\n",
      "######################################################## AL ROUND 1 mode train : START #########################################################\n",
      "\n",
      "\n",
      "Namespace(mode='train', data_name='CIFAR11_guns_pixano_v2', n_label='None', n_init_lb=10, n_query=100, data_dir='/home/melissap/_pixano_datasets_/CIFAR11_guns_pixano_v2', pixano_root='/home/melissap/Desktop/LAGO_43integrationDemo/pixano', strategy='CoreSet', round=1, train_out='/home/melissap/Desktop/LAGO_43integrationDemo/pixano/temp_data/output_accuracy/accuracy.csv', query_out='path to the file', seeds=[1, 10, 100, 1000, 10000], init_lb_method='general_random', log_dir='/home/melissap/Desktop/LAGO_43integrationDemo/pixano/ActiveLearning/alpha_mix_active_learning/_logs', save_checkpoints=False, save_images=False, print_to_file=False, query_growth_ratio=1, n_drop=5, eps=0.05, max_iter=50, alpha_cap=0.03125, alpha_opt=False, alpha_closed_form_approx=True, alpha_learning_rate=0.1, alpha_clf_coef=1.0, alpha_l2_coef=0.01, alpha_learning_iters=5, alpha_learn_batch_size=1000000)\n",
      "args.pixano_root  /home/melissap/Desktop/LAGO_43integrationDemo/pixano\n",
      "Loading data ...\n",
      "number of labeled pool: 4000\n",
      "number of unlabeled pool: 51000\n",
      "number of validation pool: 0\n",
      "number of testing pool: 10998\n",
      "Data loaded ...\n",
      "Using cuda device.\n"
     ]
    },
    {
     "name": "stderr",
     "output_type": "stream",
     "text": [
      "/home/melissap/miniconda3/envs/customLearner/lib/python3.10/site-packages/torchvision/models/_utils.py:208: UserWarning: The parameter 'pretrained' is deprecated since 0.13 and may be removed in the future, please use 'weights' instead.\n",
      "  warnings.warn(\n",
      "/home/melissap/miniconda3/envs/customLearner/lib/python3.10/site-packages/torchvision/models/_utils.py:223: UserWarning: Arguments other than a weight enum or `None` for 'weights' are deprecated since 0.13 and may be removed in the future. The current behavior is equivalent to passing `weights=None`.\n",
      "  warnings.warn(msg)\n"
     ]
    },
    {
     "name": "stdout",
     "output_type": "stream",
     "text": [
      "CIFAR11_guns_pixano_v2\n",
      "SEED 1\n",
      "CoreSet\n",
      "Adam optimizer...\n",
      "Loading weights resnet18_CIFAR11_guns_pixano_v2_CoreSet_0_weights.pth\n",
      " Print the weights of the model to ensure that weights are loaded \n",
      "Training started...\n"
     ]
    },
    {
     "name": "stderr",
     "output_type": "stream",
     "text": [
      " 37%|███▋      | 37/100 [02:30<04:15,  4.05s/it]"
     ]
    },
    {
     "name": "stdout",
     "output_type": "stream",
     "text": [
      "Reached max accuracy at epoch 37 \n"
     ]
    },
    {
     "name": "stderr",
     "output_type": "stream",
     "text": [
      " 37%|███▋      | 37/100 [02:34<04:22,  4.17s/it]\n"
     ]
    },
    {
     "name": "stdout",
     "output_type": "stream",
     "text": [
      "Round 0\n",
      "testing accuracy 0.5080014548099655\n",
      "\n",
      "\n",
      "######################################################### AL ROUND 1 mode train : END ##########################################################\n",
      "\n",
      "\n",
      "csvQue /home/melissap/Desktop/LAGO_43integrationDemo/pixano/temp_data/output_queries/queries_2.csv\n",
      "\n",
      "\n",
      "######################################################## AL ROUND 2 mode query : START #########################################################\n",
      "\n",
      "\n",
      "Namespace(mode='query', data_name='CIFAR11_guns_pixano_v2', n_label='None', n_init_lb=2000, n_query=2000, data_dir='/home/melissap/_pixano_datasets_/CIFAR11_guns_pixano_v2', pixano_root='/home/melissap/Desktop/LAGO_43integrationDemo/pixano', strategy='CoreSet', round=2, train_out=None, query_out='/home/melissap/Desktop/LAGO_43integrationDemo/pixano/temp_data/output_queries/queries_2.csv', seeds=[1, 10, 100, 1000, 10000], init_lb_method='general_random', log_dir='/home/melissap/Desktop/LAGO_43integrationDemo/pixano/ActiveLearning/alpha_mix_active_learning/_logs', save_checkpoints=False, save_images=False, print_to_file=False, query_growth_ratio=1, n_drop=5, eps=0.05, max_iter=50, alpha_cap=0.03125, alpha_opt=False, alpha_closed_form_approx=True, alpha_learning_rate=0.1, alpha_clf_coef=1.0, alpha_l2_coef=0.01, alpha_learning_iters=5, alpha_learn_batch_size=1000000)\n",
      "args.pixano_root  /home/melissap/Desktop/LAGO_43integrationDemo/pixano\n",
      "Loading data ...\n",
      "number of labeled pool: 4000\n",
      "number of unlabeled pool: 51000\n",
      "number of validation pool: 0\n",
      "number of testing pool: 10998\n",
      "Data loaded ...\n",
      "Using cuda device.\n"
     ]
    },
    {
     "name": "stderr",
     "output_type": "stream",
     "text": [
      "/home/melissap/miniconda3/envs/customLearner/lib/python3.10/site-packages/torchvision/models/_utils.py:208: UserWarning: The parameter 'pretrained' is deprecated since 0.13 and may be removed in the future, please use 'weights' instead.\n",
      "  warnings.warn(\n",
      "/home/melissap/miniconda3/envs/customLearner/lib/python3.10/site-packages/torchvision/models/_utils.py:223: UserWarning: Arguments other than a weight enum or `None` for 'weights' are deprecated since 0.13 and may be removed in the future. The current behavior is equivalent to passing `weights=None`.\n",
      "  warnings.warn(msg)\n"
     ]
    },
    {
     "name": "stdout",
     "output_type": "stream",
     "text": [
      "Loading weights resnet18_CIFAR11_guns_pixano_v2_CoreSet_1_weights.pth\n",
      "CIFAR11_guns_pixano_v2\n",
      "SEED 1\n",
      "CoreSet\n",
      "Round 2\n",
      "query budget: 2000\n",
      "\n",
      "\n",
      "######################################################### AL ROUND 2 mode query : END ##########################################################\n",
      "\n",
      "\n",
      "Round 2 tagged\n",
      "2000 candidates on round 2\n",
      "AutoAnnotator: round 2 annotated.\n",
      "\n",
      "\n",
      "######################################################## AL ROUND 2 mode train : START #########################################################\n",
      "\n",
      "\n",
      "Namespace(mode='train', data_name='CIFAR11_guns_pixano_v2', n_label='None', n_init_lb=10, n_query=100, data_dir='/home/melissap/_pixano_datasets_/CIFAR11_guns_pixano_v2', pixano_root='/home/melissap/Desktop/LAGO_43integrationDemo/pixano', strategy='CoreSet', round=2, train_out='/home/melissap/Desktop/LAGO_43integrationDemo/pixano/temp_data/output_accuracy/accuracy.csv', query_out='path to the file', seeds=[1, 10, 100, 1000, 10000], init_lb_method='general_random', log_dir='/home/melissap/Desktop/LAGO_43integrationDemo/pixano/ActiveLearning/alpha_mix_active_learning/_logs', save_checkpoints=False, save_images=False, print_to_file=False, query_growth_ratio=1, n_drop=5, eps=0.05, max_iter=50, alpha_cap=0.03125, alpha_opt=False, alpha_closed_form_approx=True, alpha_learning_rate=0.1, alpha_clf_coef=1.0, alpha_l2_coef=0.01, alpha_learning_iters=5, alpha_learn_batch_size=1000000)\n",
      "args.pixano_root  /home/melissap/Desktop/LAGO_43integrationDemo/pixano\n",
      "Loading data ...\n",
      "number of labeled pool: 6000\n",
      "number of unlabeled pool: 49000\n",
      "number of validation pool: 0\n",
      "number of testing pool: 10998\n",
      "Data loaded ...\n",
      "Using cuda device.\n"
     ]
    },
    {
     "name": "stderr",
     "output_type": "stream",
     "text": [
      "/home/melissap/miniconda3/envs/customLearner/lib/python3.10/site-packages/torchvision/models/_utils.py:208: UserWarning: The parameter 'pretrained' is deprecated since 0.13 and may be removed in the future, please use 'weights' instead.\n",
      "  warnings.warn(\n",
      "/home/melissap/miniconda3/envs/customLearner/lib/python3.10/site-packages/torchvision/models/_utils.py:223: UserWarning: Arguments other than a weight enum or `None` for 'weights' are deprecated since 0.13 and may be removed in the future. The current behavior is equivalent to passing `weights=None`.\n",
      "  warnings.warn(msg)\n"
     ]
    },
    {
     "name": "stdout",
     "output_type": "stream",
     "text": [
      "CIFAR11_guns_pixano_v2\n",
      "SEED 1\n",
      "CoreSet\n",
      "Adam optimizer...\n",
      "Loading weights resnet18_CIFAR11_guns_pixano_v2_CoreSet_1_weights.pth\n",
      " Print the weights of the model to ensure that weights are loaded \n",
      "Training started...\n"
     ]
    },
    {
     "name": "stderr",
     "output_type": "stream",
     "text": [
      " 28%|██▊       | 28/100 [02:41<06:52,  5.73s/it]"
     ]
    },
    {
     "name": "stdout",
     "output_type": "stream",
     "text": [
      "Reached max accuracy at epoch 28 \n"
     ]
    },
    {
     "name": "stderr",
     "output_type": "stream",
     "text": [
      " 28%|██▊       | 28/100 [02:47<07:09,  5.97s/it]\n"
     ]
    },
    {
     "name": "stdout",
     "output_type": "stream",
     "text": [
      "Round 0\n",
      "testing accuracy 0.5275504637206765\n",
      "\n",
      "\n",
      "######################################################### AL ROUND 2 mode train : END ##########################################################\n",
      "\n",
      "\n",
      "csvQue /home/melissap/Desktop/LAGO_43integrationDemo/pixano/temp_data/output_queries/queries_3.csv\n",
      "\n",
      "\n",
      "######################################################## AL ROUND 3 mode query : START #########################################################\n",
      "\n",
      "\n",
      "Namespace(mode='query', data_name='CIFAR11_guns_pixano_v2', n_label='None', n_init_lb=2000, n_query=2000, data_dir='/home/melissap/_pixano_datasets_/CIFAR11_guns_pixano_v2', pixano_root='/home/melissap/Desktop/LAGO_43integrationDemo/pixano', strategy='CoreSet', round=3, train_out=None, query_out='/home/melissap/Desktop/LAGO_43integrationDemo/pixano/temp_data/output_queries/queries_3.csv', seeds=[1, 10, 100, 1000, 10000], init_lb_method='general_random', log_dir='/home/melissap/Desktop/LAGO_43integrationDemo/pixano/ActiveLearning/alpha_mix_active_learning/_logs', save_checkpoints=False, save_images=False, print_to_file=False, query_growth_ratio=1, n_drop=5, eps=0.05, max_iter=50, alpha_cap=0.03125, alpha_opt=False, alpha_closed_form_approx=True, alpha_learning_rate=0.1, alpha_clf_coef=1.0, alpha_l2_coef=0.01, alpha_learning_iters=5, alpha_learn_batch_size=1000000)\n",
      "args.pixano_root  /home/melissap/Desktop/LAGO_43integrationDemo/pixano\n",
      "Loading data ...\n",
      "number of labeled pool: 6000\n",
      "number of unlabeled pool: 49000\n",
      "number of validation pool: 0\n",
      "number of testing pool: 10998\n",
      "Data loaded ...\n",
      "Using cuda device.\n"
     ]
    },
    {
     "name": "stderr",
     "output_type": "stream",
     "text": [
      "/home/melissap/miniconda3/envs/customLearner/lib/python3.10/site-packages/torchvision/models/_utils.py:208: UserWarning: The parameter 'pretrained' is deprecated since 0.13 and may be removed in the future, please use 'weights' instead.\n",
      "  warnings.warn(\n",
      "/home/melissap/miniconda3/envs/customLearner/lib/python3.10/site-packages/torchvision/models/_utils.py:223: UserWarning: Arguments other than a weight enum or `None` for 'weights' are deprecated since 0.13 and may be removed in the future. The current behavior is equivalent to passing `weights=None`.\n",
      "  warnings.warn(msg)\n"
     ]
    },
    {
     "name": "stdout",
     "output_type": "stream",
     "text": [
      "Loading weights resnet18_CIFAR11_guns_pixano_v2_CoreSet_2_weights.pth\n",
      "CIFAR11_guns_pixano_v2\n",
      "SEED 1\n",
      "CoreSet\n",
      "Round 3\n",
      "query budget: 2000\n",
      "\n",
      "\n",
      "######################################################### AL ROUND 3 mode query : END ##########################################################\n",
      "\n",
      "\n",
      "Round 3 tagged\n",
      "2000 candidates on round 3\n",
      "AutoAnnotator: round 3 annotated.\n",
      "\n",
      "\n",
      "######################################################## AL ROUND 3 mode train : START #########################################################\n",
      "\n",
      "\n",
      "Namespace(mode='train', data_name='CIFAR11_guns_pixano_v2', n_label='None', n_init_lb=10, n_query=100, data_dir='/home/melissap/_pixano_datasets_/CIFAR11_guns_pixano_v2', pixano_root='/home/melissap/Desktop/LAGO_43integrationDemo/pixano', strategy='CoreSet', round=3, train_out='/home/melissap/Desktop/LAGO_43integrationDemo/pixano/temp_data/output_accuracy/accuracy.csv', query_out='path to the file', seeds=[1, 10, 100, 1000, 10000], init_lb_method='general_random', log_dir='/home/melissap/Desktop/LAGO_43integrationDemo/pixano/ActiveLearning/alpha_mix_active_learning/_logs', save_checkpoints=False, save_images=False, print_to_file=False, query_growth_ratio=1, n_drop=5, eps=0.05, max_iter=50, alpha_cap=0.03125, alpha_opt=False, alpha_closed_form_approx=True, alpha_learning_rate=0.1, alpha_clf_coef=1.0, alpha_l2_coef=0.01, alpha_learning_iters=5, alpha_learn_batch_size=1000000)\n",
      "args.pixano_root  /home/melissap/Desktop/LAGO_43integrationDemo/pixano\n",
      "Loading data ...\n",
      "number of labeled pool: 8000\n",
      "number of unlabeled pool: 47000\n",
      "number of validation pool: 0\n",
      "number of testing pool: 10998\n",
      "Data loaded ...\n",
      "Using cuda device.\n"
     ]
    },
    {
     "name": "stderr",
     "output_type": "stream",
     "text": [
      "/home/melissap/miniconda3/envs/customLearner/lib/python3.10/site-packages/torchvision/models/_utils.py:208: UserWarning: The parameter 'pretrained' is deprecated since 0.13 and may be removed in the future, please use 'weights' instead.\n",
      "  warnings.warn(\n",
      "/home/melissap/miniconda3/envs/customLearner/lib/python3.10/site-packages/torchvision/models/_utils.py:223: UserWarning: Arguments other than a weight enum or `None` for 'weights' are deprecated since 0.13 and may be removed in the future. The current behavior is equivalent to passing `weights=None`.\n",
      "  warnings.warn(msg)\n"
     ]
    },
    {
     "name": "stdout",
     "output_type": "stream",
     "text": [
      "CIFAR11_guns_pixano_v2\n",
      "SEED 1\n",
      "CoreSet\n",
      "Adam optimizer...\n",
      "Loading weights resnet18_CIFAR11_guns_pixano_v2_CoreSet_2_weights.pth\n",
      " Print the weights of the model to ensure that weights are loaded \n",
      "Training started...\n"
     ]
    },
    {
     "name": "stderr",
     "output_type": "stream",
     "text": [
      " 15%|█▌        | 15/100 [01:51<10:31,  7.43s/it]"
     ]
    },
    {
     "name": "stdout",
     "output_type": "stream",
     "text": [
      "Reached max accuracy at epoch 15 \n"
     ]
    },
    {
     "name": "stderr",
     "output_type": "stream",
     "text": [
      " 15%|█▌        | 15/100 [01:58<11:13,  7.92s/it]\n"
     ]
    },
    {
     "name": "stdout",
     "output_type": "stream",
     "text": [
      "Round 0\n",
      "testing accuracy 0.5616475722858701\n",
      "\n",
      "\n",
      "######################################################### AL ROUND 3 mode train : END ##########################################################\n",
      "\n",
      "\n",
      "csvQue /home/melissap/Desktop/LAGO_43integrationDemo/pixano/temp_data/output_queries/queries_4.csv\n",
      "\n",
      "\n",
      "######################################################## AL ROUND 4 mode query : START #########################################################\n",
      "\n",
      "\n",
      "Namespace(mode='query', data_name='CIFAR11_guns_pixano_v2', n_label='None', n_init_lb=2000, n_query=2000, data_dir='/home/melissap/_pixano_datasets_/CIFAR11_guns_pixano_v2', pixano_root='/home/melissap/Desktop/LAGO_43integrationDemo/pixano', strategy='CoreSet', round=4, train_out=None, query_out='/home/melissap/Desktop/LAGO_43integrationDemo/pixano/temp_data/output_queries/queries_4.csv', seeds=[1, 10, 100, 1000, 10000], init_lb_method='general_random', log_dir='/home/melissap/Desktop/LAGO_43integrationDemo/pixano/ActiveLearning/alpha_mix_active_learning/_logs', save_checkpoints=False, save_images=False, print_to_file=False, query_growth_ratio=1, n_drop=5, eps=0.05, max_iter=50, alpha_cap=0.03125, alpha_opt=False, alpha_closed_form_approx=True, alpha_learning_rate=0.1, alpha_clf_coef=1.0, alpha_l2_coef=0.01, alpha_learning_iters=5, alpha_learn_batch_size=1000000)\n",
      "args.pixano_root  /home/melissap/Desktop/LAGO_43integrationDemo/pixano\n",
      "Loading data ...\n",
      "number of labeled pool: 8000\n",
      "number of unlabeled pool: 47000\n",
      "number of validation pool: 0\n",
      "number of testing pool: 10998\n",
      "Data loaded ...\n",
      "Using cuda device.\n"
     ]
    },
    {
     "name": "stderr",
     "output_type": "stream",
     "text": [
      "/home/melissap/miniconda3/envs/customLearner/lib/python3.10/site-packages/torchvision/models/_utils.py:208: UserWarning: The parameter 'pretrained' is deprecated since 0.13 and may be removed in the future, please use 'weights' instead.\n",
      "  warnings.warn(\n",
      "/home/melissap/miniconda3/envs/customLearner/lib/python3.10/site-packages/torchvision/models/_utils.py:223: UserWarning: Arguments other than a weight enum or `None` for 'weights' are deprecated since 0.13 and may be removed in the future. The current behavior is equivalent to passing `weights=None`.\n",
      "  warnings.warn(msg)\n"
     ]
    },
    {
     "name": "stdout",
     "output_type": "stream",
     "text": [
      "Loading weights resnet18_CIFAR11_guns_pixano_v2_CoreSet_3_weights.pth\n",
      "CIFAR11_guns_pixano_v2\n",
      "SEED 1\n",
      "CoreSet\n",
      "Round 4\n",
      "query budget: 2000\n",
      "\n",
      "\n",
      "######################################################### AL ROUND 4 mode query : END ##########################################################\n",
      "\n",
      "\n",
      "Round 4 tagged\n",
      "2000 candidates on round 4\n",
      "AutoAnnotator: round 4 annotated.\n",
      "\n",
      "\n",
      "######################################################## AL ROUND 4 mode train : START #########################################################\n",
      "\n",
      "\n",
      "Namespace(mode='train', data_name='CIFAR11_guns_pixano_v2', n_label='None', n_init_lb=10, n_query=100, data_dir='/home/melissap/_pixano_datasets_/CIFAR11_guns_pixano_v2', pixano_root='/home/melissap/Desktop/LAGO_43integrationDemo/pixano', strategy='CoreSet', round=4, train_out='/home/melissap/Desktop/LAGO_43integrationDemo/pixano/temp_data/output_accuracy/accuracy.csv', query_out='path to the file', seeds=[1, 10, 100, 1000, 10000], init_lb_method='general_random', log_dir='/home/melissap/Desktop/LAGO_43integrationDemo/pixano/ActiveLearning/alpha_mix_active_learning/_logs', save_checkpoints=False, save_images=False, print_to_file=False, query_growth_ratio=1, n_drop=5, eps=0.05, max_iter=50, alpha_cap=0.03125, alpha_opt=False, alpha_closed_form_approx=True, alpha_learning_rate=0.1, alpha_clf_coef=1.0, alpha_l2_coef=0.01, alpha_learning_iters=5, alpha_learn_batch_size=1000000)\n",
      "args.pixano_root  /home/melissap/Desktop/LAGO_43integrationDemo/pixano\n",
      "Loading data ...\n",
      "number of labeled pool: 10000\n",
      "number of unlabeled pool: 45000\n",
      "number of validation pool: 0\n",
      "number of testing pool: 10998\n",
      "Data loaded ...\n",
      "Using cuda device.\n"
     ]
    },
    {
     "name": "stderr",
     "output_type": "stream",
     "text": [
      "/home/melissap/miniconda3/envs/customLearner/lib/python3.10/site-packages/torchvision/models/_utils.py:208: UserWarning: The parameter 'pretrained' is deprecated since 0.13 and may be removed in the future, please use 'weights' instead.\n",
      "  warnings.warn(\n",
      "/home/melissap/miniconda3/envs/customLearner/lib/python3.10/site-packages/torchvision/models/_utils.py:223: UserWarning: Arguments other than a weight enum or `None` for 'weights' are deprecated since 0.13 and may be removed in the future. The current behavior is equivalent to passing `weights=None`.\n",
      "  warnings.warn(msg)\n"
     ]
    },
    {
     "name": "stdout",
     "output_type": "stream",
     "text": [
      "CIFAR11_guns_pixano_v2\n",
      "SEED 1\n",
      "CoreSet\n",
      "Adam optimizer...\n",
      "Loading weights resnet18_CIFAR11_guns_pixano_v2_CoreSet_3_weights.pth\n",
      " Print the weights of the model to ensure that weights are loaded \n",
      "Training started...\n"
     ]
    },
    {
     "name": "stderr",
     "output_type": "stream",
     "text": [
      " 13%|█▎        | 13/100 [01:58<13:10,  9.09s/it]"
     ]
    },
    {
     "name": "stdout",
     "output_type": "stream",
     "text": [
      "Reached max accuracy at epoch 13 \n"
     ]
    },
    {
     "name": "stderr",
     "output_type": "stream",
     "text": [
      " 13%|█▎        | 13/100 [02:07<14:15,  9.83s/it]\n"
     ]
    },
    {
     "name": "stdout",
     "output_type": "stream",
     "text": [
      "Round 0\n",
      "testing accuracy 0.571649390798327\n",
      "\n",
      "\n",
      "######################################################### AL ROUND 4 mode train : END ##########################################################\n",
      "\n",
      "\n",
      "csvQue /home/melissap/Desktop/LAGO_43integrationDemo/pixano/temp_data/output_queries/queries_5.csv\n",
      "\n",
      "\n",
      "######################################################## AL ROUND 5 mode query : START #########################################################\n",
      "\n",
      "\n",
      "Namespace(mode='query', data_name='CIFAR11_guns_pixano_v2', n_label='None', n_init_lb=2000, n_query=2000, data_dir='/home/melissap/_pixano_datasets_/CIFAR11_guns_pixano_v2', pixano_root='/home/melissap/Desktop/LAGO_43integrationDemo/pixano', strategy='CoreSet', round=5, train_out=None, query_out='/home/melissap/Desktop/LAGO_43integrationDemo/pixano/temp_data/output_queries/queries_5.csv', seeds=[1, 10, 100, 1000, 10000], init_lb_method='general_random', log_dir='/home/melissap/Desktop/LAGO_43integrationDemo/pixano/ActiveLearning/alpha_mix_active_learning/_logs', save_checkpoints=False, save_images=False, print_to_file=False, query_growth_ratio=1, n_drop=5, eps=0.05, max_iter=50, alpha_cap=0.03125, alpha_opt=False, alpha_closed_form_approx=True, alpha_learning_rate=0.1, alpha_clf_coef=1.0, alpha_l2_coef=0.01, alpha_learning_iters=5, alpha_learn_batch_size=1000000)\n",
      "args.pixano_root  /home/melissap/Desktop/LAGO_43integrationDemo/pixano\n",
      "Loading data ...\n",
      "number of labeled pool: 10000\n",
      "number of unlabeled pool: 45000\n",
      "number of validation pool: 0\n",
      "number of testing pool: 10998\n",
      "Data loaded ...\n",
      "Using cuda device.\n"
     ]
    },
    {
     "name": "stderr",
     "output_type": "stream",
     "text": [
      "/home/melissap/miniconda3/envs/customLearner/lib/python3.10/site-packages/torchvision/models/_utils.py:208: UserWarning: The parameter 'pretrained' is deprecated since 0.13 and may be removed in the future, please use 'weights' instead.\n",
      "  warnings.warn(\n",
      "/home/melissap/miniconda3/envs/customLearner/lib/python3.10/site-packages/torchvision/models/_utils.py:223: UserWarning: Arguments other than a weight enum or `None` for 'weights' are deprecated since 0.13 and may be removed in the future. The current behavior is equivalent to passing `weights=None`.\n",
      "  warnings.warn(msg)\n"
     ]
    },
    {
     "name": "stdout",
     "output_type": "stream",
     "text": [
      "Loading weights resnet18_CIFAR11_guns_pixano_v2_CoreSet_4_weights.pth\n",
      "CIFAR11_guns_pixano_v2\n",
      "SEED 1\n",
      "CoreSet\n",
      "Round 5\n",
      "query budget: 2000\n",
      "\n",
      "\n",
      "######################################################### AL ROUND 5 mode query : END ##########################################################\n",
      "\n",
      "\n",
      "Round 5 tagged\n",
      "2000 candidates on round 5\n",
      "AutoAnnotator: round 5 annotated.\n",
      "\n",
      "\n",
      "######################################################## AL ROUND 5 mode train : START #########################################################\n",
      "\n",
      "\n",
      "Namespace(mode='train', data_name='CIFAR11_guns_pixano_v2', n_label='None', n_init_lb=10, n_query=100, data_dir='/home/melissap/_pixano_datasets_/CIFAR11_guns_pixano_v2', pixano_root='/home/melissap/Desktop/LAGO_43integrationDemo/pixano', strategy='CoreSet', round=5, train_out='/home/melissap/Desktop/LAGO_43integrationDemo/pixano/temp_data/output_accuracy/accuracy.csv', query_out='path to the file', seeds=[1, 10, 100, 1000, 10000], init_lb_method='general_random', log_dir='/home/melissap/Desktop/LAGO_43integrationDemo/pixano/ActiveLearning/alpha_mix_active_learning/_logs', save_checkpoints=False, save_images=False, print_to_file=False, query_growth_ratio=1, n_drop=5, eps=0.05, max_iter=50, alpha_cap=0.03125, alpha_opt=False, alpha_closed_form_approx=True, alpha_learning_rate=0.1, alpha_clf_coef=1.0, alpha_l2_coef=0.01, alpha_learning_iters=5, alpha_learn_batch_size=1000000)\n",
      "args.pixano_root  /home/melissap/Desktop/LAGO_43integrationDemo/pixano\n",
      "Loading data ...\n",
      "number of labeled pool: 12000\n",
      "number of unlabeled pool: 43000\n",
      "number of validation pool: 0\n",
      "number of testing pool: 10998\n",
      "Data loaded ...\n",
      "Using cuda device.\n"
     ]
    },
    {
     "name": "stderr",
     "output_type": "stream",
     "text": [
      "/home/melissap/miniconda3/envs/customLearner/lib/python3.10/site-packages/torchvision/models/_utils.py:208: UserWarning: The parameter 'pretrained' is deprecated since 0.13 and may be removed in the future, please use 'weights' instead.\n",
      "  warnings.warn(\n",
      "/home/melissap/miniconda3/envs/customLearner/lib/python3.10/site-packages/torchvision/models/_utils.py:223: UserWarning: Arguments other than a weight enum or `None` for 'weights' are deprecated since 0.13 and may be removed in the future. The current behavior is equivalent to passing `weights=None`.\n",
      "  warnings.warn(msg)\n"
     ]
    },
    {
     "name": "stdout",
     "output_type": "stream",
     "text": [
      "CIFAR11_guns_pixano_v2\n",
      "SEED 1\n",
      "CoreSet\n",
      "Adam optimizer...\n",
      "Loading weights resnet18_CIFAR11_guns_pixano_v2_CoreSet_4_weights.pth\n",
      " Print the weights of the model to ensure that weights are loaded \n",
      "Training started...\n"
     ]
    },
    {
     "name": "stderr",
     "output_type": "stream",
     "text": [
      " 21%|██        | 21/100 [03:45<14:01, 10.65s/it]"
     ]
    },
    {
     "name": "stdout",
     "output_type": "stream",
     "text": [
      "Reached max accuracy at epoch 21 \n"
     ]
    },
    {
     "name": "stderr",
     "output_type": "stream",
     "text": [
      " 21%|██        | 21/100 [03:56<14:48, 11.25s/it]\n"
     ]
    },
    {
     "name": "stdout",
     "output_type": "stream",
     "text": [
      "Round 0\n",
      "testing accuracy 0.5931987634115293\n",
      "\n",
      "\n",
      "######################################################### AL ROUND 5 mode train : END ##########################################################\n",
      "\n",
      "\n",
      "csvQue /home/melissap/Desktop/LAGO_43integrationDemo/pixano/temp_data/output_queries/queries_6.csv\n",
      "\n",
      "\n",
      "######################################################## AL ROUND 6 mode query : START #########################################################\n",
      "\n",
      "\n",
      "Namespace(mode='query', data_name='CIFAR11_guns_pixano_v2', n_label='None', n_init_lb=2000, n_query=2000, data_dir='/home/melissap/_pixano_datasets_/CIFAR11_guns_pixano_v2', pixano_root='/home/melissap/Desktop/LAGO_43integrationDemo/pixano', strategy='CoreSet', round=6, train_out=None, query_out='/home/melissap/Desktop/LAGO_43integrationDemo/pixano/temp_data/output_queries/queries_6.csv', seeds=[1, 10, 100, 1000, 10000], init_lb_method='general_random', log_dir='/home/melissap/Desktop/LAGO_43integrationDemo/pixano/ActiveLearning/alpha_mix_active_learning/_logs', save_checkpoints=False, save_images=False, print_to_file=False, query_growth_ratio=1, n_drop=5, eps=0.05, max_iter=50, alpha_cap=0.03125, alpha_opt=False, alpha_closed_form_approx=True, alpha_learning_rate=0.1, alpha_clf_coef=1.0, alpha_l2_coef=0.01, alpha_learning_iters=5, alpha_learn_batch_size=1000000)\n",
      "args.pixano_root  /home/melissap/Desktop/LAGO_43integrationDemo/pixano\n",
      "Loading data ...\n",
      "number of labeled pool: 12000\n",
      "number of unlabeled pool: 43000\n",
      "number of validation pool: 0\n",
      "number of testing pool: 10998\n",
      "Data loaded ...\n",
      "Using cuda device.\n"
     ]
    },
    {
     "name": "stderr",
     "output_type": "stream",
     "text": [
      "/home/melissap/miniconda3/envs/customLearner/lib/python3.10/site-packages/torchvision/models/_utils.py:208: UserWarning: The parameter 'pretrained' is deprecated since 0.13 and may be removed in the future, please use 'weights' instead.\n",
      "  warnings.warn(\n",
      "/home/melissap/miniconda3/envs/customLearner/lib/python3.10/site-packages/torchvision/models/_utils.py:223: UserWarning: Arguments other than a weight enum or `None` for 'weights' are deprecated since 0.13 and may be removed in the future. The current behavior is equivalent to passing `weights=None`.\n",
      "  warnings.warn(msg)\n"
     ]
    },
    {
     "name": "stdout",
     "output_type": "stream",
     "text": [
      "Loading weights resnet18_CIFAR11_guns_pixano_v2_CoreSet_5_weights.pth\n",
      "CIFAR11_guns_pixano_v2\n",
      "SEED 1\n",
      "CoreSet\n",
      "Round 6\n",
      "query budget: 2000\n",
      "\n",
      "\n",
      "######################################################### AL ROUND 6 mode query : END ##########################################################\n",
      "\n",
      "\n",
      "Round 6 tagged\n",
      "2000 candidates on round 6\n",
      "AutoAnnotator: round 6 annotated.\n",
      "\n",
      "\n",
      "######################################################## AL ROUND 6 mode train : START #########################################################\n",
      "\n",
      "\n",
      "Namespace(mode='train', data_name='CIFAR11_guns_pixano_v2', n_label='None', n_init_lb=10, n_query=100, data_dir='/home/melissap/_pixano_datasets_/CIFAR11_guns_pixano_v2', pixano_root='/home/melissap/Desktop/LAGO_43integrationDemo/pixano', strategy='CoreSet', round=6, train_out='/home/melissap/Desktop/LAGO_43integrationDemo/pixano/temp_data/output_accuracy/accuracy.csv', query_out='path to the file', seeds=[1, 10, 100, 1000, 10000], init_lb_method='general_random', log_dir='/home/melissap/Desktop/LAGO_43integrationDemo/pixano/ActiveLearning/alpha_mix_active_learning/_logs', save_checkpoints=False, save_images=False, print_to_file=False, query_growth_ratio=1, n_drop=5, eps=0.05, max_iter=50, alpha_cap=0.03125, alpha_opt=False, alpha_closed_form_approx=True, alpha_learning_rate=0.1, alpha_clf_coef=1.0, alpha_l2_coef=0.01, alpha_learning_iters=5, alpha_learn_batch_size=1000000)\n",
      "args.pixano_root  /home/melissap/Desktop/LAGO_43integrationDemo/pixano\n",
      "Loading data ...\n",
      "number of labeled pool: 14000\n",
      "number of unlabeled pool: 41000\n",
      "number of validation pool: 0\n",
      "number of testing pool: 10998\n",
      "Data loaded ...\n",
      "Using cuda device.\n"
     ]
    },
    {
     "name": "stderr",
     "output_type": "stream",
     "text": [
      "/home/melissap/miniconda3/envs/customLearner/lib/python3.10/site-packages/torchvision/models/_utils.py:208: UserWarning: The parameter 'pretrained' is deprecated since 0.13 and may be removed in the future, please use 'weights' instead.\n",
      "  warnings.warn(\n",
      "/home/melissap/miniconda3/envs/customLearner/lib/python3.10/site-packages/torchvision/models/_utils.py:223: UserWarning: Arguments other than a weight enum or `None` for 'weights' are deprecated since 0.13 and may be removed in the future. The current behavior is equivalent to passing `weights=None`.\n",
      "  warnings.warn(msg)\n"
     ]
    },
    {
     "name": "stdout",
     "output_type": "stream",
     "text": [
      "CIFAR11_guns_pixano_v2\n",
      "SEED 1\n",
      "CoreSet\n",
      "Adam optimizer...\n",
      "Loading weights resnet18_CIFAR11_guns_pixano_v2_CoreSet_5_weights.pth\n",
      " Print the weights of the model to ensure that weights are loaded \n",
      "Training started...\n"
     ]
    },
    {
     "name": "stderr",
     "output_type": "stream",
     "text": [
      " 11%|█         | 11/100 [02:20<18:58, 12.79s/it]"
     ]
    },
    {
     "name": "stdout",
     "output_type": "stream",
     "text": [
      "Reached max accuracy at epoch 11 \n"
     ]
    },
    {
     "name": "stderr",
     "output_type": "stream",
     "text": [
      " 11%|█         | 11/100 [02:33<20:44, 13.98s/it]\n"
     ]
    },
    {
     "name": "stdout",
     "output_type": "stream",
     "text": [
      "Round 0\n",
      "testing accuracy 0.6143844335333697\n",
      "\n",
      "\n",
      "######################################################### AL ROUND 6 mode train : END ##########################################################\n",
      "\n",
      "\n",
      "csvQue /home/melissap/Desktop/LAGO_43integrationDemo/pixano/temp_data/output_queries/queries_7.csv\n",
      "\n",
      "\n",
      "######################################################## AL ROUND 7 mode query : START #########################################################\n",
      "\n",
      "\n",
      "Namespace(mode='query', data_name='CIFAR11_guns_pixano_v2', n_label='None', n_init_lb=2000, n_query=2000, data_dir='/home/melissap/_pixano_datasets_/CIFAR11_guns_pixano_v2', pixano_root='/home/melissap/Desktop/LAGO_43integrationDemo/pixano', strategy='CoreSet', round=7, train_out=None, query_out='/home/melissap/Desktop/LAGO_43integrationDemo/pixano/temp_data/output_queries/queries_7.csv', seeds=[1, 10, 100, 1000, 10000], init_lb_method='general_random', log_dir='/home/melissap/Desktop/LAGO_43integrationDemo/pixano/ActiveLearning/alpha_mix_active_learning/_logs', save_checkpoints=False, save_images=False, print_to_file=False, query_growth_ratio=1, n_drop=5, eps=0.05, max_iter=50, alpha_cap=0.03125, alpha_opt=False, alpha_closed_form_approx=True, alpha_learning_rate=0.1, alpha_clf_coef=1.0, alpha_l2_coef=0.01, alpha_learning_iters=5, alpha_learn_batch_size=1000000)\n",
      "args.pixano_root  /home/melissap/Desktop/LAGO_43integrationDemo/pixano\n",
      "Loading data ...\n",
      "number of labeled pool: 14000\n",
      "number of unlabeled pool: 41000\n",
      "number of validation pool: 0\n",
      "number of testing pool: 10998\n",
      "Data loaded ...\n",
      "Using cuda device.\n"
     ]
    },
    {
     "name": "stderr",
     "output_type": "stream",
     "text": [
      "/home/melissap/miniconda3/envs/customLearner/lib/python3.10/site-packages/torchvision/models/_utils.py:208: UserWarning: The parameter 'pretrained' is deprecated since 0.13 and may be removed in the future, please use 'weights' instead.\n",
      "  warnings.warn(\n",
      "/home/melissap/miniconda3/envs/customLearner/lib/python3.10/site-packages/torchvision/models/_utils.py:223: UserWarning: Arguments other than a weight enum or `None` for 'weights' are deprecated since 0.13 and may be removed in the future. The current behavior is equivalent to passing `weights=None`.\n",
      "  warnings.warn(msg)\n"
     ]
    },
    {
     "name": "stdout",
     "output_type": "stream",
     "text": [
      "Loading weights resnet18_CIFAR11_guns_pixano_v2_CoreSet_6_weights.pth\n",
      "CIFAR11_guns_pixano_v2\n",
      "SEED 1\n",
      "CoreSet\n",
      "Round 7\n",
      "query budget: 2000\n",
      "\n",
      "\n",
      "######################################################### AL ROUND 7 mode query : END ##########################################################\n",
      "\n",
      "\n",
      "Round 7 tagged\n",
      "2000 candidates on round 7\n",
      "AutoAnnotator: round 7 annotated.\n",
      "\n",
      "\n",
      "######################################################## AL ROUND 7 mode train : START #########################################################\n",
      "\n",
      "\n",
      "Namespace(mode='train', data_name='CIFAR11_guns_pixano_v2', n_label='None', n_init_lb=10, n_query=100, data_dir='/home/melissap/_pixano_datasets_/CIFAR11_guns_pixano_v2', pixano_root='/home/melissap/Desktop/LAGO_43integrationDemo/pixano', strategy='CoreSet', round=7, train_out='/home/melissap/Desktop/LAGO_43integrationDemo/pixano/temp_data/output_accuracy/accuracy.csv', query_out='path to the file', seeds=[1, 10, 100, 1000, 10000], init_lb_method='general_random', log_dir='/home/melissap/Desktop/LAGO_43integrationDemo/pixano/ActiveLearning/alpha_mix_active_learning/_logs', save_checkpoints=False, save_images=False, print_to_file=False, query_growth_ratio=1, n_drop=5, eps=0.05, max_iter=50, alpha_cap=0.03125, alpha_opt=False, alpha_closed_form_approx=True, alpha_learning_rate=0.1, alpha_clf_coef=1.0, alpha_l2_coef=0.01, alpha_learning_iters=5, alpha_learn_batch_size=1000000)\n",
      "args.pixano_root  /home/melissap/Desktop/LAGO_43integrationDemo/pixano\n",
      "Loading data ...\n",
      "number of labeled pool: 16000\n",
      "number of unlabeled pool: 39000\n",
      "number of validation pool: 0\n",
      "number of testing pool: 10998\n",
      "Data loaded ...\n",
      "Using cuda device.\n"
     ]
    },
    {
     "name": "stderr",
     "output_type": "stream",
     "text": [
      "/home/melissap/miniconda3/envs/customLearner/lib/python3.10/site-packages/torchvision/models/_utils.py:208: UserWarning: The parameter 'pretrained' is deprecated since 0.13 and may be removed in the future, please use 'weights' instead.\n",
      "  warnings.warn(\n",
      "/home/melissap/miniconda3/envs/customLearner/lib/python3.10/site-packages/torchvision/models/_utils.py:223: UserWarning: Arguments other than a weight enum or `None` for 'weights' are deprecated since 0.13 and may be removed in the future. The current behavior is equivalent to passing `weights=None`.\n",
      "  warnings.warn(msg)\n"
     ]
    },
    {
     "name": "stdout",
     "output_type": "stream",
     "text": [
      "CIFAR11_guns_pixano_v2\n",
      "SEED 1\n",
      "CoreSet\n",
      "Adam optimizer...\n",
      "Loading weights resnet18_CIFAR11_guns_pixano_v2_CoreSet_6_weights.pth\n",
      " Print the weights of the model to ensure that weights are loaded \n",
      "Training started...\n"
     ]
    },
    {
     "name": "stderr",
     "output_type": "stream",
     "text": [
      " 16%|█▌        | 16/100 [03:52<20:22, 14.56s/it]"
     ]
    },
    {
     "name": "stdout",
     "output_type": "stream",
     "text": [
      "Reached max accuracy at epoch 16 \n"
     ]
    },
    {
     "name": "stderr",
     "output_type": "stream",
     "text": [
      " 16%|█▌        | 16/100 [04:06<21:35, 15.42s/it]\n"
     ]
    },
    {
     "name": "stdout",
     "output_type": "stream",
     "text": [
      "Round 0\n",
      "testing accuracy 0.6303873431533006\n",
      "\n",
      "\n",
      "######################################################### AL ROUND 7 mode train : END ##########################################################\n",
      "\n",
      "\n",
      "csvQue /home/melissap/Desktop/LAGO_43integrationDemo/pixano/temp_data/output_queries/queries_8.csv\n",
      "\n",
      "\n",
      "######################################################## AL ROUND 8 mode query : START #########################################################\n",
      "\n",
      "\n",
      "Namespace(mode='query', data_name='CIFAR11_guns_pixano_v2', n_label='None', n_init_lb=2000, n_query=2000, data_dir='/home/melissap/_pixano_datasets_/CIFAR11_guns_pixano_v2', pixano_root='/home/melissap/Desktop/LAGO_43integrationDemo/pixano', strategy='CoreSet', round=8, train_out=None, query_out='/home/melissap/Desktop/LAGO_43integrationDemo/pixano/temp_data/output_queries/queries_8.csv', seeds=[1, 10, 100, 1000, 10000], init_lb_method='general_random', log_dir='/home/melissap/Desktop/LAGO_43integrationDemo/pixano/ActiveLearning/alpha_mix_active_learning/_logs', save_checkpoints=False, save_images=False, print_to_file=False, query_growth_ratio=1, n_drop=5, eps=0.05, max_iter=50, alpha_cap=0.03125, alpha_opt=False, alpha_closed_form_approx=True, alpha_learning_rate=0.1, alpha_clf_coef=1.0, alpha_l2_coef=0.01, alpha_learning_iters=5, alpha_learn_batch_size=1000000)\n",
      "args.pixano_root  /home/melissap/Desktop/LAGO_43integrationDemo/pixano\n",
      "Loading data ...\n",
      "number of labeled pool: 16000\n",
      "number of unlabeled pool: 39000\n",
      "number of validation pool: 0\n",
      "number of testing pool: 10998\n",
      "Data loaded ...\n",
      "Using cuda device.\n"
     ]
    },
    {
     "name": "stderr",
     "output_type": "stream",
     "text": [
      "/home/melissap/miniconda3/envs/customLearner/lib/python3.10/site-packages/torchvision/models/_utils.py:208: UserWarning: The parameter 'pretrained' is deprecated since 0.13 and may be removed in the future, please use 'weights' instead.\n",
      "  warnings.warn(\n",
      "/home/melissap/miniconda3/envs/customLearner/lib/python3.10/site-packages/torchvision/models/_utils.py:223: UserWarning: Arguments other than a weight enum or `None` for 'weights' are deprecated since 0.13 and may be removed in the future. The current behavior is equivalent to passing `weights=None`.\n",
      "  warnings.warn(msg)\n"
     ]
    },
    {
     "name": "stdout",
     "output_type": "stream",
     "text": [
      "Loading weights resnet18_CIFAR11_guns_pixano_v2_CoreSet_7_weights.pth\n",
      "CIFAR11_guns_pixano_v2\n",
      "SEED 1\n",
      "CoreSet\n",
      "Round 8\n",
      "query budget: 2000\n",
      "\n",
      "\n",
      "######################################################### AL ROUND 8 mode query : END ##########################################################\n",
      "\n",
      "\n",
      "Round 8 tagged\n",
      "2000 candidates on round 8\n",
      "AutoAnnotator: round 8 annotated.\n",
      "\n",
      "\n",
      "######################################################## AL ROUND 8 mode train : START #########################################################\n",
      "\n",
      "\n",
      "Namespace(mode='train', data_name='CIFAR11_guns_pixano_v2', n_label='None', n_init_lb=10, n_query=100, data_dir='/home/melissap/_pixano_datasets_/CIFAR11_guns_pixano_v2', pixano_root='/home/melissap/Desktop/LAGO_43integrationDemo/pixano', strategy='CoreSet', round=8, train_out='/home/melissap/Desktop/LAGO_43integrationDemo/pixano/temp_data/output_accuracy/accuracy.csv', query_out='path to the file', seeds=[1, 10, 100, 1000, 10000], init_lb_method='general_random', log_dir='/home/melissap/Desktop/LAGO_43integrationDemo/pixano/ActiveLearning/alpha_mix_active_learning/_logs', save_checkpoints=False, save_images=False, print_to_file=False, query_growth_ratio=1, n_drop=5, eps=0.05, max_iter=50, alpha_cap=0.03125, alpha_opt=False, alpha_closed_form_approx=True, alpha_learning_rate=0.1, alpha_clf_coef=1.0, alpha_l2_coef=0.01, alpha_learning_iters=5, alpha_learn_batch_size=1000000)\n",
      "args.pixano_root  /home/melissap/Desktop/LAGO_43integrationDemo/pixano\n",
      "Loading data ...\n",
      "number of labeled pool: 18000\n",
      "number of unlabeled pool: 37000\n",
      "number of validation pool: 0\n",
      "number of testing pool: 10998\n",
      "Data loaded ...\n",
      "Using cuda device.\n"
     ]
    },
    {
     "name": "stderr",
     "output_type": "stream",
     "text": [
      "/home/melissap/miniconda3/envs/customLearner/lib/python3.10/site-packages/torchvision/models/_utils.py:208: UserWarning: The parameter 'pretrained' is deprecated since 0.13 and may be removed in the future, please use 'weights' instead.\n",
      "  warnings.warn(\n",
      "/home/melissap/miniconda3/envs/customLearner/lib/python3.10/site-packages/torchvision/models/_utils.py:223: UserWarning: Arguments other than a weight enum or `None` for 'weights' are deprecated since 0.13 and may be removed in the future. The current behavior is equivalent to passing `weights=None`.\n",
      "  warnings.warn(msg)\n"
     ]
    },
    {
     "name": "stdout",
     "output_type": "stream",
     "text": [
      "CIFAR11_guns_pixano_v2\n",
      "SEED 1\n",
      "CoreSet\n",
      "Adam optimizer...\n",
      "Loading weights resnet18_CIFAR11_guns_pixano_v2_CoreSet_7_weights.pth\n",
      " Print the weights of the model to ensure that weights are loaded \n",
      "Training started...\n"
     ]
    },
    {
     "name": "stderr",
     "output_type": "stream",
     "text": [
      "  8%|▊         | 8/100 [02:09<24:52, 16.22s/it]"
     ]
    },
    {
     "name": "stdout",
     "output_type": "stream",
     "text": [
      "Reached max accuracy at epoch 8 \n"
     ]
    },
    {
     "name": "stderr",
     "output_type": "stream",
     "text": [
      "  8%|▊         | 8/100 [02:25<27:57, 18.23s/it]\n"
     ]
    },
    {
     "name": "stdout",
     "output_type": "stream",
     "text": [
      "Round 0\n",
      "testing accuracy 0.6308419712675032\n",
      "\n",
      "\n",
      "######################################################### AL ROUND 8 mode train : END ##########################################################\n",
      "\n",
      "\n",
      "csvQue /home/melissap/Desktop/LAGO_43integrationDemo/pixano/temp_data/output_queries/queries_9.csv\n",
      "\n",
      "\n",
      "######################################################## AL ROUND 9 mode query : START #########################################################\n",
      "\n",
      "\n",
      "Namespace(mode='query', data_name='CIFAR11_guns_pixano_v2', n_label='None', n_init_lb=2000, n_query=2000, data_dir='/home/melissap/_pixano_datasets_/CIFAR11_guns_pixano_v2', pixano_root='/home/melissap/Desktop/LAGO_43integrationDemo/pixano', strategy='CoreSet', round=9, train_out=None, query_out='/home/melissap/Desktop/LAGO_43integrationDemo/pixano/temp_data/output_queries/queries_9.csv', seeds=[1, 10, 100, 1000, 10000], init_lb_method='general_random', log_dir='/home/melissap/Desktop/LAGO_43integrationDemo/pixano/ActiveLearning/alpha_mix_active_learning/_logs', save_checkpoints=False, save_images=False, print_to_file=False, query_growth_ratio=1, n_drop=5, eps=0.05, max_iter=50, alpha_cap=0.03125, alpha_opt=False, alpha_closed_form_approx=True, alpha_learning_rate=0.1, alpha_clf_coef=1.0, alpha_l2_coef=0.01, alpha_learning_iters=5, alpha_learn_batch_size=1000000)\n",
      "args.pixano_root  /home/melissap/Desktop/LAGO_43integrationDemo/pixano\n",
      "Loading data ...\n",
      "number of labeled pool: 18000\n",
      "number of unlabeled pool: 37000\n",
      "number of validation pool: 0\n",
      "number of testing pool: 10998\n",
      "Data loaded ...\n",
      "Using cuda device.\n"
     ]
    },
    {
     "name": "stderr",
     "output_type": "stream",
     "text": [
      "/home/melissap/miniconda3/envs/customLearner/lib/python3.10/site-packages/torchvision/models/_utils.py:208: UserWarning: The parameter 'pretrained' is deprecated since 0.13 and may be removed in the future, please use 'weights' instead.\n",
      "  warnings.warn(\n",
      "/home/melissap/miniconda3/envs/customLearner/lib/python3.10/site-packages/torchvision/models/_utils.py:223: UserWarning: Arguments other than a weight enum or `None` for 'weights' are deprecated since 0.13 and may be removed in the future. The current behavior is equivalent to passing `weights=None`.\n",
      "  warnings.warn(msg)\n"
     ]
    },
    {
     "name": "stdout",
     "output_type": "stream",
     "text": [
      "Loading weights resnet18_CIFAR11_guns_pixano_v2_CoreSet_8_weights.pth\n",
      "CIFAR11_guns_pixano_v2\n",
      "SEED 1\n",
      "CoreSet\n",
      "Round 9\n",
      "query budget: 2000\n",
      "\n",
      "\n",
      "######################################################### AL ROUND 9 mode query : END ##########################################################\n",
      "\n",
      "\n",
      "Round 9 tagged\n",
      "2000 candidates on round 9\n",
      "AutoAnnotator: round 9 annotated.\n",
      "\n",
      "\n",
      "######################################################## AL ROUND 9 mode train : START #########################################################\n",
      "\n",
      "\n",
      "Namespace(mode='train', data_name='CIFAR11_guns_pixano_v2', n_label='None', n_init_lb=10, n_query=100, data_dir='/home/melissap/_pixano_datasets_/CIFAR11_guns_pixano_v2', pixano_root='/home/melissap/Desktop/LAGO_43integrationDemo/pixano', strategy='CoreSet', round=9, train_out='/home/melissap/Desktop/LAGO_43integrationDemo/pixano/temp_data/output_accuracy/accuracy.csv', query_out='path to the file', seeds=[1, 10, 100, 1000, 10000], init_lb_method='general_random', log_dir='/home/melissap/Desktop/LAGO_43integrationDemo/pixano/ActiveLearning/alpha_mix_active_learning/_logs', save_checkpoints=False, save_images=False, print_to_file=False, query_growth_ratio=1, n_drop=5, eps=0.05, max_iter=50, alpha_cap=0.03125, alpha_opt=False, alpha_closed_form_approx=True, alpha_learning_rate=0.1, alpha_clf_coef=1.0, alpha_l2_coef=0.01, alpha_learning_iters=5, alpha_learn_batch_size=1000000)\n",
      "args.pixano_root  /home/melissap/Desktop/LAGO_43integrationDemo/pixano\n",
      "Loading data ...\n",
      "number of labeled pool: 20000\n",
      "number of unlabeled pool: 35000\n",
      "number of validation pool: 0\n",
      "number of testing pool: 10998\n",
      "Data loaded ...\n",
      "Using cuda device.\n"
     ]
    },
    {
     "name": "stderr",
     "output_type": "stream",
     "text": [
      "/home/melissap/miniconda3/envs/customLearner/lib/python3.10/site-packages/torchvision/models/_utils.py:208: UserWarning: The parameter 'pretrained' is deprecated since 0.13 and may be removed in the future, please use 'weights' instead.\n",
      "  warnings.warn(\n",
      "/home/melissap/miniconda3/envs/customLearner/lib/python3.10/site-packages/torchvision/models/_utils.py:223: UserWarning: Arguments other than a weight enum or `None` for 'weights' are deprecated since 0.13 and may be removed in the future. The current behavior is equivalent to passing `weights=None`.\n",
      "  warnings.warn(msg)\n"
     ]
    },
    {
     "name": "stdout",
     "output_type": "stream",
     "text": [
      "CIFAR11_guns_pixano_v2\n",
      "SEED 1\n",
      "CoreSet\n",
      "Adam optimizer...\n",
      "Loading weights resnet18_CIFAR11_guns_pixano_v2_CoreSet_8_weights.pth\n",
      " Print the weights of the model to ensure that weights are loaded \n",
      "Training started...\n"
     ]
    },
    {
     "name": "stderr",
     "output_type": "stream",
     "text": [
      "  2%|▏         | 2/100 [00:34<28:29, 17.45s/it]"
     ]
    },
    {
     "name": "stdout",
     "output_type": "stream",
     "text": [
      "Reached max accuracy at epoch 2 \n"
     ]
    },
    {
     "name": "stderr",
     "output_type": "stream",
     "text": [
      "  2%|▏         | 2/100 [00:52<42:31, 26.04s/it]\n"
     ]
    },
    {
     "name": "stdout",
     "output_type": "stream",
     "text": [
      "Round 0\n",
      "testing accuracy 0.6420258228768867\n",
      "\n",
      "\n",
      "######################################################### AL ROUND 9 mode train : END ##########################################################\n",
      "\n",
      "\n"
     ]
    }
   ],
   "source": [
    "for round in range(num_rounds):\n",
    "    candidates = init_learner.query(round)\n",
    "    init_learner.annotate(round)\n",
    "    init_learner.train(round, epochs=\"nevermind\")"
   ]
  }
 ],
 "metadata": {
  "kernelspec": {
   "display_name": "Python 3.10.12 64-bit",
   "language": "python",
   "name": "python3"
  },
  "language_info": {
   "codemirror_mode": {
    "name": "ipython",
    "version": 3
   },
   "file_extension": ".py",
   "mimetype": "text/x-python",
   "name": "python",
   "nbconvert_exporter": "python",
   "pygments_lexer": "ipython3",
   "version": "3.10.12"
  },
  "orig_nbformat": 4,
  "vscode": {
   "interpreter": {
    "hash": "916dbcbb3f70747c44a77c7bcd40155683ae19c65e1c03b4aa3499c5328201f1"
   }
  }
 },
 "nbformat": 4,
 "nbformat_minor": 2
}
