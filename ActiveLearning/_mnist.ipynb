{
 "cells": [
  {
   "cell_type": "markdown",
   "metadata": {},
   "source": [
    "# Active Learning with Pixano - MNIST Dataset"
   ]
  },
  {
   "cell_type": "markdown",
   "metadata": {},
   "source": [
    "***!NOTE : Before running this notebook, set the value for the following variables***"
   ]
  },
  {
   "cell_type": "markdown",
   "metadata": {},
   "source": [
    "### Configuration variables"
   ]
  },
  {
   "cell_type": "code",
   "execution_count": 2,
   "metadata": {},
   "outputs": [],
   "source": [
    "# The root dir name of the current repo (i.e. pixano or pixano-main etc.)\n",
    "ROOTDIR='pixano'\n",
    "# name of the dataset\n",
    "DATASET_NAME=\"MNIST_pixano_v2\"\n",
    "# directory where the raw mnist dataset will be saved to be transformed latter (images), and also to be used by the active learning auto-annotator (labels)\n",
    "datasets_dir=\"/home/melissap/Desktop/LAGO/3.githubs/integration/datasets/MNIST\"\n",
    "# the pixano datasets dir. It is the directory in which the transformed mnist dataset will be saved to be used by Pixano\n",
    "library_dir=\"/home/melissap/_pixano_datasets_\"\n",
    "# conda env name builded for running the active learning module as a separate program\n",
    "customLearnerCondaEnv=\"customLearner\"\n",
    "# ActiveLearning module's directory\n",
    "ALModule=\"ActiveLearning\""
   ]
  },
  {
   "cell_type": "markdown",
   "metadata": {},
   "source": [
    "### internal experimental variables (that could be defined by the user)"
   ]
  },
  {
   "cell_type": "code",
   "execution_count": 3,
   "metadata": {},
   "outputs": [],
   "source": [
    "device=\"GPU\" #\"GPU\"\n",
    "labels_per_round=100\n",
    "numInitLabels = labels_per_round\n",
    "learning_rate=0.001\n",
    "max_epochs_per_round=100\n",
    "model_name=\"mlp\" \n",
    "strategy=\"AlphaMixSampling\" #i.e. other alternatives may be : EntropySampling #RandomSampling\n",
    "alpha_opt=True"
   ]
  },
  {
   "cell_type": "markdown",
   "metadata": {},
   "source": [
    "### External experimental variables"
   ]
  },
  {
   "cell_type": "code",
   "execution_count": 4,
   "metadata": {},
   "outputs": [],
   "source": [
    "num_rounds = 10"
   ]
  },
  {
   "cell_type": "markdown",
   "metadata": {},
   "source": [
    "***... the rest of the notebook should run without any code adjustments/modifications.***"
   ]
  },
  {
   "cell_type": "markdown",
   "metadata": {},
   "source": [
    "# 1.Create the dataset"
   ]
  },
  {
   "cell_type": "code",
   "execution_count": null,
   "metadata": {},
   "outputs": [],
   "source": [
    "\"\"\"\n",
    "In this section we will convert the MNIST dataset into Pixano Format\n",
    "!Note: For running, activate the pixano env\n",
    "\"\"\""
   ]
  },
  {
   "cell_type": "code",
   "execution_count": 5,
   "metadata": {},
   "outputs": [
    {
     "name": "stdout",
     "output_type": "stream",
     "text": [
      "Inserting parent dir :  /home/melissap/Desktop/LAGO_43integrationDemo/pixano\n"
     ]
    }
   ],
   "source": [
    "# func for importing ROOT dir to import pixano root module , which is the pixano directory\n",
    "import os\n",
    "import sys\n",
    "\n",
    "def insertRootDir(ROOTDIR='pixano'):\n",
    "    pardir=os.path.dirname(os.path.realpath('__file__'))\n",
    "\n",
    "    found = False\n",
    "    potential_root_dir = os.path.basename(os.path.dirname(os.path.dirname(os.path.dirname(os.path.dirname(os.path.realpath('__file__'))))))\n",
    "\n",
    "    while(os.path.basename(pardir)!=ROOTDIR):\n",
    "\n",
    "        # print(pardir)\n",
    "        pardir=os.path.dirname(pardir)\n",
    "        \n",
    "\n",
    "        if (os.path.basename(pardir) == ROOTDIR):\n",
    "            found = True\n",
    "            break\n",
    "        if (pardir == \"/\" ):\n",
    "            break\n",
    "    \n",
    "    if found:\n",
    "        print(\"Inserting parent dir : \",pardir)\n",
    "        sys.path.insert(0,pardir)\n",
    "        return pardir\n",
    "    else:\n",
    "        print(f\"ROOTDIR NOT FOUND. You may have to change ROOTDIR variable from : '{ROOTDIR}' to '{potential_root_dir}'\")\n",
    "        return \"_NOT_FOUND_\"\n",
    "\n",
    "ROOTDIR = insertRootDir(ROOTDIR)"
   ]
  },
  {
   "cell_type": "code",
   "execution_count": 6,
   "metadata": {},
   "outputs": [
    {
     "name": "stdout",
     "output_type": "stream",
     "text": [
      "ALModuleDir /home/melissap/Desktop/LAGO_43integrationDemo/pixano/ActiveLearning\n",
      "/home/melissap/miniconda3/envs/pixano_env/lib/python3.10/site-packages/pixano/apps/explorer/dist/assets\n"
     ]
    }
   ],
   "source": [
    "ALModuleDir = os.path.join(ROOTDIR,ALModule)\n",
    "\n",
    "from pathlib import Path\n",
    "import shutil\n",
    "import random\n",
    "import numpy as np\n",
    "import pandas as pd\n",
    "from PIL import Image\n",
    "from torchvision import datasets\n",
    "import lancedb\n",
    "import pyarrow as pa\n",
    "from ActiveLearning.ALearner import (\n",
    "    Learner,\n",
    "    BaseAnnotator,\n",
    "    BaseSampler,\n",
    "    BaseTrainer,\n",
    "    getLabels,\n",
    "    getLabelledIds,\n",
    "    getUnlabelledIds,\n",
    "    getTaggedIds,\n",
    "    getLastRound,\n",
    "    ddb_str,\n",
    "    custom_update,\n",
    "    importTestLabels\n",
    ")\n",
    "from pixano.apps import Explorer\n",
    "from pixano.data import ImageImporter\n",
    "from pixano.utils import natural_key\n",
    "from ActiveLearning.customTrainer import customTrainer\n",
    "from ActiveLearning.customSampler import customSampler"
   ]
  },
  {
   "cell_type": "markdown",
   "metadata": {},
   "source": [
    "#### method for downloading the dataset"
   ]
  },
  {
   "cell_type": "code",
   "execution_count": 7,
   "metadata": {},
   "outputs": [],
   "source": [
    "def get_MNIST(data_dir):\n",
    "    \"\"\"\n",
    "    function for downloading and storing the dataset to the data_dir\n",
    "    \"\"\"\n",
    "    framecounter = 0 \n",
    "    # downloads mnist and convert it to an image dataset\n",
    "\n",
    "    image_dir = os.path.join(data_dir,\"images\")\n",
    "    annotation_dir = os.path.join(data_dir,\"annotations\")\n",
    "    train_imdir = os.path.join(image_dir,\"train\")\n",
    "    val_imdir = os.path.join(image_dir,\"val\")\n",
    "    test_imdir = os.path.join(image_dir,\"test\")\n",
    "\n",
    "    raw_downloaDir = os.path.join(data_dir,\"raw_dataset\")\n",
    "\n",
    "    train_anfile = os.path.join(annotation_dir,\"train.csv\")\n",
    "    val_anfile = os.path.join(annotation_dir,\"val.csv\") # not used\n",
    "    test_anfile = os.path.join(annotation_dir,\"test.csv\")\n",
    "    \n",
    "    if os.path.isdir(image_dir) and os.path.isdir(annotation_dir):\n",
    "       pass\n",
    "    else: \n",
    "        try:\n",
    "            os.makedirs(image_dir)\n",
    "            os.makedirs(annotation_dir)\n",
    "            os.makedirs(train_imdir)\n",
    "            os.makedirs(val_imdir)\n",
    "            os.makedirs(test_imdir)\n",
    "        except:\n",
    "            pass\n",
    "\n",
    "        raw_tr = datasets.MNIST(raw_downloaDir, train=True, download=True)\n",
    "        raw_te = datasets.MNIST(raw_downloaDir, train=False, download=True)\n",
    "        X_tr = raw_tr.data\n",
    "        Y_tr = raw_tr.targets\n",
    "        X_te = raw_te.data\n",
    "        Y_te = raw_te.targets\n",
    "\n",
    "        for i in range(len(X_tr)):\n",
    "            x=X_tr[i].numpy()\n",
    "            im = Image.fromarray(x)\n",
    "            savepath = os.path.join(train_imdir,str(framecounter)+\".jpeg\")\n",
    "            im.save(savepath)\n",
    "            framecounter+=1\n",
    "\n",
    "        for i in range(len(X_te)):\n",
    "            x=X_te[i].numpy()\n",
    "            im = Image.fromarray(x)\n",
    "            savepath = os.path.join(test_imdir,str(framecounter)+\".jpeg\")\n",
    "            im.save(savepath)\n",
    "            framecounter+=1\n",
    "\n",
    "        y=pd.DataFrame(Y_tr.numpy())\n",
    "        y.to_csv(train_anfile,index=False)\n",
    "            \n",
    "        y=pd.DataFrame(Y_te.numpy())\n",
    "        y.to_csv(test_anfile,index=False)\n",
    "\n",
    "\n",
    "        # remove raw data\n",
    "        shutil.rmtree(raw_downloaDir)\n",
    "        print(f'Dataset succesfull downoladed within {data_dir}, framecounter = {framecounter}')\n",
    "    \n",
    "get_MNIST(Path(datasets_dir))"
   ]
  },
  {
   "cell_type": "code",
   "execution_count": null,
   "metadata": {},
   "outputs": [],
   "source": [
    "# uncomment for help \n",
    "# help(ImageImporter.import_dataset)"
   ]
  },
  {
   "cell_type": "markdown",
   "metadata": {},
   "source": [
    "#### convert the dataset into pixano format"
   ]
  },
  {
   "cell_type": "code",
   "execution_count": 8,
   "metadata": {},
   "outputs": [],
   "source": [
    "# Dataset information\n",
    "name = \"Mnist dataset\"\n",
    "description = \"http://yann.lecun.com/exdb/mnist/\"\n",
    "splits = [\"train\", \"test\"] # \"val\",\n",
    "\n",
    "# Input information\n",
    "input_dirs = {\n",
    "    \"image\": Path(datasets_dir) / \"images\" #,\n",
    "    # \"objects\": library_dir / \"annotations\",\n",
    "}\n",
    "\n",
    "library_dir=Path(library_dir)\n",
    "import_dir = library_dir / DATASET_NAME #(\"MNIST_pixano\"+\"_\"+str(dt))"
   ]
  },
  {
   "cell_type": "code",
   "execution_count": 10,
   "metadata": {},
   "outputs": [
    {
     "data": {
      "application/vnd.jupyter.widget-view+json": {
       "model_id": "6d64ddb194d04b65a2d167cec5e67935",
       "version_major": 2,
       "version_minor": 0
      },
      "text/plain": [
       "Importing dataset: 0it [00:00, ?it/s]"
      ]
     },
     "metadata": {},
     "output_type": "display_data"
    },
    {
     "data": {
      "application/vnd.jupyter.widget-view+json": {
       "model_id": "52b07d034ac1410680ec409dabd1a56d",
       "version_major": 2,
       "version_minor": 0
      },
      "text/plain": [
       "Copying media directories:   0%|          | 0/1 [00:00<?, ?it/s]"
      ]
     },
     "metadata": {},
     "output_type": "display_data"
    },
    {
     "data": {
      "application/vnd.jupyter.widget-view+json": {
       "model_id": "2ca4d535ceb2425eb153e7a0ef5ab28c",
       "version_major": 2,
       "version_minor": 0
      },
      "text/plain": [
       "Creating dataset info file:   0%|          | 0/1 [00:00<?, ?it/s]"
      ]
     },
     "metadata": {},
     "output_type": "display_data"
    },
    {
     "data": {
      "application/vnd.jupyter.widget-view+json": {
       "model_id": "fec79ee963544e0d82eb88a84f438e06",
       "version_major": 2,
       "version_minor": 0
      },
      "text/plain": [
       "Creating dataset thumbnail:   0%|          | 0/1 [00:00<?, ?it/s]"
      ]
     },
     "metadata": {},
     "output_type": "display_data"
    },
    {
     "data": {
      "text/plain": [
       "<pixano.data.dataset.Dataset at 0x7f39107d19f0>"
      ]
     },
     "execution_count": 10,
     "metadata": {},
     "output_type": "execute_result"
    }
   ],
   "source": [
    "importer = ImageImporter(name, description, splits)\n",
    "importer.import_dataset(input_dirs, import_dir, portable=True)"
   ]
  },
  {
   "cell_type": "markdown",
   "metadata": {},
   "source": [
    "#### !ERROR: Here we found and issue. explorer doesn't return a localhost port for opening Pixano GUI. A fix is required."
   ]
  },
  {
   "cell_type": "code",
   "execution_count": 11,
   "metadata": {},
   "outputs": [],
   "source": [
    "# explorer = Explorer(library_dir)\n",
    "# explorer.display()"
   ]
  },
  {
   "cell_type": "markdown",
   "metadata": {},
   "source": [
    "# 2. Active Learning"
   ]
  },
  {
   "cell_type": "code",
   "execution_count": 12,
   "metadata": {},
   "outputs": [],
   "source": [
    "# utility function to convert id (format \"<index>.png\") to index\n",
    "def id_to_idx(id: str) -> int:\n",
    "    return int(id.split(\".\")[0])\n",
    "    # return int(id[0:-4])  #remove the last 4 chars (\".png\")"
   ]
  },
  {
   "cell_type": "markdown",
   "metadata": {},
   "source": [
    "### Connect to Pixano DB"
   ]
  },
  {
   "cell_type": "code",
   "execution_count": 13,
   "metadata": {},
   "outputs": [],
   "source": [
    "mnist_db = lancedb.connect(import_dir)"
   ]
  },
  {
   "cell_type": "markdown",
   "metadata": {},
   "source": [
    "## Model Trainer Object\n",
    "\n",
    "We will get raw x_train, x_test, y_test data directly from MNIST.\n",
    "\n",
    "2 proposed Model Trainer Objects, with same model: SimpleTrainer and IncrementalTrainer"
   ]
  },
  {
   "cell_type": "code",
   "execution_count": 14,
   "metadata": {},
   "outputs": [],
   "source": [
    "# Overload function for reading the dataset from storage.\n",
    "def get_MNIST(data_dir):\n",
    "\n",
    "    image_dir = os.path.join(data_dir,\"images\")\n",
    "    train_imdir = os.path.join(image_dir,\"train\")\n",
    "    test_imdir = os.path.join(image_dir,\"test\")\n",
    "\n",
    "    annotation_dir = os.path.join(data_dir,\"annotations\")\n",
    "    train_anfile = os.path.join(annotation_dir,\"train.csv\")\n",
    "    test_anfile = os.path.join(annotation_dir,\"test.csv\")\n",
    "\n",
    "    # read sorted file names     \n",
    "    X_train = sorted(os.listdir(train_imdir), key=lambda x: int(x.split('.', 1)[0])) \n",
    "    X_test = sorted(os.listdir(test_imdir), key=lambda x: int(x.split('.', 1)[0]))\n",
    "    \n",
    "    # X_train = np.array([Image.open(os.path.join(train_imdir,x)) for x in X_train])\n",
    "    # X_test = np.array([Image.open(os.path.join(test_imdir,x)) for x in X_test])\n",
    "\n",
    "    # # read labels\n",
    "    Y_train = pd.read_csv(train_anfile).values #.to_numpy(dtype=np.uint8)\n",
    "    Y_test = pd.read_csv(test_anfile).values #.to_numpy(dtype=np.uint8)\n",
    "\n",
    "    Y_train = np.array([y[0] for y in Y_train], dtype=np.uint8)\n",
    "    Y_test = np.array([y[0] for y in Y_test], dtype=np.uint8)\n",
    "\n",
    "    return (X_train,Y_train),(X_test,Y_test)\n",
    "\n",
    "# reminder : datasets_dir is the  local directory sto store the raw dataset\n",
    "(X_train, Y_train), (X_test, Y_test) = get_MNIST(datasets_dir)"
   ]
  },
  {
   "cell_type": "markdown",
   "metadata": {},
   "source": [
    "## Query Sampler Object\n",
    "<!-- RandomSampler or SequentialSampler -->"
   ]
  },
  {
   "cell_type": "markdown",
   "metadata": {},
   "source": [
    "#### Custom Trainer"
   ]
  },
  {
   "cell_type": "markdown",
   "metadata": {},
   "source": [
    "> prepare the directories for data exchange between pixano and annotation tool"
   ]
  },
  {
   "cell_type": "code",
   "execution_count": 15,
   "metadata": {},
   "outputs": [],
   "source": [
    "import shutil\n",
    "\n",
    "# TEMPORARY SOLUTION FOR EXCHANGING DATA BETWEEN PIXANO AND AL\n",
    "def create_dir(path):\n",
    "    try:\n",
    "        if (os.path.basename(path)== \"temp_data\" and os.path.exists(path)):\n",
    "            shutil.rmtree(path) # erase the previous results\n",
    "        os.makedirs(path)\n",
    "    except:\n",
    "        print(f'Dir {path} exists already')\n",
    "    return path\n",
    "\n",
    "# here define the paths of exchanging data between pixano and the customLearner\n",
    "temp_data_exchange_dir = create_dir(os.path.join(ROOTDIR,\"temp_data\"))                # define a directory for exchanging data\n",
    "output_queDir = create_dir(os.path.join(temp_data_exchange_dir,\"output_queries\"))       # [out] query strategy results\n",
    "output_accDir = create_dir(os.path.join(temp_data_exchange_dir,\"output_accuracy\"))      # [out] accuracy results "
   ]
  },
  {
   "cell_type": "markdown",
   "metadata": {},
   "source": [
    "## Labeling Interface Objects\n",
    "\n",
    "Human labeling with Pixano Annotator is built-in, here we specify an Auto Annotator"
   ]
  },
  {
   "cell_type": "code",
   "execution_count": 16,
   "metadata": {},
   "outputs": [],
   "source": [
    "class AutoAnnotator(BaseAnnotator):\n",
    "    # custom annotation function\n",
    "    # as we have ground truth for MNIST, we can autofill\n",
    "    def annotate(self, round):\n",
    "        candidates = getTaggedIds(self.db, round)\n",
    "        db_tbl = mnist_db.open_table(\"db\")\n",
    "        custom_update(db_tbl, f\"id in ({ddb_str(candidates)})\", 'label', [str(Y_train[id_to_idx(candidate)]) for candidate in sorted(candidates, key=natural_key)])\n",
    "        print(f\"AutoAnnotator: round {round} annotated.\")"
   ]
  },
  {
   "cell_type": "markdown",
   "metadata": {},
   "source": [
    "## Orchestrator"
   ]
  },
  {
   "cell_type": "markdown",
   "metadata": {},
   "source": [
    "### Initial Learning"
   ]
  },
  {
   "cell_type": "code",
   "execution_count": 17,
   "metadata": {},
   "outputs": [
    {
     "name": "stdout",
     "output_type": "stream",
     "text": [
      "Argument ALearner does not exist. Value of /home/melissap/Desktop/LAGO_43integrationDemo/pixano/ActiveLearning does not set any of the member values of the customTrainer class\n",
      "Argument ALearner does not exist. Value of /home/melissap/Desktop/LAGO_43integrationDemo/pixano/ActiveLearning does not set any of the member values of the customSampler class\n"
     ]
    }
   ],
   "source": [
    "myTrainer = customTrainer(mnist_db, \n",
    "                            DATASET_NAME = DATASET_NAME,\n",
    "                            output_accDir = output_accDir,\n",
    "                            import_dir = import_dir,\n",
    "                            customLearnerCondaEnv = customLearnerCondaEnv,\n",
    "                            model_name = model_name, \n",
    "                            learning_rate = learning_rate, \n",
    "                            max_epochs_per_round = max_epochs_per_round,\n",
    "                            strategy_name = strategy)\n",
    "\n",
    "mycustomSampler = customSampler(mnist_db,\n",
    "                                DATASET_NAME = DATASET_NAME,\n",
    "                                output_queDir = output_queDir,\n",
    "                                import_dir = import_dir,\n",
    "                                customLearnerCondaEnv = customLearnerCondaEnv,\n",
    "                                model_name = model_name, \n",
    "                                strategy_name = strategy, \n",
    "                                number_init_labels = numInitLabels, \n",
    "                                labels_per_round = labels_per_round,\n",
    "                                alpha_opt = True)\n",
    "\n",
    "myTrainer.set_parameter(\"pixano_root\",ROOTDIR)\n",
    "mycustomSampler.set_parameter(\"pixano_root\",ROOTDIR)\n",
    "\n",
    "autofillAnnotator = AutoAnnotator(mnist_db)\n",
    "\n",
    "init_learner = Learner(\n",
    "    db=mnist_db,\n",
    "    trainer=myTrainer,\n",
    "    sampler=mycustomSampler,\n",
    "    custom_annotator=autofillAnnotator,\n",
    "    new_al=True,\n",
    "    verbose=0\n",
    ")"
   ]
  },
  {
   "cell_type": "code",
   "execution_count": 18,
   "metadata": {},
   "outputs": [
    {
     "name": "stdout",
     "output_type": "stream",
     "text": [
      "Importing validation data in /home/melissap/_pixano_datasets_/MNIST_pixano_v2\n"
     ]
    }
   ],
   "source": [
    "importTestLabels(mnist_db,(X_test,Y_test))"
   ]
  },
  {
   "cell_type": "markdown",
   "metadata": {},
   "source": [
    "### Active Learning - Human annotation with Pixano Annotator\n",
    "\n",
    "We add some auto-annotation rounds"
   ]
  },
  {
   "cell_type": "code",
   "execution_count": 20,
   "metadata": {},
   "outputs": [
    {
     "name": "stdout",
     "output_type": "stream",
     "text": [
      "csvQue /home/melissap/Desktop/LAGO_43integrationDemo/pixano/temp_data/output_queries/queries_0.csv\n",
      "\n",
      "\n",
      "######################################################## AL ROUND 0 mode query : START #########################################################\n",
      "\n",
      "\n",
      "Namespace(mode='query', data_name='MNIST_pixano_v2', n_label='None', n_init_lb=100, n_query=100, data_dir='/home/melissap/_pixano_datasets_/MNIST_pixano_v2', pixano_root='../../pixano', strategy='AlphaMixSampling', round=0, train_out=None, query_out='/home/melissap/Desktop/LAGO_43integrationDemo/pixano/temp_data/output_queries/queries_0.csv', seeds=[1, 10, 100, 1000, 10000], init_lb_method='general_random', log_dir='/home/melissap/Desktop/LAGO_43integrationDemo/pixano/ActiveLearning/alpha_mix_active_learning/_logs', save_checkpoints=False, save_images=False, print_to_file=False, query_growth_ratio=1, n_drop=5, eps=0.05, max_iter=50, alpha_cap=0.03125, alpha_opt=True, alpha_closed_form_approx=True, alpha_learning_rate=0.1, alpha_clf_coef=1.0, alpha_l2_coef=0.01, alpha_learning_iters=5, alpha_learn_batch_size=1000000)\n",
      "args.pixano_root  ../../pixano\n",
      "Loading data ...\n",
      "number of labeled pool: 0\n",
      "number of unlabeled pool: 60000\n",
      "number of validation pool: 0\n",
      "number of testing pool: 10000\n",
      "Data loaded ...\n",
      "Using cuda device.\n",
      "Round 0 tagged\n",
      "100 candidates on round 0\n",
      "AutoAnnotator: round 0 annotated.\n",
      "\n",
      "\n",
      "######################################################## AL ROUND 0 mode train : START #########################################################\n",
      "\n",
      "\n",
      "Namespace(mode='train', data_name='MNIST_pixano_v2', n_label='None', n_init_lb=10, n_query=100, data_dir='/home/melissap/_pixano_datasets_/MNIST_pixano_v2', pixano_root='../../pixano', strategy='AlphaMixSampling', round=0, train_out='/home/melissap/Desktop/LAGO_43integrationDemo/pixano/temp_data/output_accuracy/accuracy.csv', query_out='path to the file', seeds=[1, 10, 100, 1000, 10000], init_lb_method='general_random', log_dir='/home/melissap/Desktop/LAGO_43integrationDemo/pixano/ActiveLearning/alpha_mix_active_learning/_logs', save_checkpoints=False, save_images=False, print_to_file=False, query_growth_ratio=1, n_drop=5, eps=0.05, max_iter=50, alpha_cap=0.03125, alpha_opt=False, alpha_closed_form_approx=True, alpha_learning_rate=0.1, alpha_clf_coef=1.0, alpha_l2_coef=0.01, alpha_learning_iters=5, alpha_learn_batch_size=1000000)\n",
      "args.pixano_root  ../../pixano\n",
      "Loading data ...\n",
      "number of labeled pool: 100\n",
      "number of unlabeled pool: 59900\n",
      "number of validation pool: 0\n",
      "number of testing pool: 10000\n",
      "Data loaded ...\n",
      "Using cuda device.\n",
      "MNIST_pixano_v2\n",
      "SEED 1\n",
      "AlphaMixSampling\n",
      "Adam optimizer...\n",
      "Training started...\n"
     ]
    },
    {
     "name": "stderr",
     "output_type": "stream",
     "text": [
      " 10%|█         | 10/100 [00:06<00:49,  1.81it/s]"
     ]
    },
    {
     "name": "stdout",
     "output_type": "stream",
     "text": [
      "Reached max accuracy at epoch 10 \n"
     ]
    },
    {
     "name": "stderr",
     "output_type": "stream",
     "text": [
      " 10%|█         | 10/100 [00:06<01:01,  1.46it/s]\n"
     ]
    },
    {
     "name": "stdout",
     "output_type": "stream",
     "text": [
      "Round 0\n",
      "testing accuracy 0.7615\n",
      "\n",
      "\n",
      "######################################################### AL ROUND 0 mode train : END ##########################################################\n",
      "\n",
      "\n",
      "csvQue /home/melissap/Desktop/LAGO_43integrationDemo/pixano/temp_data/output_queries/queries_1.csv\n",
      "\n",
      "\n",
      "######################################################## AL ROUND 1 mode query : START #########################################################\n",
      "\n",
      "\n",
      "Namespace(mode='query', data_name='MNIST_pixano_v2', n_label='None', n_init_lb=100, n_query=100, data_dir='/home/melissap/_pixano_datasets_/MNIST_pixano_v2', pixano_root='../../pixano', strategy='AlphaMixSampling', round=1, train_out=None, query_out='/home/melissap/Desktop/LAGO_43integrationDemo/pixano/temp_data/output_queries/queries_1.csv', seeds=[1, 10, 100, 1000, 10000], init_lb_method='general_random', log_dir='/home/melissap/Desktop/LAGO_43integrationDemo/pixano/ActiveLearning/alpha_mix_active_learning/_logs', save_checkpoints=False, save_images=False, print_to_file=False, query_growth_ratio=1, n_drop=5, eps=0.05, max_iter=50, alpha_cap=0.03125, alpha_opt=True, alpha_closed_form_approx=True, alpha_learning_rate=0.1, alpha_clf_coef=1.0, alpha_l2_coef=0.01, alpha_learning_iters=5, alpha_learn_batch_size=1000000)\n",
      "args.pixano_root  ../../pixano\n",
      "Loading data ...\n",
      "number of labeled pool: 100\n",
      "number of unlabeled pool: 59900\n",
      "number of validation pool: 0\n",
      "number of testing pool: 10000\n",
      "Data loaded ...\n",
      "Using cuda device.\n",
      "Loading weights mlp_MNIST_pixano_v2_AlphaMixSampling_0_weights.pth\n",
      "MNIST_pixano_v2\n",
      "SEED 1\n",
      "AlphaMixSampling\n",
      "Round 1\n",
      "query budget: 100\n",
      "With alpha_cap set to 0.031250, number of inconsistencies: 812\n",
      "Number of inconsistencies: 812\n",
      "alpha_mean_mean: 1.000000\n",
      "alpha_std_mean: 0.000000\n",
      "alpha_mean_std 0.000000\n"
     ]
    },
    {
     "name": "stderr",
     "output_type": "stream",
     "text": [
      "/home/melissap/miniconda3/envs/customLearner/lib/python3.10/site-packages/sklearn/cluster/_kmeans.py:1416: FutureWarning: The default value of `n_init` will change from 10 to 'auto' in 1.4. Set the value of `n_init` explicitly to suppress the warning\n",
      "  super()._check_params_vs_input(X, default_n_init=10)\n"
     ]
    },
    {
     "name": "stdout",
     "output_type": "stream",
     "text": [
      "number of samples that are misclassified and selected: 100 (100.00%)\n",
      "Log Determinant of the Gram Matrix: 312.984131\n",
      "Signed Log Determinant of the Gram Matrix: 312.984131\n",
      "Confidence: 0.364758\n",
      "Margin: 0.006819\n",
      "Predicted Entropy: 2.149157\n",
      "GT Entropy: nan\n",
      "Border Entropy: 3.013033\n",
      "\n",
      "\n",
      "######################################################### AL ROUND 1 mode query : END ##########################################################\n",
      "\n",
      "\n"
     ]
    },
    {
     "name": "stderr",
     "output_type": "stream",
     "text": [
      "/home/melissap/miniconda3/envs/customLearner/lib/python3.10/site-packages/scipy/stats/_entropy.py:133: RuntimeWarning: divide by zero encountered in divide\n",
      "  pk = 1.0*pk / np.sum(pk, axis=axis, keepdims=True)\n",
      "/home/melissap/miniconda3/envs/customLearner/lib/python3.10/site-packages/scipy/stats/_entropy.py:133: RuntimeWarning: invalid value encountered in divide\n",
      "  pk = 1.0*pk / np.sum(pk, axis=axis, keepdims=True)\n"
     ]
    },
    {
     "name": "stdout",
     "output_type": "stream",
     "text": [
      "Round 1 tagged\n",
      "100 candidates on round 1\n",
      "AutoAnnotator: round 1 annotated.\n",
      "\n",
      "\n",
      "######################################################## AL ROUND 1 mode train : START #########################################################\n",
      "\n",
      "\n",
      "Namespace(mode='train', data_name='MNIST_pixano_v2', n_label='None', n_init_lb=10, n_query=100, data_dir='/home/melissap/_pixano_datasets_/MNIST_pixano_v2', pixano_root='../../pixano', strategy='AlphaMixSampling', round=1, train_out='/home/melissap/Desktop/LAGO_43integrationDemo/pixano/temp_data/output_accuracy/accuracy.csv', query_out='path to the file', seeds=[1, 10, 100, 1000, 10000], init_lb_method='general_random', log_dir='/home/melissap/Desktop/LAGO_43integrationDemo/pixano/ActiveLearning/alpha_mix_active_learning/_logs', save_checkpoints=False, save_images=False, print_to_file=False, query_growth_ratio=1, n_drop=5, eps=0.05, max_iter=50, alpha_cap=0.03125, alpha_opt=False, alpha_closed_form_approx=True, alpha_learning_rate=0.1, alpha_clf_coef=1.0, alpha_l2_coef=0.01, alpha_learning_iters=5, alpha_learn_batch_size=1000000)\n",
      "args.pixano_root  ../../pixano\n",
      "Loading data ...\n",
      "number of labeled pool: 200\n",
      "number of unlabeled pool: 59800\n",
      "number of validation pool: 0\n",
      "number of testing pool: 10000\n",
      "Data loaded ...\n",
      "Using cuda device.\n",
      "MNIST_pixano_v2\n",
      "SEED 1\n",
      "AlphaMixSampling\n",
      "Adam optimizer...\n",
      "Loading weights mlp_MNIST_pixano_v2_AlphaMixSampling_0_weights.pth\n",
      " Print the weights of the model to ensure that weights are loaded \n",
      "Training started...\n"
     ]
    },
    {
     "name": "stderr",
     "output_type": "stream",
     "text": [
      "  8%|▊         | 8/100 [00:05<00:53,  1.72it/s]"
     ]
    },
    {
     "name": "stdout",
     "output_type": "stream",
     "text": [
      "Reached max accuracy at epoch 8 \n"
     ]
    },
    {
     "name": "stderr",
     "output_type": "stream",
     "text": [
      "  8%|▊         | 8/100 [00:05<01:04,  1.42it/s]\n"
     ]
    },
    {
     "name": "stdout",
     "output_type": "stream",
     "text": [
      "Round 0\n",
      "testing accuracy 0.8393\n",
      "\n",
      "\n",
      "######################################################### AL ROUND 1 mode train : END ##########################################################\n",
      "\n",
      "\n",
      "csvQue /home/melissap/Desktop/LAGO_43integrationDemo/pixano/temp_data/output_queries/queries_2.csv\n",
      "\n",
      "\n",
      "######################################################## AL ROUND 2 mode query : START #########################################################\n",
      "\n",
      "\n",
      "Namespace(mode='query', data_name='MNIST_pixano_v2', n_label='None', n_init_lb=100, n_query=100, data_dir='/home/melissap/_pixano_datasets_/MNIST_pixano_v2', pixano_root='../../pixano', strategy='AlphaMixSampling', round=2, train_out=None, query_out='/home/melissap/Desktop/LAGO_43integrationDemo/pixano/temp_data/output_queries/queries_2.csv', seeds=[1, 10, 100, 1000, 10000], init_lb_method='general_random', log_dir='/home/melissap/Desktop/LAGO_43integrationDemo/pixano/ActiveLearning/alpha_mix_active_learning/_logs', save_checkpoints=False, save_images=False, print_to_file=False, query_growth_ratio=1, n_drop=5, eps=0.05, max_iter=50, alpha_cap=0.03125, alpha_opt=True, alpha_closed_form_approx=True, alpha_learning_rate=0.1, alpha_clf_coef=1.0, alpha_l2_coef=0.01, alpha_learning_iters=5, alpha_learn_batch_size=1000000)\n",
      "args.pixano_root  ../../pixano\n",
      "Loading data ...\n",
      "number of labeled pool: 200\n",
      "number of unlabeled pool: 59800\n",
      "number of validation pool: 0\n",
      "number of testing pool: 10000\n",
      "Data loaded ...\n",
      "Using cuda device.\n",
      "Loading weights mlp_MNIST_pixano_v2_AlphaMixSampling_1_weights.pth\n",
      "MNIST_pixano_v2\n",
      "SEED 1\n",
      "AlphaMixSampling\n",
      "Round 2\n",
      "query budget: 100\n",
      "With alpha_cap set to 0.031250, number of inconsistencies: 535\n",
      "Number of inconsistencies: 535\n",
      "alpha_mean_mean: 1.000000\n",
      "alpha_std_mean: 0.000000\n",
      "alpha_mean_std 0.000000\n"
     ]
    },
    {
     "name": "stderr",
     "output_type": "stream",
     "text": [
      "/home/melissap/miniconda3/envs/customLearner/lib/python3.10/site-packages/sklearn/cluster/_kmeans.py:1416: FutureWarning: The default value of `n_init` will change from 10 to 'auto' in 1.4. Set the value of `n_init` explicitly to suppress the warning\n",
      "  super()._check_params_vs_input(X, default_n_init=10)\n"
     ]
    },
    {
     "name": "stdout",
     "output_type": "stream",
     "text": [
      "number of samples that are misclassified and selected: 100 (100.00%)\n",
      "Log Determinant of the Gram Matrix: 343.152893\n",
      "Signed Log Determinant of the Gram Matrix: 343.152893\n",
      "Confidence: 0.397154\n",
      "Margin: 0.010139\n",
      "Predicted Entropy: 2.248020\n",
      "GT Entropy: nan\n",
      "Border Entropy: 3.199897\n",
      "\n",
      "\n",
      "######################################################### AL ROUND 2 mode query : END ##########################################################\n",
      "\n",
      "\n"
     ]
    },
    {
     "name": "stderr",
     "output_type": "stream",
     "text": [
      "/home/melissap/miniconda3/envs/customLearner/lib/python3.10/site-packages/scipy/stats/_entropy.py:133: RuntimeWarning: divide by zero encountered in divide\n",
      "  pk = 1.0*pk / np.sum(pk, axis=axis, keepdims=True)\n",
      "/home/melissap/miniconda3/envs/customLearner/lib/python3.10/site-packages/scipy/stats/_entropy.py:133: RuntimeWarning: invalid value encountered in divide\n",
      "  pk = 1.0*pk / np.sum(pk, axis=axis, keepdims=True)\n"
     ]
    },
    {
     "name": "stdout",
     "output_type": "stream",
     "text": [
      "Round 2 tagged\n",
      "100 candidates on round 2\n",
      "AutoAnnotator: round 2 annotated.\n",
      "\n",
      "\n",
      "######################################################## AL ROUND 2 mode train : START #########################################################\n",
      "\n",
      "\n",
      "Namespace(mode='train', data_name='MNIST_pixano_v2', n_label='None', n_init_lb=10, n_query=100, data_dir='/home/melissap/_pixano_datasets_/MNIST_pixano_v2', pixano_root='../../pixano', strategy='AlphaMixSampling', round=2, train_out='/home/melissap/Desktop/LAGO_43integrationDemo/pixano/temp_data/output_accuracy/accuracy.csv', query_out='path to the file', seeds=[1, 10, 100, 1000, 10000], init_lb_method='general_random', log_dir='/home/melissap/Desktop/LAGO_43integrationDemo/pixano/ActiveLearning/alpha_mix_active_learning/_logs', save_checkpoints=False, save_images=False, print_to_file=False, query_growth_ratio=1, n_drop=5, eps=0.05, max_iter=50, alpha_cap=0.03125, alpha_opt=False, alpha_closed_form_approx=True, alpha_learning_rate=0.1, alpha_clf_coef=1.0, alpha_l2_coef=0.01, alpha_learning_iters=5, alpha_learn_batch_size=1000000)\n",
      "args.pixano_root  ../../pixano\n",
      "Loading data ...\n",
      "number of labeled pool: 300\n",
      "number of unlabeled pool: 59700\n",
      "number of validation pool: 0\n",
      "number of testing pool: 10000\n",
      "Data loaded ...\n",
      "Using cuda device.\n",
      "MNIST_pixano_v2\n",
      "SEED 1\n",
      "AlphaMixSampling\n",
      "Adam optimizer...\n",
      "Loading weights mlp_MNIST_pixano_v2_AlphaMixSampling_1_weights.pth\n",
      " Print the weights of the model to ensure that weights are loaded \n",
      "Training started...\n"
     ]
    },
    {
     "name": "stderr",
     "output_type": "stream",
     "text": [
      "  4%|▍         | 4/100 [00:02<01:02,  1.55it/s]"
     ]
    },
    {
     "name": "stdout",
     "output_type": "stream",
     "text": [
      "Reached max accuracy at epoch 4 \n"
     ]
    },
    {
     "name": "stderr",
     "output_type": "stream",
     "text": [
      "  4%|▍         | 4/100 [00:03<01:23,  1.15it/s]\n"
     ]
    },
    {
     "name": "stdout",
     "output_type": "stream",
     "text": [
      "Round 0\n",
      "testing accuracy 0.8772\n",
      "\n",
      "\n",
      "######################################################### AL ROUND 2 mode train : END ##########################################################\n",
      "\n",
      "\n",
      "csvQue /home/melissap/Desktop/LAGO_43integrationDemo/pixano/temp_data/output_queries/queries_3.csv\n",
      "\n",
      "\n",
      "######################################################## AL ROUND 3 mode query : START #########################################################\n",
      "\n",
      "\n",
      "Namespace(mode='query', data_name='MNIST_pixano_v2', n_label='None', n_init_lb=100, n_query=100, data_dir='/home/melissap/_pixano_datasets_/MNIST_pixano_v2', pixano_root='../../pixano', strategy='AlphaMixSampling', round=3, train_out=None, query_out='/home/melissap/Desktop/LAGO_43integrationDemo/pixano/temp_data/output_queries/queries_3.csv', seeds=[1, 10, 100, 1000, 10000], init_lb_method='general_random', log_dir='/home/melissap/Desktop/LAGO_43integrationDemo/pixano/ActiveLearning/alpha_mix_active_learning/_logs', save_checkpoints=False, save_images=False, print_to_file=False, query_growth_ratio=1, n_drop=5, eps=0.05, max_iter=50, alpha_cap=0.03125, alpha_opt=True, alpha_closed_form_approx=True, alpha_learning_rate=0.1, alpha_clf_coef=1.0, alpha_l2_coef=0.01, alpha_learning_iters=5, alpha_learn_batch_size=1000000)\n",
      "args.pixano_root  ../../pixano\n",
      "Loading data ...\n",
      "number of labeled pool: 300\n",
      "number of unlabeled pool: 59700\n",
      "number of validation pool: 0\n",
      "number of testing pool: 10000\n",
      "Data loaded ...\n",
      "Using cuda device.\n",
      "Loading weights mlp_MNIST_pixano_v2_AlphaMixSampling_2_weights.pth\n",
      "MNIST_pixano_v2\n",
      "SEED 1\n",
      "AlphaMixSampling\n",
      "Round 3\n",
      "query budget: 100\n",
      "With alpha_cap set to 0.031250, number of inconsistencies: 426\n",
      "Number of inconsistencies: 426\n",
      "alpha_mean_mean: 1.000000\n",
      "alpha_std_mean: 0.000000\n",
      "alpha_mean_std 0.000000\n"
     ]
    },
    {
     "name": "stderr",
     "output_type": "stream",
     "text": [
      "/home/melissap/miniconda3/envs/customLearner/lib/python3.10/site-packages/sklearn/cluster/_kmeans.py:1416: FutureWarning: The default value of `n_init` will change from 10 to 'auto' in 1.4. Set the value of `n_init` explicitly to suppress the warning\n",
      "  super()._check_params_vs_input(X, default_n_init=10)\n"
     ]
    },
    {
     "name": "stdout",
     "output_type": "stream",
     "text": [
      "number of samples that are misclassified and selected: 100 (100.00%)\n",
      "Log Determinant of the Gram Matrix: 355.415161\n",
      "Signed Log Determinant of the Gram Matrix: 355.415161\n",
      "Confidence: 0.418853\n",
      "Margin: 0.010904\n",
      "Predicted Entropy: 2.250798\n",
      "GT Entropy: nan\n",
      "Border Entropy: 3.131245\n",
      "\n",
      "\n",
      "######################################################### AL ROUND 3 mode query : END ##########################################################\n",
      "\n",
      "\n"
     ]
    },
    {
     "name": "stderr",
     "output_type": "stream",
     "text": [
      "/home/melissap/miniconda3/envs/customLearner/lib/python3.10/site-packages/scipy/stats/_entropy.py:133: RuntimeWarning: divide by zero encountered in divide\n",
      "  pk = 1.0*pk / np.sum(pk, axis=axis, keepdims=True)\n",
      "/home/melissap/miniconda3/envs/customLearner/lib/python3.10/site-packages/scipy/stats/_entropy.py:133: RuntimeWarning: invalid value encountered in divide\n",
      "  pk = 1.0*pk / np.sum(pk, axis=axis, keepdims=True)\n"
     ]
    },
    {
     "name": "stdout",
     "output_type": "stream",
     "text": [
      "Round 3 tagged\n",
      "100 candidates on round 3\n",
      "AutoAnnotator: round 3 annotated.\n",
      "\n",
      "\n",
      "######################################################## AL ROUND 3 mode train : START #########################################################\n",
      "\n",
      "\n",
      "Namespace(mode='train', data_name='MNIST_pixano_v2', n_label='None', n_init_lb=10, n_query=100, data_dir='/home/melissap/_pixano_datasets_/MNIST_pixano_v2', pixano_root='../../pixano', strategy='AlphaMixSampling', round=3, train_out='/home/melissap/Desktop/LAGO_43integrationDemo/pixano/temp_data/output_accuracy/accuracy.csv', query_out='path to the file', seeds=[1, 10, 100, 1000, 10000], init_lb_method='general_random', log_dir='/home/melissap/Desktop/LAGO_43integrationDemo/pixano/ActiveLearning/alpha_mix_active_learning/_logs', save_checkpoints=False, save_images=False, print_to_file=False, query_growth_ratio=1, n_drop=5, eps=0.05, max_iter=50, alpha_cap=0.03125, alpha_opt=False, alpha_closed_form_approx=True, alpha_learning_rate=0.1, alpha_clf_coef=1.0, alpha_l2_coef=0.01, alpha_learning_iters=5, alpha_learn_batch_size=1000000)\n",
      "args.pixano_root  ../../pixano\n",
      "Loading data ...\n",
      "number of labeled pool: 400\n",
      "number of unlabeled pool: 59600\n",
      "number of validation pool: 0\n",
      "number of testing pool: 10000\n",
      "Data loaded ...\n",
      "Using cuda device.\n",
      "MNIST_pixano_v2\n",
      "SEED 1\n",
      "AlphaMixSampling\n",
      "Adam optimizer...\n",
      "Loading weights mlp_MNIST_pixano_v2_AlphaMixSampling_2_weights.pth\n",
      " Print the weights of the model to ensure that weights are loaded \n",
      "Training started...\n"
     ]
    },
    {
     "name": "stderr",
     "output_type": "stream",
     "text": [
      "  6%|▌         | 6/100 [00:04<00:55,  1.69it/s]"
     ]
    },
    {
     "name": "stdout",
     "output_type": "stream",
     "text": [
      "Reached max accuracy at epoch 6 \n"
     ]
    },
    {
     "name": "stderr",
     "output_type": "stream",
     "text": [
      "  6%|▌         | 6/100 [00:04<01:11,  1.31it/s]\n"
     ]
    },
    {
     "name": "stdout",
     "output_type": "stream",
     "text": [
      "Round 0\n",
      "testing accuracy 0.8969\n",
      "\n",
      "\n",
      "######################################################### AL ROUND 3 mode train : END ##########################################################\n",
      "\n",
      "\n",
      "csvQue /home/melissap/Desktop/LAGO_43integrationDemo/pixano/temp_data/output_queries/queries_4.csv\n",
      "\n",
      "\n",
      "######################################################## AL ROUND 4 mode query : START #########################################################\n",
      "\n",
      "\n",
      "Namespace(mode='query', data_name='MNIST_pixano_v2', n_label='None', n_init_lb=100, n_query=100, data_dir='/home/melissap/_pixano_datasets_/MNIST_pixano_v2', pixano_root='../../pixano', strategy='AlphaMixSampling', round=4, train_out=None, query_out='/home/melissap/Desktop/LAGO_43integrationDemo/pixano/temp_data/output_queries/queries_4.csv', seeds=[1, 10, 100, 1000, 10000], init_lb_method='general_random', log_dir='/home/melissap/Desktop/LAGO_43integrationDemo/pixano/ActiveLearning/alpha_mix_active_learning/_logs', save_checkpoints=False, save_images=False, print_to_file=False, query_growth_ratio=1, n_drop=5, eps=0.05, max_iter=50, alpha_cap=0.03125, alpha_opt=True, alpha_closed_form_approx=True, alpha_learning_rate=0.1, alpha_clf_coef=1.0, alpha_l2_coef=0.01, alpha_learning_iters=5, alpha_learn_batch_size=1000000)\n",
      "args.pixano_root  ../../pixano\n",
      "Loading data ...\n",
      "number of labeled pool: 400\n",
      "number of unlabeled pool: 59600\n",
      "number of validation pool: 0\n",
      "number of testing pool: 10000\n",
      "Data loaded ...\n",
      "Using cuda device.\n",
      "Loading weights mlp_MNIST_pixano_v2_AlphaMixSampling_3_weights.pth\n",
      "MNIST_pixano_v2\n",
      "SEED 1\n",
      "AlphaMixSampling\n",
      "Round 4\n",
      "query budget: 100\n",
      "With alpha_cap set to 0.031250, number of inconsistencies: 379\n",
      "Number of inconsistencies: 379\n",
      "alpha_mean_mean: 1.000000\n",
      "alpha_std_mean: 0.000000\n",
      "alpha_mean_std 0.000000\n"
     ]
    },
    {
     "name": "stderr",
     "output_type": "stream",
     "text": [
      "/home/melissap/miniconda3/envs/customLearner/lib/python3.10/site-packages/sklearn/cluster/_kmeans.py:1416: FutureWarning: The default value of `n_init` will change from 10 to 'auto' in 1.4. Set the value of `n_init` explicitly to suppress the warning\n",
      "  super()._check_params_vs_input(X, default_n_init=10)\n"
     ]
    },
    {
     "name": "stdout",
     "output_type": "stream",
     "text": [
      "number of samples that are misclassified and selected: 100 (100.00%)\n",
      "Log Determinant of the Gram Matrix: 375.863983\n",
      "Signed Log Determinant of the Gram Matrix: 375.863983\n",
      "Confidence: 0.435013\n",
      "Margin: 0.013603\n",
      "Predicted Entropy: 2.096984\n",
      "GT Entropy: nan\n",
      "Border Entropy: 3.156295\n",
      "\n",
      "\n",
      "######################################################### AL ROUND 4 mode query : END ##########################################################\n",
      "\n",
      "\n"
     ]
    },
    {
     "name": "stderr",
     "output_type": "stream",
     "text": [
      "/home/melissap/miniconda3/envs/customLearner/lib/python3.10/site-packages/scipy/stats/_entropy.py:133: RuntimeWarning: divide by zero encountered in divide\n",
      "  pk = 1.0*pk / np.sum(pk, axis=axis, keepdims=True)\n",
      "/home/melissap/miniconda3/envs/customLearner/lib/python3.10/site-packages/scipy/stats/_entropy.py:133: RuntimeWarning: invalid value encountered in divide\n",
      "  pk = 1.0*pk / np.sum(pk, axis=axis, keepdims=True)\n"
     ]
    },
    {
     "name": "stdout",
     "output_type": "stream",
     "text": [
      "Round 4 tagged\n",
      "100 candidates on round 4\n",
      "AutoAnnotator: round 4 annotated.\n",
      "\n",
      "\n",
      "######################################################## AL ROUND 4 mode train : START #########################################################\n",
      "\n",
      "\n",
      "Namespace(mode='train', data_name='MNIST_pixano_v2', n_label='None', n_init_lb=10, n_query=100, data_dir='/home/melissap/_pixano_datasets_/MNIST_pixano_v2', pixano_root='../../pixano', strategy='AlphaMixSampling', round=4, train_out='/home/melissap/Desktop/LAGO_43integrationDemo/pixano/temp_data/output_accuracy/accuracy.csv', query_out='path to the file', seeds=[1, 10, 100, 1000, 10000], init_lb_method='general_random', log_dir='/home/melissap/Desktop/LAGO_43integrationDemo/pixano/ActiveLearning/alpha_mix_active_learning/_logs', save_checkpoints=False, save_images=False, print_to_file=False, query_growth_ratio=1, n_drop=5, eps=0.05, max_iter=50, alpha_cap=0.03125, alpha_opt=False, alpha_closed_form_approx=True, alpha_learning_rate=0.1, alpha_clf_coef=1.0, alpha_l2_coef=0.01, alpha_learning_iters=5, alpha_learn_batch_size=1000000)\n",
      "args.pixano_root  ../../pixano\n",
      "Loading data ...\n",
      "number of labeled pool: 500\n",
      "number of unlabeled pool: 59500\n",
      "number of validation pool: 0\n",
      "number of testing pool: 10000\n",
      "Data loaded ...\n",
      "Using cuda device.\n",
      "MNIST_pixano_v2\n",
      "SEED 1\n",
      "AlphaMixSampling\n",
      "Adam optimizer...\n",
      "Loading weights mlp_MNIST_pixano_v2_AlphaMixSampling_3_weights.pth\n",
      " Print the weights of the model to ensure that weights are loaded \n",
      "Training started...\n"
     ]
    },
    {
     "name": "stderr",
     "output_type": "stream",
     "text": [
      "  3%|▎         | 3/100 [00:02<01:10,  1.38it/s]"
     ]
    },
    {
     "name": "stdout",
     "output_type": "stream",
     "text": [
      "Reached max accuracy at epoch 3 \n"
     ]
    },
    {
     "name": "stderr",
     "output_type": "stream",
     "text": [
      "  3%|▎         | 3/100 [00:02<01:36,  1.00it/s]\n"
     ]
    },
    {
     "name": "stdout",
     "output_type": "stream",
     "text": [
      "Round 0\n",
      "testing accuracy 0.9078\n",
      "\n",
      "\n",
      "######################################################### AL ROUND 4 mode train : END ##########################################################\n",
      "\n",
      "\n",
      "csvQue /home/melissap/Desktop/LAGO_43integrationDemo/pixano/temp_data/output_queries/queries_5.csv\n",
      "\n",
      "\n",
      "######################################################## AL ROUND 5 mode query : START #########################################################\n",
      "\n",
      "\n",
      "Namespace(mode='query', data_name='MNIST_pixano_v2', n_label='None', n_init_lb=100, n_query=100, data_dir='/home/melissap/_pixano_datasets_/MNIST_pixano_v2', pixano_root='../../pixano', strategy='AlphaMixSampling', round=5, train_out=None, query_out='/home/melissap/Desktop/LAGO_43integrationDemo/pixano/temp_data/output_queries/queries_5.csv', seeds=[1, 10, 100, 1000, 10000], init_lb_method='general_random', log_dir='/home/melissap/Desktop/LAGO_43integrationDemo/pixano/ActiveLearning/alpha_mix_active_learning/_logs', save_checkpoints=False, save_images=False, print_to_file=False, query_growth_ratio=1, n_drop=5, eps=0.05, max_iter=50, alpha_cap=0.03125, alpha_opt=True, alpha_closed_form_approx=True, alpha_learning_rate=0.1, alpha_clf_coef=1.0, alpha_l2_coef=0.01, alpha_learning_iters=5, alpha_learn_batch_size=1000000)\n",
      "args.pixano_root  ../../pixano\n",
      "Loading data ...\n",
      "number of labeled pool: 500\n",
      "number of unlabeled pool: 59500\n",
      "number of validation pool: 0\n",
      "number of testing pool: 10000\n",
      "Data loaded ...\n",
      "Using cuda device.\n",
      "Loading weights mlp_MNIST_pixano_v2_AlphaMixSampling_4_weights.pth\n",
      "MNIST_pixano_v2\n",
      "SEED 1\n",
      "AlphaMixSampling\n",
      "Round 5\n",
      "query budget: 100\n",
      "With alpha_cap set to 0.031250, number of inconsistencies: 328\n",
      "Number of inconsistencies: 328\n",
      "alpha_mean_mean: 1.000000\n",
      "alpha_std_mean: 0.000000\n",
      "alpha_mean_std 0.000000\n"
     ]
    },
    {
     "name": "stderr",
     "output_type": "stream",
     "text": [
      "/home/melissap/miniconda3/envs/customLearner/lib/python3.10/site-packages/sklearn/cluster/_kmeans.py:1416: FutureWarning: The default value of `n_init` will change from 10 to 'auto' in 1.4. Set the value of `n_init` explicitly to suppress the warning\n",
      "  super()._check_params_vs_input(X, default_n_init=10)\n"
     ]
    },
    {
     "name": "stdout",
     "output_type": "stream",
     "text": [
      "number of samples that are misclassified and selected: 100 (100.00%)\n",
      "Log Determinant of the Gram Matrix: 389.274139\n",
      "Signed Log Determinant of the Gram Matrix: 389.274139\n",
      "Confidence: 0.437864\n",
      "Margin: 0.012783\n",
      "Predicted Entropy: 2.260569\n",
      "GT Entropy: nan\n",
      "Border Entropy: 3.190275\n",
      "\n",
      "\n",
      "######################################################### AL ROUND 5 mode query : END ##########################################################\n",
      "\n",
      "\n"
     ]
    },
    {
     "name": "stderr",
     "output_type": "stream",
     "text": [
      "/home/melissap/miniconda3/envs/customLearner/lib/python3.10/site-packages/scipy/stats/_entropy.py:133: RuntimeWarning: divide by zero encountered in divide\n",
      "  pk = 1.0*pk / np.sum(pk, axis=axis, keepdims=True)\n",
      "/home/melissap/miniconda3/envs/customLearner/lib/python3.10/site-packages/scipy/stats/_entropy.py:133: RuntimeWarning: invalid value encountered in divide\n",
      "  pk = 1.0*pk / np.sum(pk, axis=axis, keepdims=True)\n"
     ]
    },
    {
     "name": "stdout",
     "output_type": "stream",
     "text": [
      "Round 5 tagged\n",
      "100 candidates on round 5\n",
      "AutoAnnotator: round 5 annotated.\n",
      "\n",
      "\n",
      "######################################################## AL ROUND 5 mode train : START #########################################################\n",
      "\n",
      "\n",
      "Namespace(mode='train', data_name='MNIST_pixano_v2', n_label='None', n_init_lb=10, n_query=100, data_dir='/home/melissap/_pixano_datasets_/MNIST_pixano_v2', pixano_root='../../pixano', strategy='AlphaMixSampling', round=5, train_out='/home/melissap/Desktop/LAGO_43integrationDemo/pixano/temp_data/output_accuracy/accuracy.csv', query_out='path to the file', seeds=[1, 10, 100, 1000, 10000], init_lb_method='general_random', log_dir='/home/melissap/Desktop/LAGO_43integrationDemo/pixano/ActiveLearning/alpha_mix_active_learning/_logs', save_checkpoints=False, save_images=False, print_to_file=False, query_growth_ratio=1, n_drop=5, eps=0.05, max_iter=50, alpha_cap=0.03125, alpha_opt=False, alpha_closed_form_approx=True, alpha_learning_rate=0.1, alpha_clf_coef=1.0, alpha_l2_coef=0.01, alpha_learning_iters=5, alpha_learn_batch_size=1000000)\n",
      "args.pixano_root  ../../pixano\n",
      "Loading data ...\n",
      "number of labeled pool: 600\n",
      "number of unlabeled pool: 59400\n",
      "number of validation pool: 0\n",
      "number of testing pool: 10000\n",
      "Data loaded ...\n",
      "Using cuda device.\n",
      "MNIST_pixano_v2\n",
      "SEED 1\n",
      "AlphaMixSampling\n",
      "Adam optimizer...\n",
      "Loading weights mlp_MNIST_pixano_v2_AlphaMixSampling_4_weights.pth\n",
      " Print the weights of the model to ensure that weights are loaded \n",
      "Training started...\n"
     ]
    },
    {
     "name": "stderr",
     "output_type": "stream",
     "text": [
      "  4%|▍         | 4/100 [00:02<01:02,  1.53it/s]"
     ]
    },
    {
     "name": "stdout",
     "output_type": "stream",
     "text": [
      "Reached max accuracy at epoch 4 \n"
     ]
    },
    {
     "name": "stderr",
     "output_type": "stream",
     "text": [
      "  4%|▍         | 4/100 [00:03<01:23,  1.15it/s]\n"
     ]
    },
    {
     "name": "stdout",
     "output_type": "stream",
     "text": [
      "Round 0\n",
      "testing accuracy 0.9148\n",
      "\n",
      "\n",
      "######################################################### AL ROUND 5 mode train : END ##########################################################\n",
      "\n",
      "\n",
      "csvQue /home/melissap/Desktop/LAGO_43integrationDemo/pixano/temp_data/output_queries/queries_6.csv\n",
      "\n",
      "\n",
      "######################################################## AL ROUND 6 mode query : START #########################################################\n",
      "\n",
      "\n",
      "Namespace(mode='query', data_name='MNIST_pixano_v2', n_label='None', n_init_lb=100, n_query=100, data_dir='/home/melissap/_pixano_datasets_/MNIST_pixano_v2', pixano_root='../../pixano', strategy='AlphaMixSampling', round=6, train_out=None, query_out='/home/melissap/Desktop/LAGO_43integrationDemo/pixano/temp_data/output_queries/queries_6.csv', seeds=[1, 10, 100, 1000, 10000], init_lb_method='general_random', log_dir='/home/melissap/Desktop/LAGO_43integrationDemo/pixano/ActiveLearning/alpha_mix_active_learning/_logs', save_checkpoints=False, save_images=False, print_to_file=False, query_growth_ratio=1, n_drop=5, eps=0.05, max_iter=50, alpha_cap=0.03125, alpha_opt=True, alpha_closed_form_approx=True, alpha_learning_rate=0.1, alpha_clf_coef=1.0, alpha_l2_coef=0.01, alpha_learning_iters=5, alpha_learn_batch_size=1000000)\n",
      "args.pixano_root  ../../pixano\n",
      "Loading data ...\n",
      "number of labeled pool: 600\n",
      "number of unlabeled pool: 59400\n",
      "number of validation pool: 0\n",
      "number of testing pool: 10000\n",
      "Data loaded ...\n",
      "Using cuda device.\n",
      "Loading weights mlp_MNIST_pixano_v2_AlphaMixSampling_5_weights.pth\n",
      "MNIST_pixano_v2\n",
      "SEED 1\n",
      "AlphaMixSampling\n",
      "Round 6\n",
      "query budget: 100\n",
      "With alpha_cap set to 0.031250, number of inconsistencies: 306\n",
      "Number of inconsistencies: 306\n",
      "alpha_mean_mean: 1.000000\n",
      "alpha_std_mean: 0.000000\n",
      "alpha_mean_std 0.000000\n"
     ]
    },
    {
     "name": "stderr",
     "output_type": "stream",
     "text": [
      "/home/melissap/miniconda3/envs/customLearner/lib/python3.10/site-packages/sklearn/cluster/_kmeans.py:1416: FutureWarning: The default value of `n_init` will change from 10 to 'auto' in 1.4. Set the value of `n_init` explicitly to suppress the warning\n",
      "  super()._check_params_vs_input(X, default_n_init=10)\n"
     ]
    },
    {
     "name": "stdout",
     "output_type": "stream",
     "text": [
      "number of samples that are misclassified and selected: 100 (100.00%)\n",
      "Log Determinant of the Gram Matrix: 404.640961\n",
      "Signed Log Determinant of the Gram Matrix: 404.640961\n",
      "Confidence: 0.442422\n",
      "Margin: 0.015030\n",
      "Predicted Entropy: 2.258625\n",
      "GT Entropy: nan\n",
      "Border Entropy: 3.269763\n",
      "\n",
      "\n",
      "######################################################### AL ROUND 6 mode query : END ##########################################################\n",
      "\n",
      "\n"
     ]
    },
    {
     "name": "stderr",
     "output_type": "stream",
     "text": [
      "/home/melissap/miniconda3/envs/customLearner/lib/python3.10/site-packages/scipy/stats/_entropy.py:133: RuntimeWarning: divide by zero encountered in divide\n",
      "  pk = 1.0*pk / np.sum(pk, axis=axis, keepdims=True)\n",
      "/home/melissap/miniconda3/envs/customLearner/lib/python3.10/site-packages/scipy/stats/_entropy.py:133: RuntimeWarning: invalid value encountered in divide\n",
      "  pk = 1.0*pk / np.sum(pk, axis=axis, keepdims=True)\n"
     ]
    },
    {
     "name": "stdout",
     "output_type": "stream",
     "text": [
      "Round 6 tagged\n",
      "100 candidates on round 6\n",
      "AutoAnnotator: round 6 annotated.\n",
      "\n",
      "\n",
      "######################################################## AL ROUND 6 mode train : START #########################################################\n",
      "\n",
      "\n",
      "Namespace(mode='train', data_name='MNIST_pixano_v2', n_label='None', n_init_lb=10, n_query=100, data_dir='/home/melissap/_pixano_datasets_/MNIST_pixano_v2', pixano_root='../../pixano', strategy='AlphaMixSampling', round=6, train_out='/home/melissap/Desktop/LAGO_43integrationDemo/pixano/temp_data/output_accuracy/accuracy.csv', query_out='path to the file', seeds=[1, 10, 100, 1000, 10000], init_lb_method='general_random', log_dir='/home/melissap/Desktop/LAGO_43integrationDemo/pixano/ActiveLearning/alpha_mix_active_learning/_logs', save_checkpoints=False, save_images=False, print_to_file=False, query_growth_ratio=1, n_drop=5, eps=0.05, max_iter=50, alpha_cap=0.03125, alpha_opt=False, alpha_closed_form_approx=True, alpha_learning_rate=0.1, alpha_clf_coef=1.0, alpha_l2_coef=0.01, alpha_learning_iters=5, alpha_learn_batch_size=1000000)\n",
      "args.pixano_root  ../../pixano\n",
      "Loading data ...\n",
      "number of labeled pool: 700\n",
      "number of unlabeled pool: 59300\n",
      "number of validation pool: 0\n",
      "number of testing pool: 10000\n",
      "Data loaded ...\n",
      "Using cuda device.\n",
      "MNIST_pixano_v2\n",
      "SEED 1\n",
      "AlphaMixSampling\n",
      "Adam optimizer...\n",
      "Loading weights mlp_MNIST_pixano_v2_AlphaMixSampling_5_weights.pth\n",
      " Print the weights of the model to ensure that weights are loaded \n",
      "Training started...\n"
     ]
    },
    {
     "name": "stderr",
     "output_type": "stream",
     "text": [
      "  3%|▎         | 3/100 [00:02<01:13,  1.32it/s]"
     ]
    },
    {
     "name": "stdout",
     "output_type": "stream",
     "text": [
      "Reached max accuracy at epoch 3 \n"
     ]
    },
    {
     "name": "stderr",
     "output_type": "stream",
     "text": [
      "  3%|▎         | 3/100 [00:03<01:40,  1.03s/it]\n"
     ]
    },
    {
     "name": "stdout",
     "output_type": "stream",
     "text": [
      "Round 0\n",
      "testing accuracy 0.9205\n",
      "\n",
      "\n",
      "######################################################### AL ROUND 6 mode train : END ##########################################################\n",
      "\n",
      "\n",
      "csvQue /home/melissap/Desktop/LAGO_43integrationDemo/pixano/temp_data/output_queries/queries_7.csv\n",
      "\n",
      "\n",
      "######################################################## AL ROUND 7 mode query : START #########################################################\n",
      "\n",
      "\n",
      "Namespace(mode='query', data_name='MNIST_pixano_v2', n_label='None', n_init_lb=100, n_query=100, data_dir='/home/melissap/_pixano_datasets_/MNIST_pixano_v2', pixano_root='../../pixano', strategy='AlphaMixSampling', round=7, train_out=None, query_out='/home/melissap/Desktop/LAGO_43integrationDemo/pixano/temp_data/output_queries/queries_7.csv', seeds=[1, 10, 100, 1000, 10000], init_lb_method='general_random', log_dir='/home/melissap/Desktop/LAGO_43integrationDemo/pixano/ActiveLearning/alpha_mix_active_learning/_logs', save_checkpoints=False, save_images=False, print_to_file=False, query_growth_ratio=1, n_drop=5, eps=0.05, max_iter=50, alpha_cap=0.03125, alpha_opt=True, alpha_closed_form_approx=True, alpha_learning_rate=0.1, alpha_clf_coef=1.0, alpha_l2_coef=0.01, alpha_learning_iters=5, alpha_learn_batch_size=1000000)\n",
      "args.pixano_root  ../../pixano\n",
      "Loading data ...\n",
      "number of labeled pool: 700\n",
      "number of unlabeled pool: 59300\n",
      "number of validation pool: 0\n",
      "number of testing pool: 10000\n",
      "Data loaded ...\n",
      "Using cuda device.\n",
      "Loading weights mlp_MNIST_pixano_v2_AlphaMixSampling_6_weights.pth\n",
      "MNIST_pixano_v2\n",
      "SEED 1\n",
      "AlphaMixSampling\n",
      "Round 7\n",
      "query budget: 100\n",
      "With alpha_cap set to 0.031250, number of inconsistencies: 321\n",
      "Number of inconsistencies: 321\n",
      "alpha_mean_mean: 1.000000\n",
      "alpha_std_mean: 0.000000\n",
      "alpha_mean_std 0.000000\n"
     ]
    },
    {
     "name": "stderr",
     "output_type": "stream",
     "text": [
      "/home/melissap/miniconda3/envs/customLearner/lib/python3.10/site-packages/sklearn/cluster/_kmeans.py:1416: FutureWarning: The default value of `n_init` will change from 10 to 'auto' in 1.4. Set the value of `n_init` explicitly to suppress the warning\n",
      "  super()._check_params_vs_input(X, default_n_init=10)\n"
     ]
    },
    {
     "name": "stdout",
     "output_type": "stream",
     "text": [
      "number of samples that are misclassified and selected: 100 (100.00%)\n",
      "Log Determinant of the Gram Matrix: 417.422363\n",
      "Signed Log Determinant of the Gram Matrix: 417.422363\n",
      "Confidence: 0.454642\n",
      "Margin: 0.018763\n",
      "Predicted Entropy: 2.184108\n",
      "GT Entropy: nan\n",
      "Border Entropy: 3.152023\n",
      "\n",
      "\n",
      "######################################################### AL ROUND 7 mode query : END ##########################################################\n",
      "\n",
      "\n"
     ]
    },
    {
     "name": "stderr",
     "output_type": "stream",
     "text": [
      "/home/melissap/miniconda3/envs/customLearner/lib/python3.10/site-packages/scipy/stats/_entropy.py:133: RuntimeWarning: divide by zero encountered in divide\n",
      "  pk = 1.0*pk / np.sum(pk, axis=axis, keepdims=True)\n",
      "/home/melissap/miniconda3/envs/customLearner/lib/python3.10/site-packages/scipy/stats/_entropy.py:133: RuntimeWarning: invalid value encountered in divide\n",
      "  pk = 1.0*pk / np.sum(pk, axis=axis, keepdims=True)\n"
     ]
    },
    {
     "name": "stdout",
     "output_type": "stream",
     "text": [
      "Round 7 tagged\n",
      "100 candidates on round 7\n",
      "AutoAnnotator: round 7 annotated.\n",
      "\n",
      "\n",
      "######################################################## AL ROUND 7 mode train : START #########################################################\n",
      "\n",
      "\n",
      "Namespace(mode='train', data_name='MNIST_pixano_v2', n_label='None', n_init_lb=10, n_query=100, data_dir='/home/melissap/_pixano_datasets_/MNIST_pixano_v2', pixano_root='../../pixano', strategy='AlphaMixSampling', round=7, train_out='/home/melissap/Desktop/LAGO_43integrationDemo/pixano/temp_data/output_accuracy/accuracy.csv', query_out='path to the file', seeds=[1, 10, 100, 1000, 10000], init_lb_method='general_random', log_dir='/home/melissap/Desktop/LAGO_43integrationDemo/pixano/ActiveLearning/alpha_mix_active_learning/_logs', save_checkpoints=False, save_images=False, print_to_file=False, query_growth_ratio=1, n_drop=5, eps=0.05, max_iter=50, alpha_cap=0.03125, alpha_opt=False, alpha_closed_form_approx=True, alpha_learning_rate=0.1, alpha_clf_coef=1.0, alpha_l2_coef=0.01, alpha_learning_iters=5, alpha_learn_batch_size=1000000)\n",
      "args.pixano_root  ../../pixano\n",
      "Loading data ...\n",
      "number of labeled pool: 800\n",
      "number of unlabeled pool: 59200\n",
      "number of validation pool: 0\n",
      "number of testing pool: 10000\n",
      "Data loaded ...\n",
      "Using cuda device.\n",
      "MNIST_pixano_v2\n",
      "SEED 1\n",
      "AlphaMixSampling\n",
      "Adam optimizer...\n",
      "Loading weights mlp_MNIST_pixano_v2_AlphaMixSampling_6_weights.pth\n",
      " Print the weights of the model to ensure that weights are loaded \n",
      "Training started...\n"
     ]
    },
    {
     "name": "stderr",
     "output_type": "stream",
     "text": [
      "  3%|▎         | 3/100 [00:02<01:09,  1.40it/s]"
     ]
    },
    {
     "name": "stdout",
     "output_type": "stream",
     "text": [
      "Reached max accuracy at epoch 3 \n"
     ]
    },
    {
     "name": "stderr",
     "output_type": "stream",
     "text": [
      "  3%|▎         | 3/100 [00:02<01:34,  1.02it/s]\n"
     ]
    },
    {
     "name": "stdout",
     "output_type": "stream",
     "text": [
      "Round 0\n",
      "testing accuracy 0.9288\n",
      "\n",
      "\n",
      "######################################################### AL ROUND 7 mode train : END ##########################################################\n",
      "\n",
      "\n",
      "csvQue /home/melissap/Desktop/LAGO_43integrationDemo/pixano/temp_data/output_queries/queries_8.csv\n",
      "\n",
      "\n",
      "######################################################## AL ROUND 8 mode query : START #########################################################\n",
      "\n",
      "\n",
      "Namespace(mode='query', data_name='MNIST_pixano_v2', n_label='None', n_init_lb=100, n_query=100, data_dir='/home/melissap/_pixano_datasets_/MNIST_pixano_v2', pixano_root='../../pixano', strategy='AlphaMixSampling', round=8, train_out=None, query_out='/home/melissap/Desktop/LAGO_43integrationDemo/pixano/temp_data/output_queries/queries_8.csv', seeds=[1, 10, 100, 1000, 10000], init_lb_method='general_random', log_dir='/home/melissap/Desktop/LAGO_43integrationDemo/pixano/ActiveLearning/alpha_mix_active_learning/_logs', save_checkpoints=False, save_images=False, print_to_file=False, query_growth_ratio=1, n_drop=5, eps=0.05, max_iter=50, alpha_cap=0.03125, alpha_opt=True, alpha_closed_form_approx=True, alpha_learning_rate=0.1, alpha_clf_coef=1.0, alpha_l2_coef=0.01, alpha_learning_iters=5, alpha_learn_batch_size=1000000)\n",
      "args.pixano_root  ../../pixano\n",
      "Loading data ...\n",
      "number of labeled pool: 800\n",
      "number of unlabeled pool: 59200\n",
      "number of validation pool: 0\n",
      "number of testing pool: 10000\n",
      "Data loaded ...\n",
      "Using cuda device.\n",
      "Loading weights mlp_MNIST_pixano_v2_AlphaMixSampling_7_weights.pth\n",
      "MNIST_pixano_v2\n",
      "SEED 1\n",
      "AlphaMixSampling\n",
      "Round 8\n",
      "query budget: 100\n",
      "With alpha_cap set to 0.031250, number of inconsistencies: 290\n",
      "Number of inconsistencies: 290\n",
      "alpha_mean_mean: 1.000000\n",
      "alpha_std_mean: 0.000000\n",
      "alpha_mean_std 0.000000\n"
     ]
    },
    {
     "name": "stderr",
     "output_type": "stream",
     "text": [
      "/home/melissap/miniconda3/envs/customLearner/lib/python3.10/site-packages/sklearn/cluster/_kmeans.py:1416: FutureWarning: The default value of `n_init` will change from 10 to 'auto' in 1.4. Set the value of `n_init` explicitly to suppress the warning\n",
      "  super()._check_params_vs_input(X, default_n_init=10)\n"
     ]
    },
    {
     "name": "stdout",
     "output_type": "stream",
     "text": [
      "number of samples that are misclassified and selected: 100 (100.00%)\n",
      "Log Determinant of the Gram Matrix: 422.097809\n",
      "Signed Log Determinant of the Gram Matrix: 422.097809\n",
      "Confidence: 0.460707\n",
      "Margin: 0.019288\n",
      "Predicted Entropy: 2.196310\n",
      "GT Entropy: nan\n",
      "Border Entropy: 3.136778\n",
      "\n",
      "\n",
      "######################################################### AL ROUND 8 mode query : END ##########################################################\n",
      "\n",
      "\n"
     ]
    },
    {
     "name": "stderr",
     "output_type": "stream",
     "text": [
      "/home/melissap/miniconda3/envs/customLearner/lib/python3.10/site-packages/scipy/stats/_entropy.py:133: RuntimeWarning: divide by zero encountered in divide\n",
      "  pk = 1.0*pk / np.sum(pk, axis=axis, keepdims=True)\n",
      "/home/melissap/miniconda3/envs/customLearner/lib/python3.10/site-packages/scipy/stats/_entropy.py:133: RuntimeWarning: invalid value encountered in divide\n",
      "  pk = 1.0*pk / np.sum(pk, axis=axis, keepdims=True)\n"
     ]
    },
    {
     "name": "stdout",
     "output_type": "stream",
     "text": [
      "Round 8 tagged\n",
      "100 candidates on round 8\n",
      "AutoAnnotator: round 8 annotated.\n",
      "\n",
      "\n",
      "######################################################## AL ROUND 8 mode train : START #########################################################\n",
      "\n",
      "\n",
      "Namespace(mode='train', data_name='MNIST_pixano_v2', n_label='None', n_init_lb=10, n_query=100, data_dir='/home/melissap/_pixano_datasets_/MNIST_pixano_v2', pixano_root='../../pixano', strategy='AlphaMixSampling', round=8, train_out='/home/melissap/Desktop/LAGO_43integrationDemo/pixano/temp_data/output_accuracy/accuracy.csv', query_out='path to the file', seeds=[1, 10, 100, 1000, 10000], init_lb_method='general_random', log_dir='/home/melissap/Desktop/LAGO_43integrationDemo/pixano/ActiveLearning/alpha_mix_active_learning/_logs', save_checkpoints=False, save_images=False, print_to_file=False, query_growth_ratio=1, n_drop=5, eps=0.05, max_iter=50, alpha_cap=0.03125, alpha_opt=False, alpha_closed_form_approx=True, alpha_learning_rate=0.1, alpha_clf_coef=1.0, alpha_l2_coef=0.01, alpha_learning_iters=5, alpha_learn_batch_size=1000000)\n",
      "args.pixano_root  ../../pixano\n",
      "Loading data ...\n",
      "number of labeled pool: 900\n",
      "number of unlabeled pool: 59100\n",
      "number of validation pool: 0\n",
      "number of testing pool: 10000\n",
      "Data loaded ...\n",
      "Using cuda device.\n",
      "MNIST_pixano_v2\n",
      "SEED 1\n",
      "AlphaMixSampling\n",
      "Adam optimizer...\n",
      "Loading weights mlp_MNIST_pixano_v2_AlphaMixSampling_7_weights.pth\n",
      " Print the weights of the model to ensure that weights are loaded \n",
      "Training started...\n"
     ]
    },
    {
     "name": "stderr",
     "output_type": "stream",
     "text": [
      "  5%|▌         | 5/100 [00:03<01:01,  1.56it/s]"
     ]
    },
    {
     "name": "stdout",
     "output_type": "stream",
     "text": [
      "Reached max accuracy at epoch 5 \n"
     ]
    },
    {
     "name": "stderr",
     "output_type": "stream",
     "text": [
      "  5%|▌         | 5/100 [00:04<01:19,  1.19it/s]\n"
     ]
    },
    {
     "name": "stdout",
     "output_type": "stream",
     "text": [
      "Round 0\n",
      "testing accuracy 0.9338\n",
      "\n",
      "\n",
      "######################################################### AL ROUND 8 mode train : END ##########################################################\n",
      "\n",
      "\n",
      "csvQue /home/melissap/Desktop/LAGO_43integrationDemo/pixano/temp_data/output_queries/queries_9.csv\n",
      "\n",
      "\n",
      "######################################################## AL ROUND 9 mode query : START #########################################################\n",
      "\n",
      "\n",
      "Namespace(mode='query', data_name='MNIST_pixano_v2', n_label='None', n_init_lb=100, n_query=100, data_dir='/home/melissap/_pixano_datasets_/MNIST_pixano_v2', pixano_root='../../pixano', strategy='AlphaMixSampling', round=9, train_out=None, query_out='/home/melissap/Desktop/LAGO_43integrationDemo/pixano/temp_data/output_queries/queries_9.csv', seeds=[1, 10, 100, 1000, 10000], init_lb_method='general_random', log_dir='/home/melissap/Desktop/LAGO_43integrationDemo/pixano/ActiveLearning/alpha_mix_active_learning/_logs', save_checkpoints=False, save_images=False, print_to_file=False, query_growth_ratio=1, n_drop=5, eps=0.05, max_iter=50, alpha_cap=0.03125, alpha_opt=True, alpha_closed_form_approx=True, alpha_learning_rate=0.1, alpha_clf_coef=1.0, alpha_l2_coef=0.01, alpha_learning_iters=5, alpha_learn_batch_size=1000000)\n",
      "args.pixano_root  ../../pixano\n",
      "Loading data ...\n",
      "number of labeled pool: 900\n",
      "number of unlabeled pool: 59100\n",
      "number of validation pool: 0\n",
      "number of testing pool: 10000\n",
      "Data loaded ...\n",
      "Using cuda device.\n",
      "Loading weights mlp_MNIST_pixano_v2_AlphaMixSampling_8_weights.pth\n",
      "MNIST_pixano_v2\n",
      "SEED 1\n",
      "AlphaMixSampling\n",
      "Round 9\n",
      "query budget: 100\n",
      "With alpha_cap set to 0.031250, number of inconsistencies: 308\n",
      "Number of inconsistencies: 308\n",
      "alpha_mean_mean: 1.000000\n",
      "alpha_std_mean: 0.000000\n",
      "alpha_mean_std 0.000000\n"
     ]
    },
    {
     "name": "stderr",
     "output_type": "stream",
     "text": [
      "/home/melissap/miniconda3/envs/customLearner/lib/python3.10/site-packages/sklearn/cluster/_kmeans.py:1416: FutureWarning: The default value of `n_init` will change from 10 to 'auto' in 1.4. Set the value of `n_init` explicitly to suppress the warning\n",
      "  super()._check_params_vs_input(X, default_n_init=10)\n"
     ]
    },
    {
     "name": "stdout",
     "output_type": "stream",
     "text": [
      "number of samples that are misclassified and selected: 100 (100.00%)\n",
      "Log Determinant of the Gram Matrix: 439.502594\n",
      "Signed Log Determinant of the Gram Matrix: 439.502594\n",
      "Confidence: 0.457119\n",
      "Margin: 0.019012\n",
      "Predicted Entropy: 2.247601\n",
      "GT Entropy: nan\n",
      "Border Entropy: 3.273863\n",
      "\n",
      "\n",
      "######################################################### AL ROUND 9 mode query : END ##########################################################\n",
      "\n",
      "\n"
     ]
    },
    {
     "name": "stderr",
     "output_type": "stream",
     "text": [
      "/home/melissap/miniconda3/envs/customLearner/lib/python3.10/site-packages/scipy/stats/_entropy.py:133: RuntimeWarning: divide by zero encountered in divide\n",
      "  pk = 1.0*pk / np.sum(pk, axis=axis, keepdims=True)\n",
      "/home/melissap/miniconda3/envs/customLearner/lib/python3.10/site-packages/scipy/stats/_entropy.py:133: RuntimeWarning: invalid value encountered in divide\n",
      "  pk = 1.0*pk / np.sum(pk, axis=axis, keepdims=True)\n"
     ]
    },
    {
     "name": "stdout",
     "output_type": "stream",
     "text": [
      "Round 9 tagged\n",
      "100 candidates on round 9\n",
      "AutoAnnotator: round 9 annotated.\n",
      "\n",
      "\n",
      "######################################################## AL ROUND 9 mode train : START #########################################################\n",
      "\n",
      "\n",
      "Namespace(mode='train', data_name='MNIST_pixano_v2', n_label='None', n_init_lb=10, n_query=100, data_dir='/home/melissap/_pixano_datasets_/MNIST_pixano_v2', pixano_root='../../pixano', strategy='AlphaMixSampling', round=9, train_out='/home/melissap/Desktop/LAGO_43integrationDemo/pixano/temp_data/output_accuracy/accuracy.csv', query_out='path to the file', seeds=[1, 10, 100, 1000, 10000], init_lb_method='general_random', log_dir='/home/melissap/Desktop/LAGO_43integrationDemo/pixano/ActiveLearning/alpha_mix_active_learning/_logs', save_checkpoints=False, save_images=False, print_to_file=False, query_growth_ratio=1, n_drop=5, eps=0.05, max_iter=50, alpha_cap=0.03125, alpha_opt=False, alpha_closed_form_approx=True, alpha_learning_rate=0.1, alpha_clf_coef=1.0, alpha_l2_coef=0.01, alpha_learning_iters=5, alpha_learn_batch_size=1000000)\n",
      "args.pixano_root  ../../pixano\n",
      "Loading data ...\n",
      "number of labeled pool: 1000\n",
      "number of unlabeled pool: 59000\n",
      "number of validation pool: 0\n",
      "number of testing pool: 10000\n",
      "Data loaded ...\n",
      "Using cuda device.\n",
      "MNIST_pixano_v2\n",
      "SEED 1\n",
      "AlphaMixSampling\n",
      "Adam optimizer...\n",
      "Loading weights mlp_MNIST_pixano_v2_AlphaMixSampling_8_weights.pth\n",
      " Print the weights of the model to ensure that weights are loaded \n",
      "Training started...\n"
     ]
    },
    {
     "name": "stderr",
     "output_type": "stream",
     "text": [
      "  2%|▏         | 2/100 [00:01<01:19,  1.24it/s]"
     ]
    },
    {
     "name": "stdout",
     "output_type": "stream",
     "text": [
      "Reached max accuracy at epoch 2 \n"
     ]
    },
    {
     "name": "stderr",
     "output_type": "stream",
     "text": [
      "  2%|▏         | 2/100 [00:02<01:50,  1.13s/it]\n"
     ]
    },
    {
     "name": "stdout",
     "output_type": "stream",
     "text": [
      "Round 0\n",
      "testing accuracy 0.9377\n",
      "\n",
      "\n",
      "######################################################### AL ROUND 9 mode train : END ##########################################################\n",
      "\n",
      "\n"
     ]
    }
   ],
   "source": [
    "for round in range(num_rounds):\n",
    "    candidates = init_learner.query(round)\n",
    "    init_learner.annotate(round)\n",
    "    init_learner.train(round, epochs=\"nevermind\")"
   ]
  }
 ],
 "metadata": {
  "kernelspec": {
   "display_name": "Python 3.10.13 ('pixano_env3')",
   "language": "python",
   "name": "python3"
  },
  "language_info": {
   "codemirror_mode": {
    "name": "ipython",
    "version": 3
   },
   "file_extension": ".py",
   "mimetype": "text/x-python",
   "name": "python",
   "nbconvert_exporter": "python",
   "pygments_lexer": "ipython3",
   "version": "3.10.13"
  },
  "orig_nbformat": 4,
  "vscode": {
   "interpreter": {
    "hash": "faa21598805a2aeab7a6cebb281d986b89a84993d64c8b80ad12581d75a6a376"
   }
  }
 },
 "nbformat": 4,
 "nbformat_minor": 2
}
